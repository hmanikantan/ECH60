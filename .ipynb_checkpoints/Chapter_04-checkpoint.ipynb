{
 "cells": [
  {
   "cell_type": "markdown",
   "metadata": {},
   "source": [
    "# CHAPTER IV\n",
    "\n",
    "# Systems of Linear Equations\n",
    "&copy; Harishankar Manikantan, maintained on GitHub at [hmanikantan/ECH60](https://github.com/hmanikantan/ECH60) and published under an [MIT license](https://github.com/hmanikantan/ECH60/blob/master/LICENSE).\n",
    "\n",
    "Return to [Course Home Page](https://hmanikantan.github.io/ECH60/)"
   ]
  },
  {
   "cell_type": "markdown",
   "metadata": {},
   "source": [
    "**[(4.1) Elimination Methods](#lineq)**\n",
    "*  [Linear Systems and Computational Cost](#cost1) <br> \n",
    "*  [Gauss Elimination](#Gauss) <br> \n",
    "*  [Pivoting: choosing the right row](#GaussPiv) <br> \n",
    "*  [Gauss-Jordan: Gauss on steroids!](#GaussJ) <br> \n",
    "*  [LU Decomposition](#LU) <br> \n",
    "*  [Computational Cost Revisited](#cost) <br>\n",
    "\n",
    "**[(4.2) Inbuilt Python Routines](#inbuilt)**\n",
    "*  [Solving Linear Systems: linalg.solve](#solve) <br> \n",
    "*  [Fast and Easy Linear Algebra](#linalg) <br> \n",
    "\n",
    "\n",
    "**[Practice problems](#exer)**\n"
   ]
  },
  {
   "cell_type": "markdown",
   "metadata": {},
   "source": [
    "<a id='lineq'></a>\n",
    "\n",
    "\n",
    "\n",
    "## (3.3) Elimination Methods\n",
    "\n",
    "Systems of linear algebraic equations arise in every aspect of engineering calculations. For example, the 'response' and forcing' are linearly realted in heat flow, porous media percolation, electrical circuits, electromagnetism, elasticity theory etc. More generally, numerical methods in later parts of the course (with regression, deifferential equations, etc) rely on being able to 'invert' or solve a set of couple algebraic equations. In many problems, the memory and time requirements can be high (although this might not be immediately obvious with most modern computers), and efficient fast solutions of linear systems can be key to optimally solving these problems.\n",
    "\n",
    "<a id='cost1'></a>\n",
    "\n",
    "\n",
    "\n",
    "### Linear Systems and Computational Cost\n",
    "\n",
    "The standard notation for a system of $n$ equations with $n$ unknowns is as follows (we will use python's numbering system going from 0 to n-1 to avoid confusion):\n",
    "\n",
    "$$\\begin{matrix} A_{00}x_0 + A_{01}x_1 + ... + A_{0,n-1}x_{n-1} = b_0\\\\A_{10}x_0 + A_{11}x_1 + ... + A_{1,n-1}x_{n-1} = b_1 \\\\ .\\\\.\\\\.\\\\A_{n-1,0}x_0 + A_{n-1,1}x_1 + ... + A_{n-1,n-1}x_{n-1} = b_{n-1}\\end{matrix}$$\n",
    "\n",
    "Here, $x_0, x_1, ..., x_{n-1}$ are the n unknown quantities and the coefficients $A_{ij}$ and constants $b_j$ are all known. In matrix notation, this can be rewritten as \n",
    "\n",
    "$$\\begin{bmatrix} A_{00} & A_{01} & ... & A_{0,n-1}\\\\A_{10} & A_{11} & ... & A_{1,n-1} \\\\ . & & &. \\\\. & & \\ddots&. \\\\.& & & .\\\\A_{n-1,0} & A_{n-1,1} & ... & A_{n-1,n-1}\\end{bmatrix} \\begin{bmatrix} x_0 \\\\ x_1 \\\\ .\\\\.\\\\.\\\\ x_{n-1}  \\end{bmatrix}= \\begin{bmatrix} b_0 \\\\ b_1 \\\\ .\\\\.\\\\.\\\\ b_{n-1}  \\end{bmatrix}$$\n",
    "\n",
    "Or, in short hand, ${\\bf A x =b}$. Here, ${\\bf A}$ is a $n \\times n$ matrix with all entries known, ${\\bf b}=(b_0, b_1, ..., b_{n-1}) $ is a column vector with all entries known, and ${\\bf x}=(x_0, x_1, ..., x_{n-1} )$ is a column vector of the unknowns we are after.\n",
    "\n",
    "We know from linear algebra that the solution can be directly obtained by premultipying both side with the matrix inverse of ${\\bf A}$ and noting that ${\\bf A A}^{-1}={\\bf I} $, where ${\\bf I}$ is the identity matrix. This means that ${\\bf x = A}^{-1}{\\bf b}$, and so computing the matrix inverse and performing a matrix-vector operation should give us the solution.\n",
    "\n",
    "However, calculating the inverse of a matrix can be a computationally expensive operation if the matrix is large. Evaluating the determinant of a 2x2 matrix requires 2 multiplication operations and a subtraction. For a 3x3 matrix, the cost is at least 3 times that (associated with picking a row or a column, and evaluating the 2x2 submatrix determinant for each). For a 4x4 matrix, it's at least 4 times that of a 3x3. Working up, the pen-and-paper formula (called the Laplace expansion) of calculating the determinant of a $n \\times n$ matrix is at least $n!$ calculations (plus additions/subtractions etc). And there are even more associated with determining the inverse and then performing the multiplication with the RHS. When we get to numerical solutions of differential equations, we will encounter matrices with hundreds if not thousands of rows and columns, and this operation can be prohibitively long. \n",
    "\n",
    "Fortunately, entire families of 'elimination' algorithms help us circumvent the direct inversion of a matrix. The most common way to solve such a system is by manipulating the system to an equivalent system which is more easily solved. The classic methods that use this trick are Gauss elimination, LU decomposition, and more specific versions of either. Although python has inbuilt routines to efficiently calculate inverses (and we will see these later), it's valuable to learn the algorithmic steps in obtaining the solution to such a standard linear algebraic problem. \n",
    "\n",
    "\n",
    "\n",
    "<a id='Gauss'></a>\n",
    "\n",
    "\n",
    "\n",
    "### Gauss elimination\n",
    "\n",
    "Gauss elimination is the most common and direct way to solve a matrix system. It involves a series of algortihmic manipulations that convert the matrix to a triangular (or 'echelon') form, and then back-substitutes equation by equation to get the final solution. In the following, we will see every step in action, which will help us build the whole Guass elimination code in the end.\n",
    "\n",
    "Consider the system of 3 equations (so n=3):\n",
    "$$\\begin{matrix} 4x_0 -2x_1 + x_2 = 11\\\\-2x_0 + 4x_1 -2x_2 = -16 \\\\x_0 -2x_1 +4x_2 = 17\\end{matrix}$$\n",
    "In matrix form, this system is:\n",
    "$$\\begin{bmatrix} 4 & -2  & 1 \\\\-2 & 4 & -2 \\\\1 & -2 & 4 \\end{bmatrix} \\begin{bmatrix} x_0 \\\\ x_1 \\\\ x_2 \\end{bmatrix} = \\begin{bmatrix} 11 \\\\ -16 \\\\ 17 \\end{bmatrix}$$\n",
    "\n",
    "The objective of Gauss elimination is to somehow convert this matrix to a triangular form using linear transformations of the original matrix, so it looks like\n",
    "\n",
    "$$\\begin{bmatrix} A_{00} & A_{01}  & A_{02} \\\\0 & A_{11} & A_{12} \\\\0 & 0 & A_{22} \\end{bmatrix} \\begin{bmatrix} x_0 \\\\ x_1 \\\\ x_2 \\end{bmatrix} = \\begin{bmatrix} b_0 \\\\ b_1 \\\\ b_2 \\end{bmatrix}$$\n",
    "\n",
    "Note that $b_0$, $b_1$, and $b_2$ are not necessarily same as the original matrix after this conversion. The advantage of this form is evident if we write the converted system back in equation form:\n",
    "$$\\begin{matrix} A_{00}x_0 +A_{01}x_1 + A_{02}x_2 = b_0\\\\A_{11}x_1 +A_{12}x_2 = b_1 \\\\A_{22}x_2 = b_2\\end{matrix}$$\n",
    "\n",
    "Once in this form, solving for $x_2$ is straightforward: $x_2=b_2/A_{22}$. Once $x_2$ is known, solving for $x_1$ is straightforward: $x_1=\\left(b_1-A_{12}x_2 \\right)/A_{11}$. With $x_2$ and $x_1$ known, solving for $x_0$ is straightforward: $x_0=\\left(b_0-A_{01}x_1 - A_{02}x_2\\right)/A_{00}$. For a larger matrix, these steps continue further upward until all unknowns are determined. This process is called back-substitution.\n",
    "\n",
    "So, how do we go about converting any general matrix to this convenient triangular form. It is useful to construct an *augmented* matrix that combines ${\\bf A}$ and ${\\bf b}$ which would then look like:\n",
    "\n",
    "$$\\begin{bmatrix} 4 & -2  & 1 &: & {\\it 11} \\\\-2 & 4 & -2 &: & {\\it -16} \\\\1 & -2 & 4 &: & {\\it 17}\\end{bmatrix} $$\n",
    "\n",
    "Here, the dots and the italicization remind us that the last column is, in fact, the right hand side of the original equations. Let's first import numpy as make an array of this augmented matrix:"
   ]
  },
  {
   "cell_type": "code",
   "execution_count": 24,
   "metadata": {},
   "outputs": [
    {
     "name": "stdout",
     "output_type": "stream",
     "text": [
      "[[  4.  -2.   1.  11.]\n",
      " [ -2.   4.  -2. -16.]\n",
      " [  1.  -2.   4.  17.]]\n"
     ]
    }
   ],
   "source": [
    "import numpy as np\n",
    "\n",
    "Aug=np.array([[4.,-2.,1.,11.],[-2.,4.,-2.,-16.],[1.,-2.,4.,17.]])\n",
    "\n",
    "# use dots to force entries to be floats (or alternatively set the dtype option)\n",
    "# Aug=np.array([[4,-2,1,11],[-2,4,-2,-16],[1,-2,4,17]],dtype=float)\n",
    "\n",
    "print(Aug)"
   ]
  },
  {
   "cell_type": "markdown",
   "metadata": {},
   "source": [
    "Remember that the last column is the right hand side, and is not part of the matrix ${\\bf A}$. The objective is to get zeros in the lower triangular part of the $3 \\times 3$ matrix using linear combinations of any rows. Let's start with the second row. We need to eliminate the first entry in that row (currently -2) and make it a zero. One way to do this is to multiply the first row with 0.5, add it to the second row, and let the result replace the second row. In pseudocode, this would read: $$\\text{row}_1 = \\text{row}_1 + 0.5 (\\text{row}_0)$$\n",
    "The unchanged first row is then called the 'pivot'. In terms of array manipulation, this would be equivalent t0"
   ]
  },
  {
   "cell_type": "code",
   "execution_count": 25,
   "metadata": {},
   "outputs": [
    {
     "name": "stdout",
     "output_type": "stream",
     "text": [
      "[[  4.   -2.    1.   11. ]\n",
      " [  0.    3.   -1.5 -10.5]\n",
      " [  1.   -2.    4.   17. ]]\n"
     ]
    }
   ],
   "source": [
    "Aug[1,:]=Aug[1,:]+0.5*Aug[0,:]\n",
    "print(Aug)"
   ]
  },
  {
   "cell_type": "markdown",
   "metadata": {},
   "source": [
    "Note that the final column, corresponding to the right hand side, is also simultaneously changing in this augmented form. Now let's clear out the first entry in the last row as well, which is currently 1. The transformation that makes this 0 is $$\\text{row}_2 = \\text{row}_2 - 0.25 (\\text{row}_0)$$"
   ]
  },
  {
   "cell_type": "code",
   "execution_count": 26,
   "metadata": {},
   "outputs": [
    {
     "name": "stdout",
     "output_type": "stream",
     "text": [
      "[[  4.    -2.     1.    11.  ]\n",
      " [  0.     3.    -1.5  -10.5 ]\n",
      " [  0.    -1.5    3.75  14.25]]\n"
     ]
    }
   ],
   "source": [
    "Aug[2,:]=Aug[2,:]-0.25*Aug[0,:]\n",
    "print(Aug)"
   ]
  },
  {
   "cell_type": "markdown",
   "metadata": {},
   "source": [
    "We are doing good so far. For this matrix, the next step is to move to the second row as our 'pivot' and use it to eliminate leading 0s in every row below it. Here, that means eliminating the -1.5 in the third row using $$\\text{row}_2 = \\text{row}_2 + 0.5 (\\text{row}_1)$$"
   ]
  },
  {
   "cell_type": "code",
   "execution_count": 27,
   "metadata": {},
   "outputs": [
    {
     "name": "stdout",
     "output_type": "stream",
     "text": [
      "[[  4.   -2.    1.   11. ]\n",
      " [  0.    3.   -1.5 -10.5]\n",
      " [  0.    0.    3.    9. ]]\n"
     ]
    }
   ],
   "source": [
    "Aug[2,:]=Aug[2,:]+0.5*Aug[1,:]\n",
    "print(Aug)"
   ]
  },
  {
   "cell_type": "markdown",
   "metadata": {},
   "source": [
    "And there we have it! The original $3\\times 3$ is in an upper triangular form, and the corresponding RHS is the fourth column of `Aug`. The corresponding modified equation system is\n",
    "\n",
    "$$\\begin{matrix} 4x_0 -2x_1 +x_2 = 11\\\\3 x_1 -1.5x_2 = -10.5 \\\\3x_2 = 9\\end{matrix}$$\n",
    "\n",
    "The backsubstitution phase is then straigtforward. Start with the last row of `Aug` to get $x_2$"
   ]
  },
  {
   "cell_type": "code",
   "execution_count": 28,
   "metadata": {},
   "outputs": [],
   "source": [
    "# first define an array of zeros for x\n",
    "x=np.zeros(3)\n",
    "\n",
    "# x2 from last row\n",
    "x[2]=Aug[2,3]/Aug[2,2]"
   ]
  },
  {
   "cell_type": "markdown",
   "metadata": {},
   "source": [
    "Then sequentially work upward to uncover $x_1$ and then $x_0$"
   ]
  },
  {
   "cell_type": "code",
   "execution_count": 29,
   "metadata": {},
   "outputs": [
    {
     "name": "stdout",
     "output_type": "stream",
     "text": [
      "[ 1. -2.  3.]\n"
     ]
    }
   ],
   "source": [
    "# solve for x1\n",
    "x[1]=(Aug[1,3]-Aug[1,2]*x[2])/Aug[1,1]\n",
    "\n",
    "# then solve for x0\n",
    "x[0]=(Aug[0,3]-Aug[0,1]*x[1]-Aug[0,2]*x[2])/Aug[0,0]\n",
    "\n",
    "# results!\n",
    "print(x)"
   ]
  },
  {
   "cell_type": "markdown",
   "metadata": {},
   "source": [
    "And that's our solution! More generally, we would like our code to figure out for itself what the multipliers (+0.5, -0.25, +0.5 above) in each step were. These multiplier constants are picked so that the entry in the 'current' row becomes zero when added to the scaled 'pivot' row. So we need multiplier constants that are the negative of the entry in the same column in the 'current' row divided by the entry in the 'pivot' row.\n",
    "\n",
    "In the example above, the first multiplier +0.5 was simply `-Aug[1,0]/Aug[0,0]` or -(-2)/4. Using this logic, we can construct a more general Gauss elimination algorithm in one shot that works for any $3 \\times 3$ matrix, and it would look like this:"
   ]
  },
  {
   "cell_type": "code",
   "execution_count": 30,
   "metadata": {},
   "outputs": [
    {
     "name": "stdout",
     "output_type": "stream",
     "text": [
      "[ 1. -2.  3.]\n"
     ]
    }
   ],
   "source": [
    "import numpy as np\n",
    "\n",
    "Aug=np.array([[4,-2,1,11],[-2,4,-2,-16],[1,-2,4,17]],dtype=float)\n",
    "x=np.zeros(3)\n",
    "\n",
    "# find multiplier to eliminate A10, replace row\n",
    "mult_1=-Aug[1,0]/Aug[0,0]\n",
    "Aug[1,:]=Aug[1,:]+mult_1*Aug[0,:]\n",
    "\n",
    "# find multiplier to eliminate A20, replace row\n",
    "mult_2=-Aug[2,0]/Aug[0,0]\n",
    "Aug[2,:]=Aug[2,:]+mult_2*Aug[0,:]\n",
    "\n",
    "# find multiplier to eliminate A21, replace row\n",
    "mult_3=-Aug[2,1]/Aug[1,1]\n",
    "Aug[2,:]=Aug[2,:]+mult_3*Aug[1,:]\n",
    "\n",
    "# back-substitute\n",
    "x[2]=Aug[2,3]/Aug[2,2]\n",
    "x[1]=(Aug[1,3]-Aug[1,2]*x[2])/Aug[1,1]\n",
    "x[0]=(Aug[0,3]-Aug[0,1]*x[1]-Aug[0,2]*x[2])/Aug[0,0]\n",
    "\n",
    "print(x)"
   ]
  },
  {
   "cell_type": "markdown",
   "metadata": {},
   "source": [
    "Change the augmented matrix above to determine solutions to the following system: $$\\begin{matrix} 8x_0 -6x_1 + 2x_2 = 28\\\\-4x_0 + 11x_1 -7x_2 = -40 \\\\4x_0 -7x_1 +6x_2 = 33\\end{matrix}$$\n",
    "\n",
    "Let's build up in generality. Given the ${\\bf A}$ matrix and the the RHS column vector ${\\bf b}$, the augmented matrix can be constructed using the `hstack` (horizontal stack) command:"
   ]
  },
  {
   "cell_type": "code",
   "execution_count": 31,
   "metadata": {},
   "outputs": [
    {
     "name": "stdout",
     "output_type": "stream",
     "text": [
      "[[ 4. -2.  1.]\n",
      " [-2.  4. -2.]\n",
      " [ 1. -2.  4.]]\n",
      "[[ 11]\n",
      " [-16]\n",
      " [ 17]]\n",
      "[[  4.  -2.   1.  11.]\n",
      " [ -2.   4.  -2. -16.]\n",
      " [  1.  -2.   4.  17.]]\n"
     ]
    }
   ],
   "source": [
    "# 3 by 3 matrix\n",
    "A=np.array([[4,-2,1],[-2,4,-2],[1,-2,4]],dtype=float)\n",
    "print(A)\n",
    "\n",
    "# 3 by 1 column vector\n",
    "b=np.array([[11],[-16],[17]])\n",
    "print(b)\n",
    "\n",
    "# horizontally stack\n",
    "Aug=np.hstack((A,b))\n",
    "print(Aug)"
   ]
  },
  {
   "cell_type": "markdown",
   "metadata": {},
   "source": [
    "This is useful to stack the same matrix with multiple possible right-hand sides. Now you have all the ingredients to create a function that will take a $3\\times 3$ matrix and a $3 \\times 1$ vector as inputs, and return the solution of the system as the output. Make this function as an exercise! We will use it over and over again.\n",
    "\n",
    "We will often run into matrices and linear system much bigger than n=3. So the last step in generalizing Gauss elimination is carefully extending the logic to arbitrary matrix size. This requires the additional steps of finding the size of the matrix and running loops to do all the step above, but the core idea is the same. The following algorithmic steps will do the triangular elimination:\n",
    "\n",
    "* determine the size of the system n\n",
    "* stack the RHS\n",
    "* start with the first row as the pivot row\n",
    "* eliminate the first column in every row under the first using the row replacement trick\n",
    "* move to the second row as the pivot row\n",
    "* eliminate the second column in every row under the second using the row replacement trick <br>\n",
    ". <br>\n",
    ". <br>\n",
    ". <br>\n",
    "* repeat until last but one row is the pivot row\n",
    "\n",
    "Notice that this requires a loop to traverse the 'pivot' rows and an loop within a loop (an 'inner' or 'nested' loop) to traverse every row below the pivot row at each step.\n",
    "\n",
    "The following code does this for any matrix with n rows:"
   ]
  },
  {
   "cell_type": "code",
   "execution_count": 32,
   "metadata": {},
   "outputs": [],
   "source": [
    "# define Aug and n first\n",
    "n=len(Aug)\n",
    "for i in range(n-1):\n",
    "    for j in range(i+1,n):\n",
    "        mult=-Aug[j,i]/Aug[i,i]\n",
    "        Aug[j,:]+=mult*Aug[i,:]"
   ]
  },
  {
   "cell_type": "markdown",
   "metadata": {},
   "source": [
    "Use the augmented matrix from one of the examples above (with n=3) to verify that this piece of code does indeed eliminate all lower traingular elements.\n",
    "\n",
    "Then try again with a bigger matrix! Generate an arbitrary matrix filled with random numbers (see tutorial 2) with 10 rows and columns. See if this works.\n",
    "\n",
    "Now that we have a triangular matrix $U$ and a modified RHS $c$ tha can be extracted from the modified augmented matrix, the backsubstitution is straightforward. Comparing with the 3 equation system above, the general formula for $x_i$ where $i$ is between 0 and n-1 working from the bottom up is \n",
    "$$x_i=\\left(c_i - \\sum_{j=i+1}^{n-1} U_{ij}x_j \\right) \\bigg/ U_{ii} $$\n",
    "\n",
    "This has to start from the last row ($i=n-1$) and work up to the first ($i=0$). Recognize that $U$ and $c$ are just parts of the augmnented matrix result from the triangulation. So the corresponding code is:"
   ]
  },
  {
   "cell_type": "code",
   "execution_count": 33,
   "metadata": {},
   "outputs": [],
   "source": [
    "# define a 'blank' x with zeros\n",
    "x=np.zeros(n)\n",
    "\n",
    "for i in range(n-1,-1,-1): # justify why the -1 here?\n",
    "    x[i]=Aug[i,-1]         # and what about the -1 here?\n",
    "    for j in range(i+1,n):\n",
    "        x[i]-=Aug[i,j]*x[j]\n",
    "    x[i]/=Aug[i,i]"
   ]
  },
  {
   "cell_type": "markdown",
   "metadata": {},
   "source": [
    "Verify that this is conjunction with the triangulation code does solve both the $3\\times 3$ matrices above.\n",
    "\n",
    "Now you are ready to write a full function that takes a general square matrix, a column vector, and does all of the following in one shot. **Create this function for future use!** This should do the following:\n",
    "* determine n using `len(b)`\n",
    "* stack to create an augmented matrix\n",
    "* triangulate (do a zero check)\n",
    "* backsubstitute\n",
    "* return the solution of the system!\n",
    "\n",
    "There are a few more optimization one can do. For example, we do not need to create a new variable `x`. We can econonomize on memory storage by simply overwriting the RHS column vector (since it has already taken up computer memory) or the last column of our augmented matrix with our result, and then return it as the solution. Also, we can replace the inner loop in the back-substitution phase with a `dot` operation. Further, if an entry is already zero, we dont need to eliminate it because it's zero to begin with! So we can just skip that replacement step: one way to do this is to put an `if` condition and run the replacement lines only if `A[j,i]!=0.` (notice the float 0. and not the integer 0). And, finally, we can also do all these steps directly on ${\\bf A}$ _and_ ${\\bf b}$ without even creating the augmented matrix: you just have to carefully do all the steps for the corresponding column vector as well. Try any of these enhancements if you are adventurous and verify your result with sample matrices with each change.\n"
   ]
  },
  {
   "cell_type": "code",
   "execution_count": 1,
   "metadata": {},
   "outputs": [],
   "source": [
    "# create a function Gauss(A,b)\n",
    "# input A: n x n matrix\n",
    "# input b: n x 1 column vector\n",
    "# return as output: n x 1 column vector solution of system Ax=b\n"
   ]
  },
  {
   "cell_type": "markdown",
   "metadata": {},
   "source": [
    "<a id='GaussPiv'></a>\n",
    "\n",
    "\n",
    "\n",
    "### Pivoting: choosing the right row\n",
    "\n",
    "Once you have your 'packaged' function `Gauss` ready, we can explore an important situation where the simple Gauss elimination fails. Consider the following system of three variables:\n",
    "$$\\begin{matrix} 2x_0 -x_1= 1\\\\-x_0 + 2x_1 -x_2 = 0 \\\\-x_1 +x_2 = 0\\end{matrix}$$\n",
    "Solving this using your `Gauss` function (the following code assumes that a function of that name has been created and executed before this):"
   ]
  },
  {
   "cell_type": "code",
   "execution_count": 35,
   "metadata": {},
   "outputs": [
    {
     "data": {
      "text/plain": [
       "array([[1.],\n",
       "       [1.],\n",
       "       [1.]])"
      ]
     },
     "execution_count": 35,
     "metadata": {},
     "output_type": "execute_result"
    }
   ],
   "source": [
    "# create matrix and RHS vector\n",
    "C=np.array([[2,-1,0],[-1,2,-1],[0,-1,1]],dtype=float)\n",
    "d=np.array([[1],[0],[0]],dtype=float)\n",
    "\n",
    "# solve\n",
    "Gauss(C,d)"
   ]
  },
  {
   "cell_type": "markdown",
   "metadata": {},
   "source": [
    "The solution is $(1,1,1)$. Now, run the same system but with the order of rows changed:\n",
    "$$\\begin{matrix} -x_1 +x_2 = 0\\\\2x_0 -x_1= 1\\\\-x_0 + 2x_1 -x_2 = 0 \\end{matrix}$$\n",
    "The solution should be the same, because the equations are the same and clearly have a unique solution. But try changin C and d above to this order and see what happens:"
   ]
  },
  {
   "cell_type": "code",
   "execution_count": 36,
   "metadata": {},
   "outputs": [
    {
     "name": "stderr",
     "output_type": "stream",
     "text": [
      "/Users/harishankar/opt/anaconda3/lib/python3.7/site-packages/ipykernel_launcher.py:14: RuntimeWarning: divide by zero encountered in double_scalars\n",
      "  \n",
      "/Users/harishankar/opt/anaconda3/lib/python3.7/site-packages/ipykernel_launcher.py:15: RuntimeWarning: invalid value encountered in multiply\n",
      "  from ipykernel import kernelapp as app\n",
      "/Users/harishankar/opt/anaconda3/lib/python3.7/site-packages/ipykernel_launcher.py:14: RuntimeWarning: invalid value encountered in double_scalars\n",
      "  \n"
     ]
    },
    {
     "data": {
      "text/plain": [
       "array([[nan],\n",
       "       [nan],\n",
       "       [nan]])"
      ]
     },
     "execution_count": 36,
     "metadata": {},
     "output_type": "execute_result"
    }
   ],
   "source": [
    "# same system, row order changed\n",
    "C=np.array([[0,-1,1],[2,-1,0],[-1,2,-1]],dtype=float)\n",
    "d=np.array([[0],[1],[0]],dtype=float)\n",
    "\n",
    "# solve\n",
    "Gauss(C,d)"
   ]
  },
  {
   "cell_type": "markdown",
   "metadata": {},
   "source": [
    "You get error warnings. And the results are `nan`, which is computer lingo for Not A Number.\n",
    "\n",
    "If you think carefully, the only (seemingly harmless) change between the two cases is that the second version has a matrix with a 0 in the diagonal. And Gauss elimination repeatedly uses a division by diagonal elements in the pivot row to determine the 'multiplier' for every row below it. And this division by zero gives the error.\n",
    "\n",
    "This is where choosing the pivot row becomes crucial. We have to be prepared for a matrix to have terms on the diagonal and preemptively avoid this error. The trick then is to first check if the diagonal entry in the reference or pivot row is 0, and if it is, swap that row with any row beloe it that does not have a zero along that column. And the corresponding RHS would swap too. The system of equations remains the same, but the order of pivoting changes. Try this as a practice problem, and develop a modified version of Gauss elimination called `GaussPiv(A,b)`. Then \n",
    "\n",
    "\n",
    "This is where choosing the pivot row becomes crucial. The trick then is to first check if the diagonal entry in the reference or pivot row is 0, and if it is, swap that row with any row below it that does not have a zero along that column. Try this as a practice problem:"
   ]
  },
  {
   "cell_type": "code",
   "execution_count": 37,
   "metadata": {},
   "outputs": [],
   "source": [
    "# create a function GaussPiv(A,b)\n",
    "# input A: n x n matrix\n",
    "# input b: n x 1 column vector\n",
    "# return as output: n x 1 column vector solution of system Ax=b\n",
    "# must use a pivot row swap if diagonal entry is 0\n",
    "\n"
   ]
  },
  {
   "cell_type": "markdown",
   "metadata": {},
   "source": [
    "Then, solve the troublesome system from before using your `GaussPiv` function (the following code assumes that a function of that name has been executed before this):"
   ]
  },
  {
   "cell_type": "code",
   "execution_count": 38,
   "metadata": {},
   "outputs": [
    {
     "data": {
      "text/plain": [
       "array([[1.],\n",
       "       [1.],\n",
       "       [1.]])"
      ]
     },
     "execution_count": 38,
     "metadata": {},
     "output_type": "execute_result"
    }
   ],
   "source": [
    "# same system, row order changed\n",
    "C=np.array([[0,-1,1],[2,-1,0],[-1,2,-1]],dtype=float)\n",
    "d=np.array([[0],[1],[0]],dtype=float)\n",
    "\n",
    "# solve using pivoted version\n",
    "GaussPiv(C,d)"
   ]
  },
  {
   "cell_type": "markdown",
   "metadata": {},
   "source": [
    "If you swap your pivot row correctly, you should not find an error. And the solution should be the same as before!"
   ]
  },
  {
   "cell_type": "markdown",
   "metadata": {},
   "source": [
    "<a id='GaussJ'></a>\n",
    "\n",
    "\n",
    "\n",
    "### Gauss-Jordan: Gauss elimination on steroids!\n",
    "\n",
    "A common variant of Gauss elimination is the Gauss-Jordan method. Here, the idea is that you don't just eliminate the lower triangular entries, but keep going and do the same for the upper triangle as well. That would leave us with just the diagonal entries being non-zero. Additionally, if we normalize the pivot row with the diagonal entry (meaning divide the entire row by the diagonal entry), the final resultant matrix will only have diagonal entries and all of them will be 1. This is the identity matrix!\n",
    "\n",
    "In other words, the aim of the Gauss-Jordan methdod is to get the augmented system to looks like this (shown here for a $3 \\times 3$ system):\n",
    "$$\\begin{bmatrix} 1 & 0  & 0 &: & {\\it c_0} \\\\0 & 1 & 0 &: & {\\it c_1} \\\\0& 0 &  1&: & {\\it c_2}\\end{bmatrix} $$\n",
    "\n",
    "Then, reverting back to the equation form tells us that this simply means $x_0=c_0$, $x_1=c_1$, and $x_2=c_2$. So the Gauss-Jordan method avoids having to back-substitute by going on with row replacements until you obtain a diagonal matrix. You can do this with minor modifications to your pivoted Gauss code above. Make this function:"
   ]
  },
  {
   "cell_type": "code",
   "execution_count": 39,
   "metadata": {},
   "outputs": [],
   "source": [
    "# create a function GaussJ(A,b) for Gauss-Jordan elimination\n",
    "# input A: n x n matrix\n",
    "# input b: n x 1 column vector\n",
    "# return as output: n x 1 column vector solution of system Ax=b\n",
    "# must use a pivot row swap if diagonal entry is 0\n",
    "\n"
   ]
  },
  {
   "cell_type": "markdown",
   "metadata": {},
   "source": [
    "<a id='LU'></a>\n",
    "\n",
    "\n",
    "\n",
    "### LU Decomposition\n",
    "\n",
    "There are other methods along the same vein as Gauss elimination with slight differences, advantages and disadvantages. And we can adapt these methods to do more genral linear algebraical opertaions like caclculating inverses and determinants. We will explore some examples in the practice problems. For others, see the recommended reading book. The differences between methods is mostly imperceivable for our current uses, but even microseconds of speed gain in computation can add up if you have 1000 x 1000 matrices, or if you have to do repeated matrix calculations as a function of time etc.  \n",
    "\n",
    "A common one is the LU decomposition which finds a separate lower triangular matrix ${\\bf L}$ and upper triangular matrix ${\\bf U}$ such that ${\\bf LU}={\\bf A}$. Then, our matrix system ${\\bf Ax}={\\bf b}$ can be rewritten as \n",
    "\n",
    "$${\\bf LUx}={\\bf b} \\quad \\Rightarrow \\quad {\\bf L y}={\\bf b} \\quad \\& \\quad {\\bf Ux}={\\bf y}.$$\n",
    "\n",
    "The idea then is that ${\\bf y}$ can be solved by forward-substituting using ${\\bf L}$ and ${\\bf b}$, and then ${\\bf x}$ can be determined by back-substituting using ${\\bf U}$ and ${\\bf y}$. Using what we know of Gauss elimination, we can easily develop an LU routine (see the reference by Jaan Kiusalaas for an example code).\n",
    "\n",
    "While this may seem like twice the effort, the benefit is that the LU decomposition works only on the matrix ${\\bf A}$ and not on the augmented matrix ${\\bf A}|{\\bf b}$. So the LU operation is independent of ${\\bf b}$. This is good if we need to solve the same equation system for a changing right-hand side (e.g. a time varying RHS, a different forcing etc). By decoupling the RHS, the LU decomposition is beneficial in these cases because the same ${\\bf L}$ and ${\\bf U}$ can be used for different column values ${\\bf b}$, thereby saving net computational effort. This is unlike the standard Gauss methods where every ${\\bf b}$ has to be manipulated separately.\n",
    "\n"
   ]
  },
  {
   "cell_type": "markdown",
   "metadata": {},
   "source": [
    "\n",
    "\n",
    "<a id='cost'></a>\n",
    "\n",
    "\n",
    "\n",
    "### Computational Cost\n",
    "\n",
    "\n",
    "This brings us to a few comments on computational 'cost', which is a measure of the time required by a processor to perform a calculation. Why did we not develop an algorithm to first determine the inverse of a matrix and then simply multiply it with the RHS? After all, isn't that what we learn in linear algebra classes? The inverse can be calculated using the standard formula (for each element, find the submatrix, find determinant, etc etc...). \n",
    "\n",
    "The reason is that matrix manipulations and inversions are notoriously 'expensive' monstrous operations. Evaluating the determinant of a 2x2 matrix requires 2 multiplication operations and a subtraction. For a 3x3 matrix, the cost is at least 3 times that (associated with picking a row or a column, and evaluating the 2x2 submatrix determinant for each). For a 4x4 matrix, it's at least 4 times that of a 3x3. Working up, the pen-and-paper formula (called the Laplace expansion) of calculating the determinant of a $n \\times n$ matrix is at least $n!$ calculations (plus additions/subtractions etc). And there are even more associated with determining the inverse and then performing the multiplication with the RHS.\n",
    "\n",
    "By contrast, Gauss elimination (and it's relatives: Gauss-Jordan, LU, etc) requires an outer loop through n entries, an inner loop through n or fewer entries, and row substitutions of at most n entries, giving a total of around $n^3$ operations. Although these are estimates of the number of operations, we can get a good sense of how they scale by plotting and comparing $n^3$ and $n!$:"
   ]
  },
  {
   "cell_type": "code",
   "execution_count": 4,
   "metadata": {
    "scrolled": true
   },
   "outputs": [
    {
     "data": {
      "image/png": "[encoded data removed]",
      "text/plain": [
       "<Figure size 432x288 with 1 Axes>"
      ]
     },
     "metadata": {
      "needs_background": "light"
     },
     "output_type": "display_data"
    }
   ],
   "source": [
    "import matplotlib.pyplot as plt\n",
    "import scipy.special as sp # for easy factorial in vectorized form\n",
    "\n",
    "cost_elim=lambda n: n**3\n",
    "cost_direct=lambda n: sp.factorial(n)\n",
    "\n",
    "n=np.linspace(1,20,100)\n",
    "plt.semilogy(n,cost_elim(n),'g',label='Elimination: $O(n^3)$')\n",
    "plt.semilogy(n,cost_direct(n),'r',label='Direct: $O(n!)$')\n",
    "plt.legend(loc='upper left')\n",
    "plt.xlabel('system size, n')\n",
    "plt.ylabel('approximate number of operations')\n",
    "\n",
    "plt.show()"
   ]
  },
  {
   "cell_type": "markdown",
   "metadata": {},
   "source": [
    "The disastrous scalability of the direct method is evident! A 100 x 100 matrix is fairly common in calculus problems (in later weeks). Naively calculating the inverse using the pen-and-paper algorithm that we learn in linear algebra classes would take over $100!\\approx 10^{157}$ operations. Even with modern superfast computers, these are astronomically long times. However, Gauss elimination and related methods take roughly $100^3=1000000$ operations, which a modern laptop can easily do in a few seconds.\n",
    "\n",
    "So, to summarize: always use elimination methods for big matrix problems. NEVER INVERT DIRECTLY. We will learn how to cleverly use elimination strategies to determine the inverse (if you needed to) in the practice problems."
   ]
  },
  {
   "cell_type": "markdown",
   "metadata": {},
   "source": [
    "<a id='inbuilt'></a>\n",
    "\n",
    "\n",
    "\n",
    "## (4.2) Inbuilt Python Routines\n",
    "\n",
    "By now, we know enough about python to not be surprised to learn that many of these functions are available in efficiently packaged forms that we can directly use. We briefly saw in Chapter 2 that `numpy` has a submodule `linalg` for linear algebra. This submodule contains a whole range of convenient linear algebra tools, including solutions of linear systems of equations.\n",
    "\n",
    "<a id='solve'></a>\n",
    "\n",
    "\n",
    "\n",
    "### Solving Linear Systems: `linalg.solve`"
   ]
  },
  {
   "cell_type": "code",
   "execution_count": 1,
   "metadata": {},
   "outputs": [
    {
     "name": "stdout",
     "output_type": "stream",
     "text": [
      "[[ 1.]\n",
      " [-2.]\n",
      " [ 3.]]\n"
     ]
    }
   ],
   "source": [
    "import numpy as np\n",
    "import numpy.linalg as la\n",
    "\n",
    "A=np.array([[4,-2,1],[-2,4,-2],[1,-2,4]],dtype=float)\n",
    "b=np.array([[11],[-16],[17]])\n",
    "\n",
    "x=la.solve(A,b)\n",
    "print(x)"
   ]
  },
  {
   "cell_type": "markdown",
   "metadata": {},
   "source": [
    "This is a convenient 'black-box' approach, meaning we don't know what's happening inside the `solve` routine. Our home-made functions `GaussPiv` or `GaussJ` would do the same thing at about the same practical efficiency and speed, and by now you we every step in the process. "
   ]
  },
  {
   "cell_type": "markdown",
   "metadata": {},
   "source": [
    "<a id='linalg'></a>\n",
    "\n",
    "\n",
    "\n",
    "### Fast and Easy Linear Algebra\n",
    "\n",
    "`numpy.linalg.solve` contains other useful functions. For example, finding the inverse of a matrix is closely related to elimination: see practice problem 4 to develop your own function to evaluate the inverse of a matrix. The inbuilt function `inv` does the same job:"
   ]
  },
  {
   "cell_type": "code",
   "execution_count": 2,
   "metadata": {},
   "outputs": [
    {
     "data": {
      "text/plain": [
       "array([[0.33333333, 0.16666667, 0.        ],\n",
       "       [0.16666667, 0.41666667, 0.16666667],\n",
       "       [0.        , 0.16666667, 0.33333333]])"
      ]
     },
     "execution_count": 2,
     "metadata": {},
     "output_type": "execute_result"
    }
   ],
   "source": [
    "la.inv(A)"
   ]
  },
  {
   "cell_type": "markdown",
   "metadata": {},
   "source": [
    "Another useful inbuilt function in this submodule is `eig`: it returns the eigenvalues (as a row vector) and the eigenvectors packed into a matrix (so that each column is the corresponding eigenvector):"
   ]
  },
  {
   "cell_type": "code",
   "execution_count": 3,
   "metadata": {},
   "outputs": [
    {
     "data": {
      "text/plain": [
       "(array([7.37228132, 3.        , 1.62771868]),\n",
       " array([[-5.41774320e-01,  7.07106781e-01,  4.54401349e-01],\n",
       "        [ 6.42620551e-01,  2.51964435e-16,  7.66184591e-01],\n",
       "        [-5.41774320e-01, -7.07106781e-01,  4.54401349e-01]]))"
      ]
     },
     "execution_count": 3,
     "metadata": {},
     "output_type": "execute_result"
    }
   ],
   "source": [
    "la.eig(A)"
   ]
  },
  {
   "cell_type": "markdown",
   "metadata": {},
   "source": [
    "`linalg` also has inbuilt functions to evaluate common matrix manipulations like QR decomposition, singular-value decomposition, Cholesky decomposition, determinants, and norms. Details and usage can be found at the [official numpy documentation](https://numpy.org/doc/stable/reference/routines.linalg.html)."
   ]
  },
  {
   "cell_type": "code",
   "execution_count": null,
   "metadata": {},
   "outputs": [],
   "source": []
  },
  {
   "cell_type": "markdown",
   "metadata": {},
   "source": [
    "\n",
    "<a id='exer'></a>\n",
    "\n",
    "\n",
    "\n",
    "## Practice Problems\n",
    "\n",
    "(1,2) As described in the tutorial text, create packaged functions for Gauss elimination with pivoting, and the Gauss-Jordan elimination. These functions should take an $n \\times n$ matrix and an $n \\times 1$ column vector as input, and give the solution to the linear system as output.\n",
    "\n",
    "Some linear systems have no solution or infinite solutions (recall Cramer's rule from linear algebra). How would you check for these cases and prevent a singular solution?"
   ]
  },
  {
   "cell_type": "code",
   "execution_count": 43,
   "metadata": {},
   "outputs": [],
   "source": [
    "# Gauss with pivoting"
   ]
  },
  {
   "cell_type": "code",
   "execution_count": 44,
   "metadata": {},
   "outputs": [],
   "source": [
    "# Gauss-Jordan"
   ]
  },
  {
   "cell_type": "markdown",
   "metadata": {},
   "source": [
    "(3) A common matrix type that comes up in solving boundary-value problems (week 9/10) are banded systems. These matrices only have terms along specific diagonal 'bands'. The simplest is the [tridiagonal matrix](https://en.wikipedia.org/wiki/Tridiagonal_matrix), in which the only non-zero entries are along the main diagonal and the adjacent diagonal lines:\n",
    "$$\\begin{bmatrix} t_{00} & t_{01} &  &  & \\\\ t_{10}& t_{11} & t_{12} & &  \\\\ & t_{21} & \\ddots &\\ddots& \\\\& & \\ddots & \\ddots &t_{n-2,n-1} \\\\& &  & t_{n-1,n-2} &t_{n-1,n-1}\\end{bmatrix} \\begin{bmatrix} x_0 \\\\ x_1 \\\\ .\\\\.\\\\.\\\\ x_{n-1}  \\end{bmatrix}= \\begin{bmatrix} b_0 \\\\ b_1 \\\\ .\\\\.\\\\.\\\\ b_{n-1}  \\end{bmatrix}$$\n",
    "\n",
    "Running loops through row and columns filled mostly with zeros is inefficient, so adapt the Gauss-Jordan elimination to only have to loop through the three diagonal lines. \n",
    "\n",
    "_Non-coding assignment: Try to roughly estimate the computational cost of such a tridiagonal solver. How much faster would this code ideally be for a $100 \\times 100$ tridiagonal matrix compared to standard Gauss-Jordan elimination_"
   ]
  },
  {
   "cell_type": "code",
   "execution_count": 45,
   "metadata": {},
   "outputs": [],
   "source": [
    "# Tridiag solver"
   ]
  },
  {
   "cell_type": "markdown",
   "metadata": {},
   "source": [
    "(4) How would you evaluate the inverse of a $3\\times 3$ matrix using three calls to the Gauss-Jordan function. Remember that naively calculating the determinant (which is required for the 'standard' method to find the inverse) is computationally expensive. Think about what the definition of the inverse of a matrix and how it relates to the identity matrix. Could you recast this definition as three different linear systems...?"
   ]
  },
  {
   "cell_type": "code",
   "execution_count": null,
   "metadata": {},
   "outputs": [],
   "source": []
  },
  {
   "cell_type": "markdown",
   "metadata": {},
   "source": [
    "(5) Use a simple $3 \\times 3$ matrix to perform every step of the Gauss-Jordan elimination manually, and keep track of how the determinant of the matrix changes with each step. Using this knowledge, how would you code a function that calculates the determinant as you go throught the elimination process?\n",
    "\n",
    "How does row swapping (or pivoting) affect the determinant?"
   ]
  },
  {
   "cell_type": "code",
   "execution_count": null,
   "metadata": {},
   "outputs": [],
   "source": []
  }
 ],
 "metadata": {
  "kernelspec": {
   "display_name": "Python 3",
   "language": "python",
   "name": "python3"
  },
  "language_info": {
   "codemirror_mode": {
    "name": "ipython",
    "version": 3
   },
   "file_extension": ".py",
   "mimetype": "text/x-python",
   "name": "python",
   "nbconvert_exporter": "python",
   "pygments_lexer": "ipython3",
   "version": "3.7.6"
  }
 },
 "nbformat": 4,
 "nbformat_minor": 4
}
