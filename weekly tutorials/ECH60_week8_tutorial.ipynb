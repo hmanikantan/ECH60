{
 "cells": [
  {
   "cell_type": "markdown",
   "metadata": {},
   "source": [
    "# ECH 60 Spring 2020 week 8\n",
    "&copy; Harishankar Manikantan, Chemical Engineering, UC Davis "
   ]
  },
  {
   "cell_type": "markdown",
   "metadata": {},
   "source": [
    "**[(8.1) Integrals as Finite Sums](#sums) (Monday, Wednesday)**\n",
    "*  [Rectangle methods or Riemann sums](#rectangle) <br>\n",
    "*  [Taylor series expansions and truncation errors](#taylor) <br>\n",
    "*  [Trapezoidal rule](#trapz) <br>\n",
    "*  [Simpson's rule ](#simpson)\n",
    "\n",
    "**[(8.2) More Integration Strategies](#more) (Friday)**\n",
    "*  [Multidimensional integrals](#multi) <br>\n",
    "*  [Python inbuilt routines](#inbuilt) <br>\n",
    "\n",
    "**[Practice problems](#exer)**\n",
    "\n"
   ]
  },
  {
   "cell_type": "markdown",
   "metadata": {},
   "source": [
    "<a id='sums'></a>\n",
    "\n",
    "\n",
    "\n",
    "## (8.1) Integrals as Finite Sums\n",
    "\n",
    "Integration gives a cumulative measure of the data or function. With time dependent functions (like velocity), integration gives the sum of small bits of the function added up at every step of the independent variable (so adding up velocity times time at every instant gives total distance travelled). With spatially-varying functions (like concentration or density, ...), integration gives the total valiue over a specified range (total number of molecules, total mass etc, ...). Geometrically, integration provides the area under a curve. In analogy with finite differences to approximate derivatives, we can think of finite 'sums' to add up bits at every point to get the total area or the total integral.\n",
    "\n",
    "We know how to analytically obtain integrals of simple functions. But, much like differentiation, some functions are too complicated (or even impossible) to integrate by hand and require a numerical approach to approximate. Similarly, discrete measurement or data points can be integrated numerically using finite sums without knowing the functional relationship between the dependent and independent variables.\n",
    "\n",
    "<a id='rectangle'></a>\n",
    "\n",
    "\n",
    "\n",
    "###  Rectangle methods or Riemann sums\n",
    "\n",
    "Given the function $y(x)=x^3$, can we *numerically* find the integral between $x=2$ and $x=4$? We know that \n",
    "\n",
    "$$ \\int_2^4 x^3 \\,dx = \\left. \\frac{x^4}{4}\\, \\right|_{x=2}^{x=4} = \\frac{4^4-2^4}{4} = 60. $$\n",
    "\n",
    "However, as is often the case with real measurements and data sets or complicated functions, let's say we did not know the exact integral formula. What could we do?"
   ]
  },
  {
   "cell_type": "markdown",
   "metadata": {},
   "source": [
    "First, think of relationship between the function $y(x)$ and its indefinite integral $Y(x)$: by the fundamental theorem of calculus, $y(x)$ is the derivative of $Y(x)$ and so\n",
    "\n",
    "$$ y(x)=\\frac{dY}{dx}  = \\lim_{h \\to 0} \\frac{Y(x+h)-Y(x)}{h} $$\n",
    "\n",
    "This means that if we choose a small enough gap size $h$, we can rearrange to find the *definite* integral between $Y(x)$ and $Y(x+h)$ as \n",
    "\n",
    "$$ \\int_x^{x+h} y \\,dx=Y(x+h) - Y(x) = h \\, y(x).$$\n",
    "\n",
    "Of course, this only works if $h\\rightarrow 0$. What if we wanted to integrate across a bigger range like $x\\in[a,b]$, like in the example above from $x=2$ to $x=3$?\n",
    "\n",
    "The simplest way to do this is by breaking up the range $[a,b]$ into small chunks $[a,a+h], [a+h,a+2h], \\ldots$, each of width $h$, and performing the above operation for each bit, and to add them all up:\n",
    "\n",
    "$$ Y(b) - Y(a) = \\left[ Y(a+h) - Y(a) \\right] + \\left[ Y(a+2h) - Y(a+h) \\right] + \\left[ Y(a+3h) - Y(a+2h) \\right] + \\ldots + \\left[ Y(b) - Y(b-h) \\right] $$\n",
    "\n",
    "And each of these tiny chunks (becasue $h$ is small) can be done using the previous step, to give\n",
    "\n",
    "$$ Y(b) - Y(a)= h \\,y(a) + h\\,y(a+h) + h\\,y(a+2h) + \\ldots + h\\,y(b-h)   $$\n",
    "\n",
    "In other words, the definite integral is simply the sum of the functional value evaluated at intermediate points (including the lower limit $a$ but excluding the upper limit $b$), each weighted by $h$. This is the exact analog of the forward difference formula for derivatives: each 'slice' is now a rectangle with the functional value at the current point as the height and the distance to the forward point as the width. This approximation to integration is called the *left rectangle method* or the *left Riemann sum*.\n",
    "\n",
    "And clearly, the results is more accurate if we choose a smaller $h$. Let's try this:"
   ]
  },
  {
   "cell_type": "code",
   "execution_count": 23,
   "metadata": {},
   "outputs": [
    {
     "name": "stdout",
     "output_type": "stream",
     "text": [
      "Approximate integral with a gap size of 0.1000 is 57.2300\n"
     ]
    }
   ],
   "source": [
    "import numpy as np\n",
    "\n",
    "# function\n",
    "y=lambda x: x**3\n",
    "\n",
    "# integral boundaries\n",
    "a=2\n",
    "b=4\n",
    "\n",
    "# h is difference between current and next time\n",
    "h=0.1\n",
    "\n",
    "# create an array of intermediate points with spacing h\n",
    "# include a, exclude b\n",
    "x=np.arange(a,b,h)\n",
    "\n",
    "# perform sum all bits\n",
    "Y=sum(h*y(x))\n",
    "\n",
    "print('Approximate integral with a gap size of %.4f is %.4f' %(h,Y))"
   ]
  },
  {
   "cell_type": "markdown",
   "metadata": {},
   "source": [
    "Try smaller values of $h$ to get a better approximate (remember, we know the exact integral to be $60$ in this case).\n",
    "\n",
    "And, much like finite differences, we are not restricted to 'forward' pieces. We can equally well create 'backward' or 'central' rectangles. For backward rectangles, the very first slice would be $h f(a+h)$ and continue on until the last slice $h f(b)$ : this time, the lower limit is not included and upper limit is. This is called the *right rectangle method* or the *right Riemann sum*.\n",
    "\n",
    "For the analog of central differences, we can use rectangular slices with same width $h$ but height evaluated halfway between the $x$ points. This approach is called the *mid-point Riemann sum* or simply the *mid-point* method. This essentially ends up summing from $h f(a+h/2)$ all the way until $h f(b-h/2)$. \n",
    "\n",
    "Let's compare the three methods:"
   ]
  },
  {
   "cell_type": "code",
   "execution_count": 24,
   "metadata": {
    "scrolled": true
   },
   "outputs": [
    {
     "name": "stdout",
     "output_type": "stream",
     "text": [
      "Forward rectangles with a gap size of 0.1000 is 57.2300\n",
      "Backward rectangles with a gap size of 0.1000 is 62.8300\n",
      "Central rectangles with a gap size of 0.1000 is 59.9850\n"
     ]
    }
   ],
   "source": [
    "h=0.1\n",
    "\n",
    "# forward rectangles or left point method: include a, exclude b\n",
    "x_fwd=np.arange(a,b,h)\n",
    "# backward rectangles or right point method: exclude a, include b\n",
    "x_bwd=np.arange(a+h,b+h,h)\n",
    "# central rectangles: exclude a and b, include all mid-points\n",
    "x_cen=np.arange(a+h/2,b,h)\n",
    "\n",
    "# perform sums in each case\n",
    "Y_fwd=sum(h*y(x_fwd))\n",
    "Y_bwd=sum(h*y(x_bwd))\n",
    "Y_cen=sum(h*y(x_cen))\n",
    "\n",
    "print('Forward rectangles with a gap size of %.4f is %.4f' %(h,Y_fwd))\n",
    "print('Backward rectangles with a gap size of %.4f is %.4f' %(h,Y_bwd))\n",
    "print('Central rectangles with a gap size of %.4f is %.4f' %(h,Y_cen))"
   ]
  },
  {
   "cell_type": "markdown",
   "metadata": {},
   "source": [
    "Like with finite differences, the central (or mid-point) rectangles give a more accurate result for a fixed gap size. Reducing the gap size improves all methods, but the mid-point method is always more accurate."
   ]
  },
  {
   "cell_type": "markdown",
   "metadata": {},
   "source": [
    "\n",
    "\n",
    "\n",
    "<a id='taylor'></a>\n",
    "\n",
    "\n",
    "\n",
    "### Taylor series expansions and truncation errors\n",
    "\n",
    "Like before, Taylor series approximations can quantify errors associated with numerical integration methods. We can then write out the Taylor series expansion of the value of the function at any arbitrary point $x$ around the left point $x_i$ as:\n",
    "\n",
    "$$  f(x) = f(x_i) + (x-x_i) f'(x_{i}) + \\frac{(x-x_i)^2}{2!} f''(x_{i}) +  \\frac{(x-x_i)^3}{3!} f'''(x_{i}) + \\ldots $$\n",
    "\n",
    "Which means that the integral is \n",
    "$$\\int_{x_i}^{x_{i}+h} f(x) \\,dx  = \\int_{x_i}^{x_{i}+h} f(x_i)\\,dx+ \\int_{x_i}^{x_{i}+h} (x-x_i) f'(x_{i})\\,dx+\\int_{x_i}^{x_{i}+h} \\frac{(x-x_i)^2}{2!} f''(x_{i})\\,dx+ \\ldots $$\n",
    "\n",
    "Each integrand contains values of functions (or derivatives) evaluated at a point and are therefore constant. Pulling those out of the integral and simplifying gives:\n",
    "\n",
    "$$\\int_{x_i}^{x_{i}+h} f(x) \\,dx  = h f(x_i) + \\frac{h^2}{2} f'(x_{i}) + \\frac{h^3}{6} f''(x_{i})\\,dx+ \\ldots $$\n",
    "\n",
    "If $h$ is small, we can truncate after the first term to get\n",
    "\n",
    "$$\\int_{x_i}^{x_{i}+h} f(x) \\,dx  = h f(x_i) + O(h^2) $$\n",
    "\n",
    "The forward or 'left' rectangle method is therefore second-order accurate in each interval. However, remember that an integral is the *sum* of multiple such intervals. Smaller $h$ also means that there are more intervals to sum over since there are a total of $(b-a)/h$ number of intervals. So, to get a sense of the total error, we have to multiply the indidual interval error by $(b-a)/h$, which tells us that the method is $O(h)$ or first-order accurate when summed over the entire integration interval.\n",
    "\n",
    "Try the same math with the backward or 'right' rectangle method. What do you expect the order of accuracy to be?\n",
    "\n",
    "\n",
    "For the mid-point method, writing out the Taylor series expansion of the value of the function at any arbitrary point $x$ around the mid-point $x_i+h/2$ gives:\n",
    "\n",
    "$$  f(x) = f(x_i+h/2) + (x-x_i-h/2) f'(x_{i}) + \\frac{(x-x_i-h/2)^2}{2!} f''(x_{i}+h/2) +  \\frac{(x-x_i-h/2)^3}{3!} f'''(x_{i}+h/2) + \\ldots $$\n",
    "\n",
    "Which means that the integral in one interval is \n",
    "\n",
    "$$\\int_{x_i}^{x_{i}+h} f(x) \\,dx  = \\int_{x_i}^{x_{i}+h} f(x_i+h/2)\\,dx+ \\int_{x_i}^{x_{i}+h} (x-x_i-h/2) f'(x_{i}+h/2)\\,dx+\\int_{x_i}^{x_{i}+h} \\frac{(x-x_i-h/2)^2}{2!} f''(x_{i}+h/2)\\,dx+ \\ldots $$\n",
    "\n",
    "Simplifying term by term gives (do this integration by hand, convince yourself that the coefficients are correct):\n",
    "\n",
    "$$\\int_{x_i}^{x_{i}+h} f(x) \\,dx  = h f(x_i+h/2) +\\frac{h^3}{24} f''(x_{i}+h/2)+ \\ldots $$\n",
    "\n",
    "Importantly, the term proportional to $h^2$ cancels out because the limits are on either side of and equidistant from the mid-point. This means that truncating after the first term gives\n",
    "\n",
    "$$\\int_{x_i}^{x_{i}+h} f(x) \\,dx  = h f(x_i+h/2) + O(h^3) $$\n",
    "\n",
    "The mid-point rectangle method is therefore *third-order* accurate in each interval. Following the same logic as above, and recognizing that there are $O(1/h)$ such intervals over which errors add up, we can say that the total integral is *secon-order* accurate. Like with finite differences, the central differences therefore gives a better accuracy for a given choice of gap size.\n",
    "\n",
    "The following code takes any user-defined function and integration limits to give the definite integral to *global* second-order accuracy in grid size (which is set to a thousandth of the difference between limits, and can be changed as needed or even taken as an input to the function ...):"
   ]
  },
  {
   "cell_type": "code",
   "execution_count": 31,
   "metadata": {},
   "outputs": [],
   "source": [
    "def func_integ(f,a,b):\n",
    "    h=(b-a)/1000\n",
    "    \n",
    "    # generate array midpoints\n",
    "    x_cen=np.arange(a+h/2,b,h)\n",
    "    \n",
    "    # integral as weighted sum\n",
    "    Y_cen=sum(h*y(x_cen))\n",
    "    \n",
    "    return Y_cen"
   ]
  },
  {
   "cell_type": "code",
   "execution_count": 35,
   "metadata": {},
   "outputs": [
    {
     "data": {
      "text/plain": [
       "59.99999399999255"
      ]
     },
     "execution_count": 35,
     "metadata": {},
     "output_type": "execute_result"
    }
   ],
   "source": [
    "func_integ(y,2,4)"
   ]
  },
  {
   "cell_type": "markdown",
   "metadata": {},
   "source": [
    "<a id='trapz'></a>\n",
    "\n",
    "\n",
    "\n",
    "### Trapezoidal rule\n",
    "\n",
    "\n",
    "The idea of the mid-point method can be directl extended to discrete sets of data. Since we do not have the functional form for a given/measured/simulated data set, the functional value at each mid-point is estimated as the average of the functional values at the edges of each interval. So, the approximate area of each such sliver is \n",
    "\n",
    "$$\\int_{x_i}^{x_{i}+h} f(x) \\,dx  \\approx \\frac{h \\left[ f(x_i)+f(x_{i+1}) \\right]}{2} $$\n",
    "\n",
    "This is called the **trapezoidal rule** because it approximates each interval as a trapezoid, so that the area of each small sliver is the width times the average of the unequal sides. Written this way, it is also obvious that the trapezoidal rule is simply the average of the left-rectangle and right-rectangle methods.\n",
    "\n",
    "This method can be easily extended to find the integral of a finite data set $(x_i,y_i)$ constaining $n$ points (so that $i=0,1,2,\\ldots,n-1$) is:\n",
    "\n",
    "$$ I  = \\frac{(y_0+y_1)h}{2}+\\frac{(y_1+y_2)h}{2}+\\ldots+\\frac{(y_{n-3}+y_{n-2})h}{2} + \\frac{(y_{n-2}+y_{n-1})h}{2}   = \\sum_{i=0}^{n-2}\\frac{(y_i+y_{i+1})h}{2}  $$\n",
    "\n",
    " \n",
    "\n",
    "\n",
    "Another way to write the trapezoidal method is \n",
    "\n",
    "$$  I= \\frac{y_0h}{2}+\\frac{y_{n-1}h}{2} + \\sum_{i=1}^{n-2} y_ih $$\n",
    "\n",
    "In other words, each point is weighted by $h$, except the end points that get a weight of $h/2$ each. This can be easily coded up:"
   ]
  },
  {
   "cell_type": "code",
   "execution_count": 1,
   "metadata": {},
   "outputs": [],
   "source": [
    "def trapz(y,x):\n",
    "    # determine spacing array\n",
    "    h=x[1]-x[0]\n",
    "    \n",
    "    # sum of h x non-end points\n",
    "    I=sum(h*y[1:-1])\n",
    "    \n",
    "    # add one-half h x end points\n",
    "    I+=(y[0]+y[-1])*h/2\n",
    "    \n",
    "    return I"
   ]
  },
  {
   "cell_type": "markdown",
   "metadata": {},
   "source": [
    "Let's check with the velocities of the space shuttle from tutorial 7:"
   ]
  },
  {
   "cell_type": "code",
   "execution_count": 67,
   "metadata": {},
   "outputs": [
    {
     "data": {
      "text/plain": [
       "44425.5"
      ]
     },
     "execution_count": 67,
     "metadata": {},
     "output_type": "execute_result"
    }
   ],
   "source": [
    "t=np.arange(0,121,10)\n",
    "v=np.array([-12.8, 62.6 , 131.55, 206.65, 262.9 , 312.  , 362.5 , 412.75, 511.4 , 577.  , 635.05, 665.7, 617.7])\n",
    "\n",
    "trapz(v,t)"
   ]
  },
  {
   "cell_type": "markdown",
   "metadata": {},
   "source": [
    "Compare how well this approximates the height data from tutorial 7. For intermediate heights, integrate only upto a certain time: for example, the `data_integ(v[:5],t[:5])` gives integrated height up to $t=40$ seconds.\n",
    "\n",
    "An error analysis of the trapezoidal method can be performed by writing the Taylor expansion for each interval with respect to *both* edges $x_i$ and $x_{i+1}$, and finding the term by term average (add the two line and divide by 2), and then integrating every term like before. Again, in this sense, the trapezoidal method is the average of the left and right rectangle rules. This calculation is a bit involved (try it if you are adventurous or curious) and works out to be:\n",
    "\n",
    "$$\\int_{x_i}^{x_{i}+h} f(x) \\,dx  = \\frac{h \\left[ f(x_i)+f(x_{i+1}) \\right]}{2} -\\frac{h^3}{12} f''(x_{i})+ \\ldots $$\n",
    "\n",
    "Therefore, the trapezoidal rule is locally accurate to third order in each sliver (and therefore accurate to second order across the entire integration interval) but with an error of the opposite sign as the mid-point rule. The trapezoidal rule slightly overpredicts the value of the integral while the midpoint rule slightly underpredicts it.\n",
    "\n",
    "Finally, an equivalent way to derive the trapezoidal rule is to approximate the function between each $x_i$ and $x_{i+1}$ with a first-order Lagrange interpolant: i.e., a straight line. Such a line would take the form (see tutorial 4):\n",
    "\n",
    "$$ f(x)= \\frac{x-x_{i+1}}{x_i-x_{i+1}} f(x_i) +\\frac{x-x_i}{x_{i+1}-x_i} f(x_{i+1}) = -\\frac{(x-x_{i+1})}{h} f(x_i) +\\frac{(x-x_i)}{h}f(x_{i+1}) $$\n",
    "\n",
    "Integrating this interpolant in each sliver acorss $x$ (between $x_i$ and $x_{i+1}$) gives the trapeoidal rule.\n",
    "\n"
   ]
  },
  {
   "cell_type": "markdown",
   "metadata": {},
   "source": [
    "<a id='simpson'></a>\n",
    "\n",
    "\n",
    "\n",
    "### Simpson's rule\n",
    "\n",
    "The trapezoidal rule is the simplest of so-called **Newton-Cotes formulas** which estimate the integral of a given data set by weighting every $y$ point with a value and summing them all. In the trapezoidal rule, the weights were $h/2$ at end points and $h$ for every other point.\n",
    "\n",
    "A natural improvement to the trapezoidal rule is to use higher-order polynomial interpolants between data points. The simplest improvement then is a quadratic polynomial (or a parabola) that passes through sets of three points (remember how a polynomial of degree n can pass uniquely through n+1 points). An integration method built on this idea is called **Simpson's rule** (or Simpson's 1/3rd rule for reasons we will see below). \n",
    "\n",
    "The quadratic Lagrange interpolation polynomial across three data points $x_{i-1}$, $x_{i}$ and $x_{i+1}$ is (see tutorial 4):\n",
    "\n",
    "$$ f(x)= \\frac{(x-x_{i})(x-x_{i+1})}{(x_{i-1}-x_{i})(x_{i-1}-x_{i+1})} f(x_{i-1}) + \\frac{(x-x_{i-1})(x-x_{i+1})}{(x_{i}-x_{i-1})(x_{i}-x_{i+1})} f(x_{i}) + \\frac{(x-x_{i-1})(x-x_{i})}{(x_{i+1}-x_{i-1})(x_{i+1}-x_{i})} f(x_{i+1}) \\\\ \n",
    "~\\\\\n",
    "=\\frac{(x-x_{i})(x-x_{i+1})}{2h^2} f(x_{i-1}) - \\frac{(x-x_{i-1})(x-x_{i+1})}{h^2} f(x_{i}) + \\frac{(x-x_{i-1})(x-x_{i})}{2h^2} f(x_{i+1})$$\n",
    "\n",
    "\n",
    "Integrating this across the two-sliver set (or across the range of the three data points $x_{i-1}$, $x_{i}$ and $x_{i+1}$ gives \n",
    "\n",
    "$$\\int_{x_i-h}^{x_{i}+h} f(x) \\,dx  = \\frac{hf(x_{i-1})}{3} + \\frac{4hf(x_{i})}{3} + \\frac{hf(x_{i+1})}{3} $$\n",
    "\n",
    "To evaluate the integral across the enire range $[a,b]$, then, we would simply move to the next set of three points and evaluate the sum of the two-sliver set, and so on. Clearly, this method therefore would work **only with an odd number of data points**. With a user-defined function, this is not a severe restriction as we can create any number of points in between the limits $a$ and $b$. With a finite data set, however, we can only use Simpson's rule in specific cases (or we need to forfeit an point to make it an odd data set).\n",
    "\n",
    "In a range $[a,b]$ split into $n$ points, the Simpson's rule corresponds to sequentially multipying every 3-element subset with $[h/3,4h/3,h/3]$. Across the entire range of $(x_i,y_i)$ points, this gives:\n",
    "\n",
    "$$ I  = \\frac{(y_0+4y_1 + y_2)h}{3}+\\frac{(y_2+4y_3+ y_4)h}{3}+\\ldots+ \\frac{(y_{n-3}+4y_{n-2}+y_{n-1})h}{3}$$\n",
    "\n",
    "with the necessary condition that $n$ is odd (or $n-1$ is even). Another way to write the Simpson's 1/3rd rule is therefore:\n",
    "\n",
    "$$  I= \\frac{y_0h}{3}+\\frac{y_{n-1}h}{3} + \\sum_{i=2, ~{\\rm even}~ i}^{n-3} \\frac{2 y_i h}{3}+ \\sum_{i=1, ~{\\rm odd}~ i}^{n-2} \\frac{4 y_i h}{3}. $$"
   ]
  },
  {
   "cell_type": "code",
   "execution_count": 2,
   "metadata": {},
   "outputs": [],
   "source": [
    "# simpson's rule for data points\n",
    "\n",
    "def simps(y,x):\n",
    "    \n",
    "    if len(y) % 2 == 0:\n",
    "        print(\"provide odd number of data points\")\n",
    "        return\n",
    "    \n",
    "    # determine spacing array\n",
    "    h=x[1]-x[0]\n",
    "    \n",
    "    # end points\n",
    "    I=(y[0]+y[-1])*h/3\n",
    "    \n",
    "    # even points, start at 2, move in steps of 2 until n-3\n",
    "    I+=sum(y[2:-1:2])*2*h/3\n",
    "    \n",
    "    # odd points, start at 1, move in steps of 2 until n-2\n",
    "    I+=sum(y[1:-1:2])*4*h/3\n",
    "    \n",
    "    return I"
   ]
  },
  {
   "cell_type": "markdown",
   "metadata": {},
   "source": [
    "Despite the restriction of odd number of data sets, Simpson's rule is extremely popular and powerful because of it's accuracy. A formal error analysis is mathematically involved, but an easy way to see the error is to write the mid-point rule and trapezoidal rule from above between $x_{i-1}$ and $x_{i+1}$ with a step size of $2h$:\n",
    "\n",
    "$$I_{\\rm midpoint}: \\qquad  \\int_{x_{i}-h}^{x_{i}+h} f(x) \\,dx  = 2h f(x_i) +\\frac{h^3}{3} f''(x_{i})+ O(h^5) $$\n",
    "\n",
    "$$ I_{\\rm trapezoidal}: \\qquad \\int_{x_i -h }^{x_{i}+h} f(x) \\,dx  =  h \\left[ f(x_{i-1})+f(x_{i+1}) \\right] -\\frac{2h^3}{3} f''(x_{i})+ O(h^5) $$\n",
    "\n",
    "Adding twice the first line to the second line eliminates the $O(h^3)$ term; dividing the result by three gives the Simpson's rule with an estimate for the error:\n",
    "\n",
    "$$\\frac{2I_{\\rm midpoint}+I_{\\rm trapezoidal}}{3}: \\qquad \\int_{x_{i}-h}^{x_{i}+h} f(x) \\,dx = \\frac{hf(x_{i-1})}{3} + \\frac{4hf(x_{i})}{3} + \\frac{hf(x_{i+1})}{3} + O(h^5), $$\n",
    "\n",
    "which is Simpson's rule, and which is, therefore, fifth-order accurate within this range. Simpson's rule is thus *fourth-order accurate across the entire integration range $[a,b]$*. \n",
    "\n",
    "More accurate Newton-Cotes formulas can be obtained by using higher-order polynomials to locally interpolate across more sets of points. For example, a cubic Lagrange interpolant gives the so-called Simpson's \"3/8th rule\" (as against the \"1/3rd rule\" above). See practice problem 4 for details."
   ]
  },
  {
   "cell_type": "markdown",
   "metadata": {},
   "source": [
    "<a id='more'></a>\n",
    "\n",
    "\n",
    "\n",
    "## (8.2) More integration strategies\n",
    "\n",
    "\n",
    "Once we know the tricks above, more complicated or unusual integration can often be simplified.\n",
    "\n",
    "<a id='multi'></a>\n",
    "\n",
    "\n",
    "\n",
    "### Multidimensional integrals\n",
    "\n",
    "We can easily extend ideas of numerical integration to double or triple integrals. Much like with partial derivative in the last tutorial, the idea is to hold one dimension constant and perform the same calculation as above along the other.\n",
    "\n",
    "For example, the integral of a function $f(x,y)$ over a 2D area is represented in Cartersian co-ordinates as:\n",
    "\n",
    "$$ I = \\int_{A} f(x,y)\\,dA = \\int_{x=a}^{b} \\left[ \\int_{y=c}^{d} f(x,y)\\,dy \\right]\\,dx $$\n",
    "\n",
    "Written this way, it is obvious that the area integral can be done sequentially as two line integrals:\n",
    "\n",
    "$$ I = \\int_{A} f(x,y)\\,dA = \\int_{x=a}^{b} G(x)\\,dx, \\qquad {\\rm where} \\qquad G(x)= \\int_{y=c}^{d} f(x,y)\\,dy $$\n",
    "\n",
    "To do this numerically, we would first split the $x$ and $y$ directions into $m$ and $n$ points with spacing $h_x$ and $h_y$ respectively. Using the trapezoid rule as an example, the inner integral at $x_i$ then becomes:\n",
    "\n",
    "$$ G(x_i) = \\frac{h_y f(x_i,c)}{2}+\\frac{h_y f(x_i,d)}{2} + \\sum_{j=1}^{n-2} h_y f(x_i,y_j) $$\n",
    "\n",
    "Note that the location of the $x$ variable does not change in this step. We are holding it constant and integrating along $y$ every time. Once $G(x_i)$ is known at every $x_i$, the total integral can be performed the same way:\n",
    "\n",
    "$$ I = \\frac{h_x G(a)}{2}+\\frac{h_x G(b)}{2} + \\sum_{i=1}^{n-2} h_x G(x_i) $$\n",
    "\n",
    "Let's try to find the area of the hat-shaped function from tutorial 2:\n",
    "\n",
    "$$ \\int_{A} \\sin\\left(\\sqrt{x^2+y^2}\\right) \\,dA, $$\n",
    "\n",
    "where the area $A$ corresponds to the region $x\\in[-1,1]$ and $y\\in [-1,1]$. This region is a square and we are free to choose $h_x$ and $h_y$ (smaller the better). The following code implements the trapezoidal rule in 2D:"
   ]
  },
  {
   "cell_type": "code",
   "execution_count": 19,
   "metadata": {},
   "outputs": [
    {
     "name": "stdout",
     "output_type": "stream",
     "text": [
      "2.663523910358142\n"
     ]
    }
   ],
   "source": [
    "def f(x,y): return np.sin(np.sqrt(x**2+y**2))\n",
    "\n",
    "# choose spacing, need not be the same\n",
    "hx=0.01\n",
    "hy=0.01\n",
    "\n",
    "# generate x and y\n",
    "x=np.arange(-1,1+hx,hx)\n",
    "y=np.arange(-1,1+hy,hy)\n",
    "\n",
    "# trapezoid rule along y\n",
    "G=np.zeros(x.shape)\n",
    "\n",
    "for i in range(len(x)):\n",
    "    G[i]= hy*sum(f(x[i],y[1:-1])) + hy*f(x[i],y[0])/2 + hy*f(x[i],y[-1])/2\n",
    "\n",
    "# integrate G along x\n",
    "I = hx*sum(G[1:-1]) + hx*G[0]/2 + hx*G[-1]/2\n",
    "\n",
    "print(I)"
   ]
  },
  {
   "cell_type": "markdown",
   "metadata": {},
   "source": [
    "The same can be done with Simpsons's rule as well. Try it. Make sure to use an odd number of points for Simpson's rule to work.\n",
    "\n",
    "In fact, the integration limits of the inner integral need not even be constants! The trick above work even for integration limits that are functions of $x$. In other words, the area of integration does not have to be a square and can be any arbitrary shape with limits $c(x)$ and $d(x)$ in the y-direction. In this case, the $y$ bounds and spacing at each $x$ location is different, and therefore has to be done within the loop. The following code calculates the integral of the same function in the area contained between $x=-1$ and $x=1$ and $y=-1-x^2$ and $y=1+x^2$. There are many ways to choose the spacing in $y$; we could keep it constant or change it with $x$. Here we choose is such that there are always 100 points, so it changes as each $x$ location."
   ]
  },
  {
   "cell_type": "code",
   "execution_count": 20,
   "metadata": {},
   "outputs": [
    {
     "name": "stdout",
     "output_type": "stream",
     "text": [
      "3.9496156597602727\n"
     ]
    }
   ],
   "source": [
    "# choose spacing, need not be the same\n",
    "hx=0.01\n",
    "\n",
    "# generate x\n",
    "x=np.arange(-1,1+hx,hx)\n",
    "\n",
    "# trapezoid rule along y\n",
    "G=np.zeros(x.shape)\n",
    "\n",
    "for i in range(len(x)):\n",
    "    # generate new y for each x location\n",
    "    y=np.linspace(-1-x[i]**2,1+x[i]**2,100)\n",
    "    # determine hy now\n",
    "    hy=y[1]-y[0]\n",
    "    G[i]= hy*sum(f(x[i],y[1:-1])) + hy*f(x[i],y[0])/2 + hy*f(x[i],y[-1])/2\n",
    "\n",
    "# integrate G along x\n",
    "I = hx*sum(G[1:-1]) + hx*G[0]/2 + hx*G[-1]/2\n",
    "\n",
    "print(I)"
   ]
  },
  {
   "cell_type": "markdown",
   "metadata": {},
   "source": [
    "<a id='inbuilt'></a>\n",
    "\n",
    "\n",
    "\n",
    "### Inbuilt python routines\n",
    "\n",
    "Python has inbuilt routines to do integrals too. The function `scipy.integrate.trapz` is identical to our trapezoidal rule above. And `scipy.integrate.simps` is a more sophisticated implementation of the Simpson's rule (with a control for even/odd number of points etc). Read about the details in the official manual for the [Simpson's rule](https://docs.scipy.org/doc/scipy/reference/generated/scipy.integrate.simps.html). In terms of usage, they work as follows:"
   ]
  },
  {
   "cell_type": "code",
   "execution_count": 77,
   "metadata": {},
   "outputs": [
    {
     "name": "stdout",
     "output_type": "stream",
     "text": [
      "Our own trapezoidal method gives: 44425.500000\n",
      "Our own Simpson rule gives: 44528.333333\n",
      "\n",
      "Scipy inbuilt trapezoidal method gives: 44425.500000\n",
      "Scipy inbuilt Simpson rule gives: 44528.333333\n"
     ]
    }
   ],
   "source": [
    "t=np.arange(0,121,10)\n",
    "v=np.array([-12.8, 62.6 , 131.55, 206.65, 262.9 , 312.  , 362.5 , 412.75, 511.4 , 577.  , 635.05, 665.7, 617.7])\n",
    "\n",
    "trapz(v,t)\n",
    "\n",
    "print('Our own trapezoidal method gives: %.6f' %trapz(v,t))\n",
    "print('Our own Simpson rule gives: %.6f' %simps(v,t))\n",
    "\n",
    "import scipy.integrate as si\n",
    "\n",
    "print('\\nScipy inbuilt trapezoidal method gives: %.6f' %si.trapz(v,t))\n",
    "print('Scipy inbuilt Simpson rule gives: %.6f' %si.simps(v,t))"
   ]
  },
  {
   "cell_type": "markdown",
   "metadata": {},
   "source": [
    "We can see that our methods give identical results as the `scipy` inbuilt functions. "
   ]
  },
  {
   "cell_type": "markdown",
   "metadata": {},
   "source": [
    "\n",
    "<a id='exer'></a>\n",
    "\n",
    "\n",
    "\n",
    "### Practice Problems"
   ]
  },
  {
   "cell_type": "markdown",
   "metadata": {},
   "source": [
    "(1) Evaluate using *both* trapezoidal and Simpson's 1/3rd rule:\n",
    "\n",
    "(1a) The following definite integral with an exact value of $\\pi/2$ (compare your solutions to this)\n",
    "\n",
    "$$\\int_0^\\pi \\sin^2(x)\\,dx $$"
   ]
  },
  {
   "cell_type": "code",
   "execution_count": null,
   "metadata": {},
   "outputs": [],
   "source": []
  },
  {
   "cell_type": "markdown",
   "metadata": {},
   "source": [
    "(1b) The following definite integral with an exact value of $\\pi$ (compare your solutions to this) \n",
    "\n",
    "$$\\int_{-1}^{1} \\frac{2}{1+x^2}\\,dx $$"
   ]
  },
  {
   "cell_type": "code",
   "execution_count": null,
   "metadata": {},
   "outputs": [],
   "source": []
  },
  {
   "cell_type": "markdown",
   "metadata": {},
   "source": [
    "(1c) Evalute this integral by hand and compare your numerical results:\n",
    "\n",
    "$$\\int_{-3}^{3} \\left( 1-\\frac{x^2}{9} \\right) \\,dx $$"
   ]
  },
  {
   "cell_type": "code",
   "execution_count": null,
   "metadata": {},
   "outputs": [],
   "source": []
  },
  {
   "cell_type": "markdown",
   "metadata": {},
   "source": [
    "(2) Wine barrels are circular in cross-section with a radius $r(z)$ that changes with height. Estimating the volume $V$ and surface area $S$ of such a barrel then involves adding up these circular slices. In other words,\n",
    "\n",
    "$$ S = 2\\pi \\int_0^H r\\,dz \\qquad {\\rm and }\\qquad V = \\pi \\int_0^H r^2\\,dz $$\n",
    "\n",
    "where $H$ is the total height, and $z$ is measured from the floor up. Use the following measurements to approximate both $V$ and $S$, where $d$ is the radius in excess of a cylindrical shape of constant radius $9.6$ inches.\n",
    "\n",
    "$$\\begin{matrix} \n",
    "{\\rm z~(inches)} & 0 & 6 &12 & 18 & 24 & 30 & 36 \\\\\n",
    "{\\rm d~(inches)} & 0 & 1.25 & 2 & 2.25 & 2 & 1.25 & 0\\\\\n",
    "        \\end{matrix}$$\n",
    "        \n",
    "These are number for a 60 gallon barrel. Find the conversion between cubic inches and gallons, and see if you answer is reasonable."
   ]
  },
  {
   "cell_type": "code",
   "execution_count": null,
   "metadata": {},
   "outputs": [],
   "source": []
  },
  {
   "cell_type": "markdown",
   "metadata": {},
   "source": [
    "(3) The radiative heat loss from an ideal object is well approximated by Stefan-Boltzmann law:\n",
    "\n",
    "$$ j = \\sigma T^4, $$\n",
    "\n",
    "where $j$ is the thermal energy lost in ${\\rm W/m^2}$, $T$ is the absolute temperature, and $\\sigma = 5.67 \\times 10^{-8}\\, {\\rm W/m^2/K^{-4}}$ is Stefan's constant. From our temperature data in `smoothtemp.txt`, find $j$ at every point on the plate. Recall that the plate is 20 cm by 10 cm: find the total heat energy lost by radiation by integrating $j$ across this entire area."
   ]
  },
  {
   "cell_type": "code",
   "execution_count": null,
   "metadata": {},
   "outputs": [],
   "source": []
  },
  {
   "cell_type": "markdown",
   "metadata": {},
   "source": [
    "(4) Simpson's 3/8th rule is obtained by interpolating sets of 4 data points (or three 'panels') by cubic polynomials. The formula thus obtained is:\n",
    "\n",
    "$$ I  = \\frac{(y_0+3y_1 + 3y_2 + y_3)3h}{8}+\\frac{(y_3+3y_4+ 3y_5+y_6)3h}{8}+\\ldots+ \\frac{(y_{n-4}+3y_{n-3}+3y_{n-2}+y_{n-1})3h}{8}$$\n",
    "\n",
    "The necessary condition is then that the number of panels is divisible by 3. Equivalently, the number of data points should be one over a multiple of 3.\n",
    "\n",
    "Write a function to compute an integral using this formula, given $(x_i,y_i)$ data points. Use this to evaluate the integrals in problem 1."
   ]
  },
  {
   "cell_type": "code",
   "execution_count": null,
   "metadata": {},
   "outputs": [],
   "source": []
  },
  {
   "cell_type": "markdown",
   "metadata": {},
   "source": [
    "(5) The arclength of a curve $f(x)$ between $a$ and $b$ is given by \n",
    "\n",
    "$$ L = \\int_a^b \\sqrt{1+\\left[ f'(x) \\right]^2} \\, dx $$\n",
    "\n",
    "(5a) Use the trapezoidal integration scheme to find the arclength of $\\sin(x)$ between $0$ and $\\pi$."
   ]
  },
  {
   "cell_type": "code",
   "execution_count": null,
   "metadata": {},
   "outputs": [],
   "source": []
  },
  {
   "cell_type": "markdown",
   "metadata": {},
   "source": [
    "(5b) The central part of the Golden Gate bridge is suspended from two towers that rise 500 feet above the road and are 4200 feet apart. The height of the central cables measured every 300 feet along the bridge are given below:\n",
    "\n",
    "$$\\begin{matrix} \n",
    "{\\rm x~(feet)} & 0 & 300 & 600 & 900 & 1200 & 1500 & 1800 & 2100 & 2400 & 2700 & 3000 & 3300 & 3600 & 3900 & 4200 \\\\\n",
    "{\\rm h~(feet)} & 500 & 365 & 250 & 160 & 90 & 40 & 10 &0 & 10 & 40 & 90 & 160 & 250 & 365 & 500\\\\\n",
    "        \\end{matrix}$$\n",
    "        \n",
    "First, plot this data."
   ]
  },
  {
   "cell_type": "code",
   "execution_count": null,
   "metadata": {},
   "outputs": [],
   "source": []
  },
  {
   "cell_type": "markdown",
   "metadata": {},
   "source": [
    "Our objective is to find the length of the central suspension cables. To use the formula above, we need the derivative. Use the second-order accurate `data_deriv` function we developed in tutorial 7 to find $f'(x)$ at every point:"
   ]
  },
  {
   "cell_type": "code",
   "execution_count": null,
   "metadata": {},
   "outputs": [],
   "source": []
  },
  {
   "cell_type": "markdown",
   "metadata": {},
   "source": [
    "Use `trapz` to integrate and find the arc length of the central suspension cable:"
   ]
  },
  {
   "cell_type": "code",
   "execution_count": null,
   "metadata": {},
   "outputs": [],
   "source": []
  },
  {
   "cell_type": "markdown",
   "metadata": {},
   "source": [
    "(6) Evaluate in the domain $-\\pi\\leq x \\leq \\pi$ and $-\\pi\\leq y \\leq \\pi$\n",
    "\n",
    "$$ \\int_{A} \\sin^2(x+y)\\cos^2(x-y)\\, dA$$"
   ]
  },
  {
   "cell_type": "code",
   "execution_count": null,
   "metadata": {},
   "outputs": [],
   "source": []
  },
  {
   "cell_type": "markdown",
   "metadata": {},
   "source": [
    "(6b) Evaluate the integral in the domain $A$ corresponding to the unit circle of radius 1. \n",
    "\n",
    "*Hint: this is easier in polar coordinates: convert $x$ and $y$ to $r$ and $\\theta$ ...*"
   ]
  },
  {
   "cell_type": "code",
   "execution_count": null,
   "metadata": {},
   "outputs": [],
   "source": []
  }
 ],
 "metadata": {
  "kernelspec": {
   "display_name": "Python 3",
   "language": "python",
   "name": "python3"
  },
  "language_info": {
   "codemirror_mode": {
    "name": "ipython",
    "version": 3
   },
   "file_extension": ".py",
   "mimetype": "text/x-python",
   "name": "python",
   "nbconvert_exporter": "python",
   "pygments_lexer": "ipython3",
   "version": "3.7.6"
  }
 },
 "nbformat": 4,
 "nbformat_minor": 4
}
