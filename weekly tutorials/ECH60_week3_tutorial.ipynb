{
 "cells": [
  {
   "cell_type": "markdown",
   "metadata": {},
   "source": [
    "# ECH 60 Spring 2020 week 3\n",
    "&copy; Harishankar Manikantan, Chemical Engineering, UC Davis "
   ]
  },
  {
   "cell_type": "markdown",
   "metadata": {},
   "source": [
    "**[(3.1) Statistics and Data Analysis](#stat) (Monday)**\n",
    "*  [Measures of spread](#measures) <br>\n",
    "*  [Distributions and histograms](#hist) <br>\n",
    "\n",
    "**[(3.2) Pandas: a powerful data platform](#pandas) (Monday)**\n",
    "*  [Introduction to data frames](#df) <br>\n",
    "*  [A real example: the data science of lead in lipsticks!](#lipstick) <br>\n",
    "\n",
    "\n",
    "**[(3.3) Systems of Linear Equations](#lineq) (Wednesday, Friday)**\n",
    "*  [Gauss Elimination](#Gauss) <br> \n",
    "*  [Pivoting: choosing the right row](#GaussPiv) <br> \n",
    "*  [Gauss-Jordan: Gauss on steroids!](#GaussJ) <br> \n",
    "*  [LU Decomposition](#LU) <br> \n",
    "*  [Computational Cost](#cost) <br>\n",
    "\n",
    "**[Practice problems](#exer)**\n"
   ]
  },
  {
   "cell_type": "markdown",
   "metadata": {},
   "source": [
    "<a id='stat'></a>\n",
    "\n",
    "## (3.1) Statistics and Data Analysis\n",
    "\n",
    "We now know how to assign, extract, organize, save, and visualize numbers. Statistics and related tools let us analyze numbers and generate meaningful insights from large amounts of data. Python has many inbuilt features that makes it one of the most popular (and powerful) tools for data analysis. We will learn about some of the basic statistical tools, and then introduce the powerful `pandas` framework.\n",
    "\n",
    "<a id='measures'></a>\n",
    "\n",
    "\n",
    "\n",
    "### Measures of spread\n",
    "\n",
    "The standard measures of data are straightforward in python. For example, the minimum and maximum values of an array are directly obtained via the inbuilt `min()` and `max()` (no need for `numpy`). The arithmetic mean (or simply 'the mean') is the sum of all data points divided by the number of data points. That's an easy implementation with a loop. Alternatively, one could also use the `sum` and `len` functions to calculate the sum of all elements and the length of an array, so the mean would be:"
   ]
  },
  {
   "cell_type": "code",
   "execution_count": 1,
   "metadata": {},
   "outputs": [],
   "source": [
    "# find mean of a 1D array d\n",
    "find_mean=lambda d: sum(d)/len(d)"
   ]
  },
  {
   "cell_type": "markdown",
   "metadata": {},
   "source": [
    "Test it with an array of your choice. What about the median? Algorithmically, this would require 'sorting' the array in ascending order, and find the middle value (if `len` is odd), or the mean of the middle values (if `len` is even). \n",
    "\n",
    "NumPy has an inbuilt arithmetic mean and median calculators `numpy.mean` and `numpy.median`. NumPy's functions are faster and more general than our simple function defined above. For instance, you can directly feed in a 2D (or 3D or higher dimensional) array and ask NumPy to calculate means or medians along a specific direction by providing the axis as an argument. This is extremely powerful when we want to calculate statistics of measured 2D/3D data:"
   ]
  },
  {
   "cell_type": "code",
   "execution_count": 2,
   "metadata": {},
   "outputs": [
    {
     "name": "stdout",
     "output_type": "stream",
     "text": [
      "[[1 2]\n",
      " [3 4]]\n",
      "Mean of all elements: 2.5\n",
      "Mean along axis 0 (rows): [2. 3.]\n",
      "Mean along axis 1 (column): [1.5 3.5]\n"
     ]
    }
   ],
   "source": [
    "import numpy as np\n",
    "\n",
    "A=np.array([[1,2],[3,4]])\n",
    "print(A)\n",
    "print('Mean of all elements:',np.mean(A))\n",
    "print('Mean along axis 0 (rows):',np.mean(A,0))\n",
    "print('Mean along axis 1 (column):',np.mean(A,1))"
   ]
  },
  {
   "cell_type": "markdown",
   "metadata": {},
   "source": [
    "The mean (or other 'center' measures like median or mode) only tells us the most likely or most centered value. To get a sense of the 'spread', we need higher moments of statistical measures. The most common is standard deviation, which is defined as the root-mean-square sum of residuals (difference from mean) of all values in an array. Try writing a simple code for this. Numpy has a general version `std()`, with choice of averaging direction like with the mean. Same thing with the variance (or the square of teh standard deviation): use NumPy's `var()`.\n",
    "\n",
    "To see these in action, let's play with the temperature data set from last week. To get a sense of what the data looks like, let's pick a 1D slice and plot the data first:"
   ]
  },
  {
   "cell_type": "code",
   "execution_count": 3,
   "metadata": {},
   "outputs": [
    {
     "data": {
      "image/png": "[encoded data removed]",
      "text/plain": [
       "<Figure size 432x288 with 1 Axes>"
      ]
     },
     "metadata": {
      "needs_background": "light"
     },
     "output_type": "display_data"
    }
   ],
   "source": [
    "    temp_data=np.loadtxt(\"temperature.csv\", delimiter=\",\")\n",
    "\n",
    "    import matplotlib.pyplot as plt\n",
    "    plt.plot(temp_data[20,:]) # pick one column\n",
    "    plt.show()"
   ]
  },
  {
   "cell_type": "markdown",
   "metadata": {},
   "source": [
    "You can calculate the mean of this dataset directly using `np.mean(temp_data[20,:])`. Or even better, recognize that this requires averaging along a column (corresponding to the `:` that we used to slice the array) and therefore we could use `np.mean(temp_data,1)[20]` to get the 21st element in the column-wise mean:"
   ]
  },
  {
   "cell_type": "code",
   "execution_count": 4,
   "metadata": {},
   "outputs": [
    {
     "data": {
      "text/plain": [
       "25.45062297775588"
      ]
     },
     "execution_count": 4,
     "metadata": {},
     "output_type": "execute_result"
    }
   ],
   "source": [
    "np.mean(temp_data,1)[20]"
   ]
  },
  {
   "cell_type": "markdown",
   "metadata": {},
   "source": [
    "Same thing with the median. Try it. These measures give you the 'center' of the data in some sense. To see how varied the rest of the data is relative to the mean, find the standard deviation or variance:"
   ]
  },
  {
   "cell_type": "code",
   "execution_count": 5,
   "metadata": {},
   "outputs": [
    {
     "data": {
      "text/plain": [
       "0.3327593142754834"
      ]
     },
     "execution_count": 5,
     "metadata": {},
     "output_type": "execute_result"
    }
   ],
   "source": [
    "np.std(temp_data,1)[20]"
   ]
  },
  {
   "cell_type": "markdown",
   "metadata": {},
   "source": [
    "Now compare this against the column slice `temp_data[:,190]`. See how the plot looks, and try to make sense of what a 'small' or 'large' standard deviation means.\n",
    "\n",
    "When we start doing line fits and regression, these measures and their relatives will differentiate between a 'good' fit vs a bad 'fit'."
   ]
  },
  {
   "cell_type": "markdown",
   "metadata": {},
   "source": [
    "<a id='hist'></a>\n",
    "\n",
    "### Distributions and histograms\n",
    "\n",
    "In probability theory and statistics, a distribution is a function that provides the probabilities of occurrence of a particular data point in a measurement or experiment. An easy way to visualize distributions of data sets are **histograms** or bar graphs. NumPy's `histogram` generates two arrays, corresponding to the number of times a value repeats and the 'bin' boundaries:"
   ]
  },
  {
   "cell_type": "code",
   "execution_count": 6,
   "metadata": {},
   "outputs": [
    {
     "data": {
      "text/plain": [
       "(array([ 7, 36, 26, 23, 25, 22, 16, 21, 18,  6]),\n",
       " array([24.85101181, 24.98302908, 25.11504635, 25.24706362, 25.37908089,\n",
       "        25.51109816, 25.64311543, 25.7751327 , 25.90714997, 26.03916724,\n",
       "        26.17118451]))"
      ]
     },
     "execution_count": 6,
     "metadata": {},
     "output_type": "execute_result"
    }
   ],
   "source": [
    "np.histogram(temp_data[20,:])"
   ]
  },
  {
   "cell_type": "markdown",
   "metadata": {},
   "source": [
    "You can control the bin number by providing it as an argument: try `np.histogram(temp_data[20,:],5)` or `np.histogram(temp_data[20,:],20)` to get frequency counts in 5 or 20 bins.\n",
    "\n",
    "MatPlotLib's histogram function works in the same way, and takes the following form `plt.histogram(dataarray)`. This function additionally plots the data.\n",
    "\n",
    "For example, we could draw a histogram of row 20 of `temp_data` as follows:"
   ]
  },
  {
   "cell_type": "code",
   "execution_count": 7,
   "metadata": {},
   "outputs": [
    {
     "data": {
      "image/png": "[encoded data removed]",
      "text/plain": [
       "<Figure size 432x288 with 1 Axes>"
      ]
     },
     "metadata": {
      "needs_background": "light"
     },
     "output_type": "display_data"
    }
   ],
   "source": [
    "plt.hist(temp_data[0,:])\n",
    "plt.show()"
   ]
  },
  {
   "cell_type": "markdown",
   "metadata": {},
   "source": [
    "You can embellish this by providing edgecolors so each bar stands out, by providing a bin number so you control the number of bars, and you can plot multiple sets of data to compare. And the same rules for labeling and titles etc as with normal plots apply. For example:"
   ]
  },
  {
   "cell_type": "code",
   "execution_count": 8,
   "metadata": {},
   "outputs": [
    {
     "data": {
      "image/png": "[encoded data removed]",
      "text/plain": [
       "<Figure size 432x288 with 1 Axes>"
      ]
     },
     "metadata": {
      "needs_background": "light"
     },
     "output_type": "display_data"
    }
   ],
   "source": [
    "plt.hist(temp_data[20,:],10,edgecolor='w')\n",
    "plt.hist(temp_data[:,190],10,edgecolor='w')\n",
    "plt.title('Temperature distributions across two slices')\n",
    "plt.xlabel('Temperature (in C)')\n",
    "plt.ylabel('# of occurences')\n",
    "plt.show()"
   ]
  },
  {
   "cell_type": "markdown",
   "metadata": {},
   "source": [
    "This clearly shows the difference in spread between those two slices! There are many more formatting modifications one can do with histograms (e.g. stacking, horizontal bars, grouped bars): read [MatPlotLibs's official documentation](https://matplotlib.org/3.2.1/api/_as_gen/matplotlib.pyplot.hist.html) or look in the [gallery](https://matplotlib.org/3.2.1/gallery/index.html) for help and inspiration."
   ]
  },
  {
   "cell_type": "markdown",
   "metadata": {},
   "source": [
    "<a id='pandas'></a>\n",
    "\n",
    "\n",
    "\n",
    "\n",
    "## (3.2) Pandas\n",
    "\n",
    "Pandas is a handy and powerful python library for data analysis and manipulation. It's short for PANel DAta Structure (and it keeps up with the python animal pun theme!). Pandas is extremely popular in modern data science and there are countless online examples of 'big' data manipulations using pandas. Given that most industrial jobs nowadays look for some kind of data savviness, we will briefly introduce the core principles of pandas. You can teach yourself more advanced features quite easily once you know the basics, or talk to me and I can provide links to external tutorials. \n",
    "\n",
    "<a id='df'></a>\n",
    "\n",
    "\n",
    "\n",
    "\n",
    "### Inroduction to data frames\n",
    "\n",
    "\n",
    "\n",
    "Pandas essentially creates a new type of python object with rows and columns called a 'data frame'. Data frames look very similar to tables (like in Excel or any other common word processing software), and it is much easier to work with these tables without having to loop through indices. And pandas can handle different data types (strings, integers, combinations) quite easily.\n",
    "\n",
    "First, we import `pandas` (a common nickname is `pd`; as usual, this is optional)"
   ]
  },
  {
   "cell_type": "code",
   "execution_count": 9,
   "metadata": {},
   "outputs": [],
   "source": [
    "import pandas as pd"
   ]
  },
  {
   "cell_type": "markdown",
   "metadata": {},
   "source": [
    "Once that's imported, you can quickly transform any list to a data frame. For example, this list of strings becomes the data frame named `states_data` using `pd.DataFrame()`:"
   ]
  },
  {
   "cell_type": "code",
   "execution_count": 10,
   "metadata": {},
   "outputs": [],
   "source": [
    "my_list = ['California', 'Nevada', 'Colorado', 'Illinois',  'New York', 'Maryland'] \n",
    "  \n",
    "# convert list to dataframe\n",
    "states_data= pd.DataFrame(my_list) "
   ]
  },
  {
   "cell_type": "markdown",
   "metadata": {},
   "source": [
    "Viewing the data then doesn't require the `print` statement: simply enter the name of the dataframe and execute:"
   ]
  },
  {
   "cell_type": "code",
   "execution_count": 11,
   "metadata": {},
   "outputs": [
    {
     "data": {
      "text/html": [
       "<div>\n",
       "<style scoped>\n",
       "    .dataframe tbody tr th:only-of-type {\n",
       "        vertical-align: middle;\n",
       "    }\n",
       "\n",
       "    .dataframe tbody tr th {\n",
       "        vertical-align: top;\n",
       "    }\n",
       "\n",
       "    .dataframe thead th {\n",
       "        text-align: right;\n",
       "    }\n",
       "</style>\n",
       "<table border=\"1\" class=\"dataframe\">\n",
       "  <thead>\n",
       "    <tr style=\"text-align: right;\">\n",
       "      <th></th>\n",
       "      <th>0</th>\n",
       "    </tr>\n",
       "  </thead>\n",
       "  <tbody>\n",
       "    <tr>\n",
       "      <th>0</th>\n",
       "      <td>California</td>\n",
       "    </tr>\n",
       "    <tr>\n",
       "      <th>1</th>\n",
       "      <td>Nevada</td>\n",
       "    </tr>\n",
       "    <tr>\n",
       "      <th>2</th>\n",
       "      <td>Colorado</td>\n",
       "    </tr>\n",
       "    <tr>\n",
       "      <th>3</th>\n",
       "      <td>Illinois</td>\n",
       "    </tr>\n",
       "    <tr>\n",
       "      <th>4</th>\n",
       "      <td>New York</td>\n",
       "    </tr>\n",
       "    <tr>\n",
       "      <th>5</th>\n",
       "      <td>Maryland</td>\n",
       "    </tr>\n",
       "  </tbody>\n",
       "</table>\n",
       "</div>"
      ],
      "text/plain": [
       "            0\n",
       "0  California\n",
       "1      Nevada\n",
       "2    Colorado\n",
       "3    Illinois\n",
       "4    New York\n",
       "5    Maryland"
      ]
     },
     "execution_count": 11,
     "metadata": {},
     "output_type": "execute_result"
    }
   ],
   "source": [
    "states_data"
   ]
  },
  {
   "cell_type": "markdown",
   "metadata": {},
   "source": [
    "You can see the row and column numbers, starting from 0 as expected. The power of pandas comes from beind able to give (and use) names to row and columns. To do this, we must supply a 'dictionary' instead of a list: "
   ]
  },
  {
   "cell_type": "code",
   "execution_count": 12,
   "metadata": {},
   "outputs": [],
   "source": [
    "my_dict = {'State':['California', 'Nevada', 'Colorado', 'Illinois',  'New York', 'Maryland']}"
   ]
  },
  {
   "cell_type": "markdown",
   "metadata": {},
   "source": [
    "Dictionaries are lists with 'headers' (the string 'State') in this case. Notice the colon and curly braces. Converting this dictionary to a data frame and viewing it gives:"
   ]
  },
  {
   "cell_type": "code",
   "execution_count": 13,
   "metadata": {},
   "outputs": [
    {
     "data": {
      "text/html": [
       "<div>\n",
       "<style scoped>\n",
       "    .dataframe tbody tr th:only-of-type {\n",
       "        vertical-align: middle;\n",
       "    }\n",
       "\n",
       "    .dataframe tbody tr th {\n",
       "        vertical-align: top;\n",
       "    }\n",
       "\n",
       "    .dataframe thead th {\n",
       "        text-align: right;\n",
       "    }\n",
       "</style>\n",
       "<table border=\"1\" class=\"dataframe\">\n",
       "  <thead>\n",
       "    <tr style=\"text-align: right;\">\n",
       "      <th></th>\n",
       "      <th>State</th>\n",
       "    </tr>\n",
       "  </thead>\n",
       "  <tbody>\n",
       "    <tr>\n",
       "      <th>0</th>\n",
       "      <td>California</td>\n",
       "    </tr>\n",
       "    <tr>\n",
       "      <th>1</th>\n",
       "      <td>Nevada</td>\n",
       "    </tr>\n",
       "    <tr>\n",
       "      <th>2</th>\n",
       "      <td>Colorado</td>\n",
       "    </tr>\n",
       "    <tr>\n",
       "      <th>3</th>\n",
       "      <td>Illinois</td>\n",
       "    </tr>\n",
       "    <tr>\n",
       "      <th>4</th>\n",
       "      <td>New York</td>\n",
       "    </tr>\n",
       "    <tr>\n",
       "      <th>5</th>\n",
       "      <td>Maryland</td>\n",
       "    </tr>\n",
       "  </tbody>\n",
       "</table>\n",
       "</div>"
      ],
      "text/plain": [
       "        State\n",
       "0  California\n",
       "1      Nevada\n",
       "2    Colorado\n",
       "3    Illinois\n",
       "4    New York\n",
       "5    Maryland"
      ]
     },
     "execution_count": 13,
     "metadata": {},
     "output_type": "execute_result"
    }
   ],
   "source": [
    "states_data= pd.DataFrame(my_dict) \n",
    "states_data"
   ]
  },
  {
   "cell_type": "markdown",
   "metadata": {},
   "source": [
    "That looks even more like an Excel table. Let's add more information, say the capital and the area of the state. this is easy in the dicionary format: simply separate each set of data with commas."
   ]
  },
  {
   "cell_type": "code",
   "execution_count": 14,
   "metadata": {},
   "outputs": [],
   "source": [
    "my_dict = {'State':['California', 'Nevada', 'Illinois', 'Colorado', 'New York', 'Maryland'],\n",
    "          'Capital':['Sacramento','Carson City','Springfield', 'Denver','Albany', 'Annapolis'],\n",
    "          'Area (in sq. miles)':[163696, 110567,57915,104185,54556,12407]}"
   ]
  },
  {
   "cell_type": "markdown",
   "metadata": {},
   "source": [
    "The last list (corresponding to area) is filled with integers, so we don't need quotes on each entry."
   ]
  },
  {
   "cell_type": "code",
   "execution_count": 15,
   "metadata": {},
   "outputs": [
    {
     "data": {
      "text/html": [
       "<div>\n",
       "<style scoped>\n",
       "    .dataframe tbody tr th:only-of-type {\n",
       "        vertical-align: middle;\n",
       "    }\n",
       "\n",
       "    .dataframe tbody tr th {\n",
       "        vertical-align: top;\n",
       "    }\n",
       "\n",
       "    .dataframe thead th {\n",
       "        text-align: right;\n",
       "    }\n",
       "</style>\n",
       "<table border=\"1\" class=\"dataframe\">\n",
       "  <thead>\n",
       "    <tr style=\"text-align: right;\">\n",
       "      <th></th>\n",
       "      <th>State</th>\n",
       "      <th>Capital</th>\n",
       "      <th>Area (in sq. miles)</th>\n",
       "    </tr>\n",
       "  </thead>\n",
       "  <tbody>\n",
       "    <tr>\n",
       "      <th>0</th>\n",
       "      <td>California</td>\n",
       "      <td>Sacramento</td>\n",
       "      <td>163696</td>\n",
       "    </tr>\n",
       "    <tr>\n",
       "      <th>1</th>\n",
       "      <td>Nevada</td>\n",
       "      <td>Carson City</td>\n",
       "      <td>110567</td>\n",
       "    </tr>\n",
       "    <tr>\n",
       "      <th>2</th>\n",
       "      <td>Illinois</td>\n",
       "      <td>Springfield</td>\n",
       "      <td>57915</td>\n",
       "    </tr>\n",
       "    <tr>\n",
       "      <th>3</th>\n",
       "      <td>Colorado</td>\n",
       "      <td>Denver</td>\n",
       "      <td>104185</td>\n",
       "    </tr>\n",
       "    <tr>\n",
       "      <th>4</th>\n",
       "      <td>New York</td>\n",
       "      <td>Albany</td>\n",
       "      <td>54556</td>\n",
       "    </tr>\n",
       "    <tr>\n",
       "      <th>5</th>\n",
       "      <td>Maryland</td>\n",
       "      <td>Annapolis</td>\n",
       "      <td>12407</td>\n",
       "    </tr>\n",
       "  </tbody>\n",
       "</table>\n",
       "</div>"
      ],
      "text/plain": [
       "        State      Capital  Area (in sq. miles)\n",
       "0  California   Sacramento               163696\n",
       "1      Nevada  Carson City               110567\n",
       "2    Illinois  Springfield                57915\n",
       "3    Colorado       Denver               104185\n",
       "4    New York       Albany                54556\n",
       "5    Maryland    Annapolis                12407"
      ]
     },
     "execution_count": 15,
     "metadata": {},
     "output_type": "execute_result"
    }
   ],
   "source": [
    "states_data= pd.DataFrame(my_dict) \n",
    "states_data"
   ]
  },
  {
   "cell_type": "markdown",
   "metadata": {},
   "source": [
    "You can see how panda data frames look better formatted than simple arrays. But the powers of panda go beyond looking nice. For example, you can view only the first 3 rows by calling `states_data[:3]`. Or do more complicated slices exactly like you would do with arrays. Try `states_data[:3]`. \n",
    "\n",
    "Note that 2D panda data frames only have one index, corresponding to the row number. Column indices are now replaced by the header, whihc makes accessing columns even easier. For example, you would slice just the capitals columns by saying:"
   ]
  },
  {
   "cell_type": "code",
   "execution_count": 16,
   "metadata": {},
   "outputs": [
    {
     "data": {
      "text/plain": [
       "0     Sacramento\n",
       "1    Carson City\n",
       "2    Springfield\n",
       "3         Denver\n",
       "4         Albany\n",
       "5      Annapolis\n",
       "Name: Capital, dtype: object"
      ]
     },
     "execution_count": 16,
     "metadata": {},
     "output_type": "execute_result"
    }
   ],
   "source": [
    "states_data['Capital']"
   ]
  },
  {
   "cell_type": "markdown",
   "metadata": {},
   "source": [
    "The output is still a data frame object, which means you can logically extract data directly from this. For example, we can easily select the states with an area under 55000 square miles using:"
   ]
  },
  {
   "cell_type": "code",
   "execution_count": 17,
   "metadata": {},
   "outputs": [
    {
     "data": {
      "text/html": [
       "<div>\n",
       "<style scoped>\n",
       "    .dataframe tbody tr th:only-of-type {\n",
       "        vertical-align: middle;\n",
       "    }\n",
       "\n",
       "    .dataframe tbody tr th {\n",
       "        vertical-align: top;\n",
       "    }\n",
       "\n",
       "    .dataframe thead th {\n",
       "        text-align: right;\n",
       "    }\n",
       "</style>\n",
       "<table border=\"1\" class=\"dataframe\">\n",
       "  <thead>\n",
       "    <tr style=\"text-align: right;\">\n",
       "      <th></th>\n",
       "      <th>State</th>\n",
       "      <th>Capital</th>\n",
       "      <th>Area (in sq. miles)</th>\n",
       "    </tr>\n",
       "  </thead>\n",
       "  <tbody>\n",
       "    <tr>\n",
       "      <th>4</th>\n",
       "      <td>New York</td>\n",
       "      <td>Albany</td>\n",
       "      <td>54556</td>\n",
       "    </tr>\n",
       "    <tr>\n",
       "      <th>5</th>\n",
       "      <td>Maryland</td>\n",
       "      <td>Annapolis</td>\n",
       "      <td>12407</td>\n",
       "    </tr>\n",
       "  </tbody>\n",
       "</table>\n",
       "</div>"
      ],
      "text/plain": [
       "      State    Capital  Area (in sq. miles)\n",
       "4  New York     Albany                54556\n",
       "5  Maryland  Annapolis                12407"
      ]
     },
     "execution_count": 17,
     "metadata": {},
     "output_type": "execute_result"
    }
   ],
   "source": [
    "states_data[states_data['Area (in sq. miles)']<55000]"
   ]
  },
  {
   "cell_type": "markdown",
   "metadata": {},
   "source": [
    "Make sure to use the exact string of the header. \n",
    "\n",
    "Pandas is even better with importing csv files directly into data frames. And there are many more manipulations once can do, to plot, sort and filter directly from within pandas. We will explore some of these options with a real FDA data set below.\n",
    "\n",
    "<a id='lipstick'></a>\n",
    "\n",
    "\n",
    "\n",
    "\n",
    "### Data science of lead in lipsticks\n",
    "\n",
    "The US Food and Drug Administration (FDA) conducted a detailed study of lead content in major lipsticks between 2009 and 2012 in an attempt to test the safety of products in the market. Details of the study and their data can be [viewed here](https://www.fda.gov/cosmetics/cosmetic-products/limiting-lead-lipstick-and-other-cosmetics#reference1). We will analyze some of the trends from the FDA data set, motivated by similar analyses by [Prof. Kristin Sainani at Stanford](https://youtu.be/nlKIT-_b2jU) and [Prof. Lorena Barba at George Washington University](https://github.com/engineersCode/EngComp). The latter link is a fantastic resource for interested students to learn more advanced python data analysis.\n",
    "\n",
    "For our purposes, the data set is provided in the file FDA2012-lipstickdata.csv. First, try opening the file outside python to get a sense of the how the data is laid out. You will notice that there is a header row with titles like 'Brand' and 'Parent company'. If you were using NumPy's `loadtxt` to import this data, you would have to be careful to skip this row. And, the data types are different (mixture of strings, ints, and floats) which you would force you to import columns individually (see tutorial 2, practice problems 5 and 6). Something like `np.loadtxt(\"FDA2012-lipstickdata.csv\",delimiter=',',usecols=[3],skiprows=1)` would skip the header row and import only the third column.\n",
    "\n",
    "Instead, pandas takes care of all this directly! And even names the columns with the appropriate headers extracted from the csv file:"
   ]
  },
  {
   "cell_type": "code",
   "execution_count": 18,
   "metadata": {},
   "outputs": [
    {
     "data": {
      "text/html": [
       "<div>\n",
       "<style scoped>\n",
       "    .dataframe tbody tr th:only-of-type {\n",
       "        vertical-align: middle;\n",
       "    }\n",
       "\n",
       "    .dataframe tbody tr th {\n",
       "        vertical-align: top;\n",
       "    }\n",
       "\n",
       "    .dataframe thead th {\n",
       "        text-align: right;\n",
       "    }\n",
       "</style>\n",
       "<table border=\"1\" class=\"dataframe\">\n",
       "  <thead>\n",
       "    <tr style=\"text-align: right;\">\n",
       "      <th></th>\n",
       "      <th>Sample #</th>\n",
       "      <th>Brand</th>\n",
       "      <th>Parent company</th>\n",
       "      <th>Lead (ppm)</th>\n",
       "    </tr>\n",
       "  </thead>\n",
       "  <tbody>\n",
       "    <tr>\n",
       "      <th>0</th>\n",
       "      <td>1</td>\n",
       "      <td>Maybelline</td>\n",
       "      <td>L'Oreal USA</td>\n",
       "      <td>7.190</td>\n",
       "    </tr>\n",
       "    <tr>\n",
       "      <th>1</th>\n",
       "      <td>2</td>\n",
       "      <td>L'Oreal</td>\n",
       "      <td>L'Oreal USA</td>\n",
       "      <td>7.000</td>\n",
       "    </tr>\n",
       "    <tr>\n",
       "      <th>2</th>\n",
       "      <td>3</td>\n",
       "      <td>NARS</td>\n",
       "      <td>Shiseido</td>\n",
       "      <td>4.930</td>\n",
       "    </tr>\n",
       "    <tr>\n",
       "      <th>3</th>\n",
       "      <td>4</td>\n",
       "      <td>Cover Girl Queen</td>\n",
       "      <td>Procter &amp; Gamble</td>\n",
       "      <td>4.920</td>\n",
       "    </tr>\n",
       "    <tr>\n",
       "      <th>4</th>\n",
       "      <td>5</td>\n",
       "      <td>NARS</td>\n",
       "      <td>Shiseido</td>\n",
       "      <td>4.890</td>\n",
       "    </tr>\n",
       "    <tr>\n",
       "      <th>...</th>\n",
       "      <td>...</td>\n",
       "      <td>...</td>\n",
       "      <td>...</td>\n",
       "      <td>...</td>\n",
       "    </tr>\n",
       "    <tr>\n",
       "      <th>395</th>\n",
       "      <td>396</td>\n",
       "      <td>M.A.C</td>\n",
       "      <td>Estee Lauder</td>\n",
       "      <td>0.030</td>\n",
       "    </tr>\n",
       "    <tr>\n",
       "      <th>396</th>\n",
       "      <td>397</td>\n",
       "      <td>Lori Anne</td>\n",
       "      <td>Mood Magic</td>\n",
       "      <td>0.030</td>\n",
       "    </tr>\n",
       "    <tr>\n",
       "      <th>397</th>\n",
       "      <td>398</td>\n",
       "      <td>Clinique</td>\n",
       "      <td>Estee Lauder</td>\n",
       "      <td>0.026</td>\n",
       "    </tr>\n",
       "    <tr>\n",
       "      <th>398</th>\n",
       "      <td>399</td>\n",
       "      <td>L'Oreal</td>\n",
       "      <td>L'Oreal USA</td>\n",
       "      <td>0.026</td>\n",
       "    </tr>\n",
       "    <tr>\n",
       "      <th>399</th>\n",
       "      <td>400</td>\n",
       "      <td>Wet'n'Wild</td>\n",
       "      <td>Markwins International</td>\n",
       "      <td>0.026</td>\n",
       "    </tr>\n",
       "  </tbody>\n",
       "</table>\n",
       "<p>400 rows × 4 columns</p>\n",
       "</div>"
      ],
      "text/plain": [
       "     Sample #             Brand          Parent company  Lead (ppm)\n",
       "0           1        Maybelline             L'Oreal USA       7.190\n",
       "1           2           L'Oreal             L'Oreal USA       7.000\n",
       "2           3              NARS                Shiseido       4.930\n",
       "3           4  Cover Girl Queen        Procter & Gamble       4.920\n",
       "4           5              NARS                Shiseido       4.890\n",
       "..        ...               ...                     ...         ...\n",
       "395       396             M.A.C            Estee Lauder       0.030\n",
       "396       397         Lori Anne              Mood Magic       0.030\n",
       "397       398          Clinique            Estee Lauder       0.026\n",
       "398       399           L'Oreal             L'Oreal USA       0.026\n",
       "399       400        Wet'n'Wild  Markwins International       0.026\n",
       "\n",
       "[400 rows x 4 columns]"
      ]
     },
     "execution_count": 18,
     "metadata": {},
     "output_type": "execute_result"
    }
   ],
   "source": [
    "lead2012 = pd.read_csv(\"FDA2012-lipstickdata.csv\")\n",
    "lead2012"
   ]
  },
  {
   "cell_type": "markdown",
   "metadata": {},
   "source": [
    "You will see that there are 400 rows of data, and pandas has organized it with appropriate row headers etc. Like before, you can slice to view any subset of the rows: for example, try `lead2012[5:300:30]` to view every 30th entry between the 5th and 300th entry. \n",
    "\n",
    "Let's first see how many of each brand were studied. You can count number of repeated entries using the `values_counts` operation. It's easy if we first create a variable with data from just the 'Brand' column:"
   ]
  },
  {
   "cell_type": "code",
   "execution_count": 19,
   "metadata": {},
   "outputs": [
    {
     "name": "stdout",
     "output_type": "stream",
     "text": [
      "M.A.C                          41\n",
      "Clinique                       34\n",
      "Revlon                         33\n",
      "L'Oreal                        29\n",
      "Lancome                        25\n",
      "Mary Kay                       25\n",
      "Estee Lauder                   25\n",
      "Maybelline                     23\n",
      "Avon                           20\n",
      "Stargazer                      18\n",
      "Cover Girl                     14\n",
      "Chanel                         11\n",
      "Almay                           8\n",
      "Victoria's Secret               7\n",
      "Bobbi Brown                     7\n",
      "NARS                            6\n",
      "Cover Girl Queen Collection     6\n",
      "Elizabeth Arden                 6\n",
      "Iman Cosmetics                  6\n",
      "Clarins                         5\n",
      "BeneFit                         5\n",
      "Rimmel London                   5\n",
      "Fashion Fair                    5\n",
      "Estee Lauder Prescriptives      5\n",
      "Wet 'n' Wild                    4\n",
      "Burt's Bees                     4\n",
      "Estee Lauder Origins            4\n",
      "Shiseido                        3\n",
      "Dior                            3\n",
      "Sonia Kashuk                    2\n",
      "Gabriel                         2\n",
      "Lori Anne                       2\n",
      "Jafra                           2\n",
      "Colorganics                     2\n",
      "Wet'n'Wild                      1\n",
      "Cover Girl Queen                1\n",
      "M.A.C Dsquared2                 1\n",
      "Name: Brand, dtype: int64\n"
     ]
    }
   ],
   "source": [
    "# new variable with just Brand info\n",
    "brands=lead2012['Brand']\n",
    "\n",
    "# count repeated entries in this column\n",
    "brands_count=brands.value_counts()\n",
    "\n",
    "# display entry count\n",
    "print(brands_count)"
   ]
  },
  {
   "cell_type": "markdown",
   "metadata": {},
   "source": [
    "That's useful, but even better if we can visualize this. Pandas plots without explicitly using pyplot, but it's always a good idea to import pyplot so we have more control over the figure."
   ]
  },
  {
   "cell_type": "code",
   "execution_count": 20,
   "metadata": {},
   "outputs": [
    {
     "data": {
      "image/png": "[encoded data removed]",
      "text/plain": [
       "<Figure size 432x288 with 1 Axes>"
      ]
     },
     "metadata": {
      "needs_background": "light"
     },
     "output_type": "display_data"
    }
   ],
   "source": [
    "import matplotlib.pyplot as plt\n",
    "\n",
    "brands_count.plot.bar()\n",
    "plt.show()"
   ]
  },
  {
   "cell_type": "markdown",
   "metadata": {},
   "source": [
    "Pandas automatically picks the associated string as the x-labels! You can control the figure size by providing a `figsize` option: try `brands_count.plot.bar(figsize=(10,5))`. You can have horizontal bars instead: try `brands_count.plot.barh()`. And you can provide lavels to the axes and a title. Try it.\n",
    "\n",
    "Now let's play with the ppm measurements. Let's first look at the distribution of values that FDA recorded. Fort this, first create a new data object and then draw a histogram:"
   ]
  },
  {
   "cell_type": "code",
   "execution_count": 21,
   "metadata": {},
   "outputs": [
    {
     "data": {
      "image/png": "[encoded data removed]",
      "text/plain": [
       "<Figure size 432x288 with 1 Axes>"
      ]
     },
     "metadata": {
      "needs_background": "light"
     },
     "output_type": "display_data"
    }
   ],
   "source": [
    "# new variable containing only ppm info: use correct string header\n",
    "ppm=lead2012['Lead (ppm)']\n",
    "\n",
    "plt.hist(ppm,20,edgecolor='white')\n",
    "\n",
    "# making the plot look good\n",
    "plt.title('Distribution of lead in 400 lipstick samples')\n",
    "plt.xlabel('Lead concentation (in ppm)')\n",
    "plt.ylabel('# of cases')\n",
    "plt.show()"
   ]
  },
  {
   "cell_type": "markdown",
   "metadata": {},
   "source": [
    "Looks like a spread of values under 8 ppm, with the majority under 2 ppm. Try manipulating the number of bins in the `hist` command.\n",
    "\n",
    "\n",
    "Turns out all of these are within safety regulations set by FDA. However, let's say we wanted to see which ones had more than 4 ppm (this is not criticizing any brand, just pointing out what the FDA data shows!). With pandas, this is easy:"
   ]
  },
  {
   "cell_type": "code",
   "execution_count": 22,
   "metadata": {},
   "outputs": [
    {
     "data": {
      "text/html": [
       "<div>\n",
       "<style scoped>\n",
       "    .dataframe tbody tr th:only-of-type {\n",
       "        vertical-align: middle;\n",
       "    }\n",
       "\n",
       "    .dataframe tbody tr th {\n",
       "        vertical-align: top;\n",
       "    }\n",
       "\n",
       "    .dataframe thead th {\n",
       "        text-align: right;\n",
       "    }\n",
       "</style>\n",
       "<table border=\"1\" class=\"dataframe\">\n",
       "  <thead>\n",
       "    <tr style=\"text-align: right;\">\n",
       "      <th></th>\n",
       "      <th>Sample #</th>\n",
       "      <th>Brand</th>\n",
       "      <th>Parent company</th>\n",
       "      <th>Lead (ppm)</th>\n",
       "    </tr>\n",
       "  </thead>\n",
       "  <tbody>\n",
       "    <tr>\n",
       "      <th>0</th>\n",
       "      <td>1</td>\n",
       "      <td>Maybelline</td>\n",
       "      <td>L'Oreal USA</td>\n",
       "      <td>7.19</td>\n",
       "    </tr>\n",
       "    <tr>\n",
       "      <th>1</th>\n",
       "      <td>2</td>\n",
       "      <td>L'Oreal</td>\n",
       "      <td>L'Oreal USA</td>\n",
       "      <td>7.00</td>\n",
       "    </tr>\n",
       "    <tr>\n",
       "      <th>2</th>\n",
       "      <td>3</td>\n",
       "      <td>NARS</td>\n",
       "      <td>Shiseido</td>\n",
       "      <td>4.93</td>\n",
       "    </tr>\n",
       "    <tr>\n",
       "      <th>3</th>\n",
       "      <td>4</td>\n",
       "      <td>Cover Girl Queen</td>\n",
       "      <td>Procter &amp; Gamble</td>\n",
       "      <td>4.92</td>\n",
       "    </tr>\n",
       "    <tr>\n",
       "      <th>4</th>\n",
       "      <td>5</td>\n",
       "      <td>NARS</td>\n",
       "      <td>Shiseido</td>\n",
       "      <td>4.89</td>\n",
       "    </tr>\n",
       "    <tr>\n",
       "      <th>5</th>\n",
       "      <td>6</td>\n",
       "      <td>L'Oreal</td>\n",
       "      <td>L'Oreal USA</td>\n",
       "      <td>4.45</td>\n",
       "    </tr>\n",
       "    <tr>\n",
       "      <th>6</th>\n",
       "      <td>7</td>\n",
       "      <td>L'Oreal</td>\n",
       "      <td>L'Oreal USA</td>\n",
       "      <td>4.41</td>\n",
       "    </tr>\n",
       "    <tr>\n",
       "      <th>7</th>\n",
       "      <td>8</td>\n",
       "      <td>Cover Girl</td>\n",
       "      <td>Procter &amp; Gamble</td>\n",
       "      <td>4.28</td>\n",
       "    </tr>\n",
       "    <tr>\n",
       "      <th>8</th>\n",
       "      <td>9</td>\n",
       "      <td>Maybelline</td>\n",
       "      <td>L'Oreal USA</td>\n",
       "      <td>4.23</td>\n",
       "    </tr>\n",
       "    <tr>\n",
       "      <th>9</th>\n",
       "      <td>10</td>\n",
       "      <td>Stargazer</td>\n",
       "      <td>Stargazer</td>\n",
       "      <td>4.12</td>\n",
       "    </tr>\n",
       "    <tr>\n",
       "      <th>10</th>\n",
       "      <td>11</td>\n",
       "      <td>Stargazer</td>\n",
       "      <td>Stargazer</td>\n",
       "      <td>4.06</td>\n",
       "    </tr>\n",
       "  </tbody>\n",
       "</table>\n",
       "</div>"
      ],
      "text/plain": [
       "    Sample #             Brand    Parent company  Lead (ppm)\n",
       "0          1        Maybelline       L'Oreal USA        7.19\n",
       "1          2           L'Oreal       L'Oreal USA        7.00\n",
       "2          3              NARS          Shiseido        4.93\n",
       "3          4  Cover Girl Queen  Procter & Gamble        4.92\n",
       "4          5              NARS          Shiseido        4.89\n",
       "5          6           L'Oreal       L'Oreal USA        4.45\n",
       "6          7           L'Oreal       L'Oreal USA        4.41\n",
       "7          8        Cover Girl  Procter & Gamble        4.28\n",
       "8          9        Maybelline       L'Oreal USA        4.23\n",
       "9         10         Stargazer         Stargazer        4.12\n",
       "10        11         Stargazer         Stargazer        4.06"
      ]
     },
     "execution_count": 22,
     "metadata": {},
     "output_type": "execute_result"
    }
   ],
   "source": [
    "lead2012[ppm>4]"
   ]
  },
  {
   "cell_type": "markdown",
   "metadata": {},
   "source": [
    "You can arrange part of this information into a counted object and plot bar graphs to visualize the number of times each brand appears with ppm greater than 4:"
   ]
  },
  {
   "cell_type": "code",
   "execution_count": 23,
   "metadata": {},
   "outputs": [
    {
     "data": {
      "image/png": "[encoded data removed]",
      "text/plain": [
       "<Figure size 432x288 with 1 Axes>"
      ]
     },
     "metadata": {
      "needs_background": "light"
     },
     "output_type": "display_data"
    }
   ],
   "source": [
    "brands_above4=brands[ppm>4]\n",
    "brands_count_above4=brands_above4.value_counts()\n",
    "\n",
    "brands_count_above4.plot.barh()\n",
    "plt.xlabel('number of samples tested above 4 ppm')\n",
    "plt.show()"
   ]
  },
  {
   "cell_type": "markdown",
   "metadata": {},
   "source": [
    "These examples illustrate the user-friendliness and power of pandas. For our purposes, this overview is sufficient. For curious users, there are tons of free online tutorials with advanced data science example using python and pandas. If you have specific questions beyond this level, talk to me and I can provide additional material. "
   ]
  },
  {
   "cell_type": "markdown",
   "metadata": {},
   "source": [
    "<a id='lineq'></a>\n",
    "\n",
    "\n",
    "\n",
    "## (3.3) Systems of linear equations\n",
    "\n",
    "Systems of linear algebraic equations arise in every aspect of engineering calculations. For example, the 'response' and forcing' are linearly realted in heat flow, porous media percolation, electrical circuits, electromagnetism, elasticity theory etc. More generally, numerical methods in later parts of the course (with regression, deifferential equations, etc) rely on being able to 'invert' or solve a set of couple algebraic equations. In many problems, the memory and time requirements can be high (although this might not be immediately obvious with most modern computers), and efficient fast solutions of linear systems can be key to optimally solving these problems.\n",
    "\n",
    "\n",
    "The standard notation for a system of $n$ equations with $n$ unknowns is as follows (we will use python's numbering system going from 0 to n-1 to avoid confusion):\n",
    "\n",
    "$$\\begin{matrix} A_{00}x_0 + A_{01}x_1 + ... + A_{0,n-1}x_{n-1} = b_0\\\\A_{10}x_0 + A_{11}x_1 + ... + A_{1,n-1}x_{n-1} = b_1 \\\\ .\\\\.\\\\.\\\\A_{n-1,0}x_0 + A_{n-1,1}x_1 + ... + A_{n-1,n-1}x_{n-1} = b_{n-1}\\end{matrix}$$\n",
    "\n",
    "Here, $x_0, x_1, ..., x_{n-1}$ are the n unknown quantities and the coefficients $A_{ij}$ and constants $b_j$ are all known. In matrix notation, this can be rewritten as \n",
    "\n",
    "$$\\begin{bmatrix} A_{00} & A_{01} & ... & A_{0,n-1}\\\\A_{10} & A_{11} & ... & A_{1,n-1} \\\\ . & & &. \\\\. & & \\ddots&. \\\\.& & & .\\\\A_{n-1,0} & A_{n-1,1} & ... & A_{n-1,n-1}\\end{bmatrix} \\begin{bmatrix} x_0 \\\\ x_1 \\\\ .\\\\.\\\\.\\\\ x_{n-1}  \\end{bmatrix}= \\begin{bmatrix} b_0 \\\\ b_1 \\\\ .\\\\.\\\\.\\\\ b_{n-1}  \\end{bmatrix}$$\n",
    "\n",
    "Or, in short hand, ${\\bf A x =b}$. Here, ${\\bf A}$ is a $n \\times n$ matrix with all entries known, ${\\bf b}=(b_0, b_1, ..., b_{n-1}) $ is a column vector with all entries known, and ${\\bf x}=(x_0, x_1, ..., x_{n-1} )$ is a column vector of the unknowns we are after.\n",
    "\n",
    "We know from linear algebra that the solution can be directly obtained by premultipying both side with the matrix inverse of ${\\bf A}$ and noting that ${\\bf A A}^{-1}={\\bf I} $, where ${\\bf I}$ is the identity matrix. This means that ${\\bf x = A}^{-1}{\\bf b}$, and so computing the matrix inverse and performing a matrix-vector operation should give us the solution.\n",
    "\n",
    "However, calculating the inverse of a matrix can be a computationally expensive operation if the matrix is large. When we get to numerical solutions of differential equations, we will encounter matrices with hundreds if not thousands of rows and columns, and this operation can be time-consuming. Although python has inbuilt routines to efficiently calculate inverses (and we will see these later), it's valuable to learn the algorithmic steps in obtaining the solution to such a standard linear algebraic problem. \n",
    "\n",
    "The most common way to solve such a system is by manipulating the system to an equivalent system which is more easily solved. The classic methods that use this trick are Gauss elimination, LU decomposition, and more specific versions of either.\n",
    "\n",
    "<a id='Gauss'></a>\n",
    "\n",
    "\n",
    "\n",
    "### Gauss elimination\n",
    "\n",
    "Gauss elimination is the most common and direct way to solve a matrix system. It involves a series of algortihmic manipulations that convert the matrix to a triangular (or 'echelon') form, and then back-substitutes equation by equation to get the final solution. In the following, we will see every step in action, which will help us build the whole Guass elimination code in the end.\n",
    "\n",
    "Consider the system of 3 equations (so n=3):\n",
    "$$\\begin{matrix} 4x_0 -2x_1 + x_2 = 11\\\\-2x_0 + 4x_1 -2x_2 = -16 \\\\x_0 -2x_1 +4x_2 = 17\\end{matrix}$$\n",
    "In matrix form, this system is:\n",
    "$$\\begin{bmatrix} 4 & -2  & 1 \\\\-2 & 4 & -2 \\\\1 & -2 & 4 \\end{bmatrix} \\begin{bmatrix} x_0 \\\\ x_1 \\\\ x_2 \\end{bmatrix} = \\begin{bmatrix} 11 \\\\ -16 \\\\ 17 \\end{bmatrix}$$\n",
    "\n",
    "The objective of Gauss elimination is to somehow convert this matrix to a triangular form using linear transformations of the original matrix, so it looks like\n",
    "\n",
    "$$\\begin{bmatrix} A_{00} & A_{01}  & A_{02} \\\\0 & A_{11} & A_{12} \\\\0 & 0 & A_{22} \\end{bmatrix} \\begin{bmatrix} x_0 \\\\ x_1 \\\\ x_2 \\end{bmatrix} = \\begin{bmatrix} b_0 \\\\ b_1 \\\\ b_2 \\end{bmatrix}$$\n",
    "\n",
    "Note that $b_0$, $b_1$, and $b_2$ are not necessarily same as the original matrix after this conversion. The advantage of this form is evident if we write the converted system back in equation form:\n",
    "$$\\begin{matrix} A_{00}x_0 +A_{01}x_1 + A_{02}x_2 = b_0\\\\A_{11}x_1 +A_{12}x_2 = b_1 \\\\A_{22}x_2 = b_2\\end{matrix}$$\n",
    "\n",
    "Once in this form, solving for $x_2$ is straightforward: $x_2=b_2/A_{22}$. Once $x_2$ is known, solving for $x_1$ is straightforward: $x_1=\\left(b_1-A_{12}x_2 \\right)/A_{11}$. With $x_2$ and $x_1$ known, solving for $x_0$ is straightforward: $x_0=\\left(b_0-A_{01}x_1 - A_{02}x_2\\right)/A_{00}$. For a larger matrix, these steps continue further upward until all unknowns are determined. This process is called back-substitution.\n",
    "\n",
    "So, how do we go about converting any general matrix to this convenient triangular form. It is useful to construct an *augmented* matrix that combines ${\\bf A}$ and ${\\bf b}$ which would then look like:\n",
    "\n",
    "$$\\begin{bmatrix} 4 & -2  & 1 &: & {\\it 11} \\\\-2 & 4 & -2 &: & {\\it -16} \\\\1 & -2 & 4 &: & {\\it 17}\\end{bmatrix} $$\n",
    "\n",
    "Here, the dots and the italicization remind us that the last column is, in fact, the right hand side of the original equations. Let's first import numpy as make an array of this augmented matrix:"
   ]
  },
  {
   "cell_type": "code",
   "execution_count": 24,
   "metadata": {},
   "outputs": [
    {
     "name": "stdout",
     "output_type": "stream",
     "text": [
      "[[  4.  -2.   1.  11.]\n",
      " [ -2.   4.  -2. -16.]\n",
      " [  1.  -2.   4.  17.]]\n"
     ]
    }
   ],
   "source": [
    "import numpy as np\n",
    "\n",
    "Aug=np.array([[4.,-2.,1.,11.],[-2.,4.,-2.,-16.],[1.,-2.,4.,17.]])\n",
    "\n",
    "# use dots to force entries to be floats (or alternatively set the dtype option)\n",
    "# Aug=np.array([[4,-2,1,11],[-2,4,-2,-16],[1,-2,4,17]],dtype=float)\n",
    "\n",
    "print(Aug)"
   ]
  },
  {
   "cell_type": "markdown",
   "metadata": {},
   "source": [
    "Remember that the last column is the right hand side, and is not part of the matrix ${\\bf A}$. The objective is to get zeros in the lower triangular part of the $3 \\times 3$ matrix using linear combinations of any rows. Let's start with the second row. We need to eliminate the first entry in that row (currently -2) and make it a zero. One way to do this is to multiply the first row with 0.5, add it to the second row, and let the result replace the second row. In pseudocode, this would read: $$\\text{row}_1 = \\text{row}_1 + 0.5 (\\text{row}_0)$$\n",
    "The unchanged first row is then called the 'pivot'. In terms of array manipulation, this would be equivalent t0"
   ]
  },
  {
   "cell_type": "code",
   "execution_count": 25,
   "metadata": {},
   "outputs": [
    {
     "name": "stdout",
     "output_type": "stream",
     "text": [
      "[[  4.   -2.    1.   11. ]\n",
      " [  0.    3.   -1.5 -10.5]\n",
      " [  1.   -2.    4.   17. ]]\n"
     ]
    }
   ],
   "source": [
    "Aug[1,:]=Aug[1,:]+0.5*Aug[0,:]\n",
    "print(Aug)"
   ]
  },
  {
   "cell_type": "markdown",
   "metadata": {},
   "source": [
    "Note that the final column, corresponding to the right hand side, is also simultaneously changing in this augmented form. Now let's clear out the first entry in the last row as well, which is currently 1. The transformation that makes this 0 is $$\\text{row}_2 = \\text{row}_2 - 0.25 (\\text{row}_0)$$"
   ]
  },
  {
   "cell_type": "code",
   "execution_count": 26,
   "metadata": {},
   "outputs": [
    {
     "name": "stdout",
     "output_type": "stream",
     "text": [
      "[[  4.    -2.     1.    11.  ]\n",
      " [  0.     3.    -1.5  -10.5 ]\n",
      " [  0.    -1.5    3.75  14.25]]\n"
     ]
    }
   ],
   "source": [
    "Aug[2,:]=Aug[2,:]-0.25*Aug[0,:]\n",
    "print(Aug)"
   ]
  },
  {
   "cell_type": "markdown",
   "metadata": {},
   "source": [
    "We are doing good so far. For this matrix, the next step is to move to the second row as our 'pivot' and use it to eliminate leading 0s in every row below it. Here, that means eliminating the -1.5 in the third row using $$\\text{row}_2 = \\text{row}_2 + 0.5 (\\text{row}_1)$$"
   ]
  },
  {
   "cell_type": "code",
   "execution_count": 27,
   "metadata": {},
   "outputs": [
    {
     "name": "stdout",
     "output_type": "stream",
     "text": [
      "[[  4.   -2.    1.   11. ]\n",
      " [  0.    3.   -1.5 -10.5]\n",
      " [  0.    0.    3.    9. ]]\n"
     ]
    }
   ],
   "source": [
    "Aug[2,:]=Aug[2,:]+0.5*Aug[1,:]\n",
    "print(Aug)"
   ]
  },
  {
   "cell_type": "markdown",
   "metadata": {},
   "source": [
    "And there we have it! The original $3\\times 3$ is in an upper triangular form, and the corresponding RHS is the fourth column of `Aug`. The corresponding modified equation system is\n",
    "\n",
    "$$\\begin{matrix} 4x_0 -2x_1 +x_2 = 11\\\\3 x_1 -1.5x_2 = -10.5 \\\\3x_2 = 9\\end{matrix}$$\n",
    "\n",
    "The backsubstitution phase is then straigtforward. Start with the last row of `Aug` to get $x_2$"
   ]
  },
  {
   "cell_type": "code",
   "execution_count": 28,
   "metadata": {},
   "outputs": [],
   "source": [
    "# first define an array of zeros for x\n",
    "x=np.zeros(3)\n",
    "\n",
    "# x2 from last row\n",
    "x[2]=Aug[2,3]/Aug[2,2]"
   ]
  },
  {
   "cell_type": "markdown",
   "metadata": {},
   "source": [
    "Then sequentially work upward to uncover $x_1$ and then $x_0$"
   ]
  },
  {
   "cell_type": "code",
   "execution_count": 29,
   "metadata": {},
   "outputs": [
    {
     "name": "stdout",
     "output_type": "stream",
     "text": [
      "[ 1. -2.  3.]\n"
     ]
    }
   ],
   "source": [
    "# solve for x1\n",
    "x[1]=(Aug[1,3]-Aug[1,2]*x[2])/Aug[1,1]\n",
    "\n",
    "# then solve for x0\n",
    "x[0]=(Aug[0,3]-Aug[0,1]*x[1]-Aug[0,2]*x[2])/Aug[0,0]\n",
    "\n",
    "# results!\n",
    "print(x)"
   ]
  },
  {
   "cell_type": "markdown",
   "metadata": {},
   "source": [
    "And that's our solution! More generally, we would like our code to figure out for itself what the multipliers (+0.5, -0.25, +0.5 above) in each step were. These multiplier constants are picked so that the entry in the 'current' row becomes zero when added to the scaled 'pivot' row. So we need multiplier constants that are the negative of the entry in the same column in the 'current' row divided by the entry in the 'pivot' row.\n",
    "\n",
    "In the example above, the first multiplier +0.5 was simply `-Aug[1,0]/Aug[0,0]` or -(-2)/4. Using this logic, we can construct a more general Gauss elimination algorithm in one shot that works for any $3 \\times 3$ matrix, and it would look like this:"
   ]
  },
  {
   "cell_type": "code",
   "execution_count": 30,
   "metadata": {},
   "outputs": [
    {
     "name": "stdout",
     "output_type": "stream",
     "text": [
      "[ 1. -2.  3.]\n"
     ]
    }
   ],
   "source": [
    "import numpy as np\n",
    "\n",
    "Aug=np.array([[4,-2,1,11],[-2,4,-2,-16],[1,-2,4,17]],dtype=float)\n",
    "x=np.zeros(3)\n",
    "\n",
    "# find multiplier to eliminate A10, replace row\n",
    "mult_1=-Aug[1,0]/Aug[0,0]\n",
    "Aug[1,:]=Aug[1,:]+mult_1*Aug[0,:]\n",
    "\n",
    "# find multiplier to eliminate A20, replace row\n",
    "mult_2=-Aug[2,0]/Aug[0,0]\n",
    "Aug[2,:]=Aug[2,:]+mult_2*Aug[0,:]\n",
    "\n",
    "# find multiplier to eliminate A21, replace row\n",
    "mult_3=-Aug[2,1]/Aug[1,1]\n",
    "Aug[2,:]=Aug[2,:]+mult_3*Aug[1,:]\n",
    "\n",
    "# back-substitute\n",
    "x[2]=Aug[2,3]/Aug[2,2]\n",
    "x[1]=(Aug[1,3]-Aug[1,2]*x[2])/Aug[1,1]\n",
    "x[0]=(Aug[0,3]-Aug[0,1]*x[1]-Aug[0,2]*x[2])/Aug[0,0]\n",
    "\n",
    "print(x)"
   ]
  },
  {
   "cell_type": "markdown",
   "metadata": {},
   "source": [
    "Change the augmented matrix above to determine solutions to the following system: $$\\begin{matrix} 8x_0 -6x_1 + 2x_2 = 28\\\\-4x_0 + 11x_1 -7x_2 = -40 \\\\4x_0 -7x_1 +6x_2 = 33\\end{matrix}$$\n",
    "\n",
    "Let's build up in generality. Given the ${\\bf A}$ matrix and the the RHS column vector ${\\bf b}$, the augmented matrix can be constructed using the `hstack` (horizontal stack) command:"
   ]
  },
  {
   "cell_type": "code",
   "execution_count": 31,
   "metadata": {},
   "outputs": [
    {
     "name": "stdout",
     "output_type": "stream",
     "text": [
      "[[ 4. -2.  1.]\n",
      " [-2.  4. -2.]\n",
      " [ 1. -2.  4.]]\n",
      "[[ 11]\n",
      " [-16]\n",
      " [ 17]]\n",
      "[[  4.  -2.   1.  11.]\n",
      " [ -2.   4.  -2. -16.]\n",
      " [  1.  -2.   4.  17.]]\n"
     ]
    }
   ],
   "source": [
    "# 3 by 3 matrix\n",
    "A=np.array([[4,-2,1],[-2,4,-2],[1,-2,4]],dtype=float)\n",
    "print(A)\n",
    "\n",
    "# 3 by 1 column vector\n",
    "b=np.array([[11],[-16],[17]])\n",
    "print(b)\n",
    "\n",
    "# horizontally stack\n",
    "Aug=np.hstack((A,b))\n",
    "print(Aug)"
   ]
  },
  {
   "cell_type": "markdown",
   "metadata": {},
   "source": [
    "This is useful to stack the same matrix with multiple possible right-hand sides. Now you have all the ingredients to create a function that will take a $3\\times 3$ matrix and a $3 \\times 1$ vector as inputs, and return the solution of the system as the output. Make this function as an exercise! We will use it over and over again.\n",
    "\n",
    "We will often run into matrices and linear system much bigger than n=3. So the last step in generalizing Gauss elimination is carefully extending the logic to arbitrary matrix size. This requires the additional steps of finding the size of the matrix and running loops to do all the step above, but the core idea is the same. The following algorithmic steps will do the triangular elimination:\n",
    "\n",
    "* determine the size of the system n\n",
    "* stack the RHS\n",
    "* start with the first row as the pivot row\n",
    "* eliminate the first column in every row under the first using the row replacement trick\n",
    "* move to the second row as the pivot row\n",
    "* eliminate the second column in every row under the second using the row replacement trick <br>\n",
    ". <br>\n",
    ". <br>\n",
    ". <br>\n",
    "* repeat until last but one row is the pivot row\n",
    "\n",
    "Notice that this requires a loop to traverse the 'pivot' rows and an loop within a loop (an 'inner' or 'nested' loop) to traverse every row below the pivot row at each step.\n",
    "\n",
    "The following code does this for any matrix with n rows:"
   ]
  },
  {
   "cell_type": "code",
   "execution_count": 32,
   "metadata": {},
   "outputs": [],
   "source": [
    "# define Aug and n first\n",
    "n=len(Aug)\n",
    "for i in range(n-1):\n",
    "    for j in range(i+1,n):\n",
    "        mult=-Aug[j,i]/Aug[i,i]\n",
    "        Aug[j,:]+=mult*Aug[i,:]"
   ]
  },
  {
   "cell_type": "markdown",
   "metadata": {},
   "source": [
    "Use the augmented matrix from one of the examples above (with n=3) to verify that this piece of code does indeed eliminate all lower traingular elements.\n",
    "\n",
    "Then try again with a bigger matrix! Generate an arbitrary matrix filled with random numbers (see tutorial 2) with 10 rows and columns. See if this works.\n",
    "\n",
    "Now that we have a triangular matrix $U$ and a modified RHS $c$ tha can be extracted from the modified augmented matrix, the backsubstitution is straightforward. Comparing with the 3 equation system above, the general formula for $x_i$ where $i$ is between 0 and n-1 working from the bottom up is \n",
    "$$x_i=\\left(c_i - \\sum_{j=i+1}^{n-1} U_{ij}x_j \\right) \\bigg/ U_{ii} $$\n",
    "\n",
    "This has to start from the last row ($i=n-1$) and work up to the first ($i=0$). Recognize that $U$ and $c$ are just parts of the augmnented matrix result from the triangulation. So the corresponding code is:"
   ]
  },
  {
   "cell_type": "code",
   "execution_count": 33,
   "metadata": {},
   "outputs": [],
   "source": [
    "# define a 'blank' x with zeros\n",
    "x=np.zeros(n)\n",
    "\n",
    "for i in range(n-1,-1,-1): # justify why the -1 here?\n",
    "    x[i]=Aug[i,-1]         # and what about the -1 here?\n",
    "    for j in range(i+1,n):\n",
    "        x[i]-=Aug[i,j]*x[j]\n",
    "    x[i]/=Aug[i,i]"
   ]
  },
  {
   "cell_type": "markdown",
   "metadata": {},
   "source": [
    "Verify that this is conjunction with the triangulation code does solve both the $3\\times 3$ matrices above.\n",
    "\n",
    "Now you are ready to write a full function that takes a general square matrix, a column vector, and does all of the following in one shot. **Create this function for future use!** This should do the following:\n",
    "* determine n using `len(b)`\n",
    "* stack to create an augmented matrix\n",
    "* triangulate (do a zero check)\n",
    "* backsubstitute\n",
    "* return the solution of the system!\n",
    "\n",
    "There are a few more optimization one can do. For example, we do not need to create a new variable `x`. We can econonomize on memory storage by simply overwriting the RHS column vector (since it has already taken up computer memory) or the last column of our augmented matrix with our result, and then return it as the solution. Also, we can replace the inner loop in the back-substitution phase with a `dot` operation. Further, if an entry is already zero, we dont need to eliminate it because it's zero to begin with! So we can just skip that replacement step: one way to do this is to put an `if` condition and run the replacement lines only if `A[j,i]!=0.` (notice the float 0. and not the integer 0). And, finally, we can also do all these steps directly on ${\\bf A}$ _and_ ${\\bf b}$ without even creating the augmented matrix: you just have to carefully do all the steps for the corresponding column vector as well. Try any of these enhancements if you are adventurous and verify your result with sample matrices with each change.\n"
   ]
  },
  {
   "cell_type": "code",
   "execution_count": 1,
   "metadata": {},
   "outputs": [],
   "source": [
    "# create a function Gauss(A,b)\n",
    "# input A: n x n matrix\n",
    "# input b: n x 1 column vector\n",
    "# return as output: n x 1 column vector solution of system Ax=b\n"
   ]
  },
  {
   "cell_type": "markdown",
   "metadata": {},
   "source": [
    "<a id='GaussPiv'></a>\n",
    "\n",
    "\n",
    "\n",
    "### Pivoting: choosing the right row\n",
    "\n",
    "Once you have your 'packaged' function `Gauss` ready, we can explore an important situation where the simple Gauss elimination fails. Consider the following system of three variables:\n",
    "$$\\begin{matrix} 2x_0 -x_1= 1\\\\-x_0 + 2x_1 -x_2 = 0 \\\\-x_1 +x_2 = 0\\end{matrix}$$\n",
    "Solving this using your `Gauss` function (the following code assumes that a function of that name has been created and executed before this):"
   ]
  },
  {
   "cell_type": "code",
   "execution_count": 35,
   "metadata": {},
   "outputs": [
    {
     "data": {
      "text/plain": [
       "array([[1.],\n",
       "       [1.],\n",
       "       [1.]])"
      ]
     },
     "execution_count": 35,
     "metadata": {},
     "output_type": "execute_result"
    }
   ],
   "source": [
    "# create matrix and RHS vector\n",
    "C=np.array([[2,-1,0],[-1,2,-1],[0,-1,1]],dtype=float)\n",
    "d=np.array([[1],[0],[0]],dtype=float)\n",
    "\n",
    "# solve\n",
    "Gauss(C,d)"
   ]
  },
  {
   "cell_type": "markdown",
   "metadata": {},
   "source": [
    "The solution is $(1,1,1)$. Now, run the same system but with the order of rows changed:\n",
    "$$\\begin{matrix} -x_1 +x_2 = 0\\\\2x_0 -x_1= 1\\\\-x_0 + 2x_1 -x_2 = 0 \\end{matrix}$$\n",
    "The solution should be the same, because the equations are the same and clearly have a unique solution. But try changin C and d above to this order and see what happens:"
   ]
  },
  {
   "cell_type": "code",
   "execution_count": 36,
   "metadata": {},
   "outputs": [
    {
     "name": "stderr",
     "output_type": "stream",
     "text": [
      "/Users/harishankar/opt/anaconda3/lib/python3.7/site-packages/ipykernel_launcher.py:14: RuntimeWarning: divide by zero encountered in double_scalars\n",
      "  \n",
      "/Users/harishankar/opt/anaconda3/lib/python3.7/site-packages/ipykernel_launcher.py:15: RuntimeWarning: invalid value encountered in multiply\n",
      "  from ipykernel import kernelapp as app\n",
      "/Users/harishankar/opt/anaconda3/lib/python3.7/site-packages/ipykernel_launcher.py:14: RuntimeWarning: invalid value encountered in double_scalars\n",
      "  \n"
     ]
    },
    {
     "data": {
      "text/plain": [
       "array([[nan],\n",
       "       [nan],\n",
       "       [nan]])"
      ]
     },
     "execution_count": 36,
     "metadata": {},
     "output_type": "execute_result"
    }
   ],
   "source": [
    "# same system, row order changed\n",
    "C=np.array([[0,-1,1],[2,-1,0],[-1,2,-1]],dtype=float)\n",
    "d=np.array([[0],[1],[0]],dtype=float)\n",
    "\n",
    "# solve\n",
    "Gauss(C,d)"
   ]
  },
  {
   "cell_type": "markdown",
   "metadata": {},
   "source": [
    "You get error warnings. And the results are `nan`, which is computer lingo for Not A Number.\n",
    "\n",
    "If you think carefully, the only (seemingly harmless) change between the two cases is that the second version has a matrix with a 0 in the diagonal. And Gauss elimination repeatedly uses a division by diagonal elements in the pivot row to determine the 'multiplier' for every row below it. And this division by zero gives the error.\n",
    "\n",
    "This is where choosing the pivot row becomes crucial. We have to be prepared for a matrix to have terms on the diagonal and preemptively avoid this error. The trick then is to first check if the diagonal entry in the reference or pivot row is 0, and if it is, swap that row with any row beloe it that does not have a zero along that column. And the corresponding RHS would swap too. The system of equations remains the same, but the order of pivoting changes. Try this as a practice problem, and develop a modified version of Gauss elimination called `GaussPiv(A,b)`. Then \n",
    "\n",
    "\n",
    "This is where choosing the pivot row becomes crucial. The trick then is to first check if the diagonal entry in the reference or pivot row is 0, and if it is, swap that row with any row below it that does not have a zero along that column. Try this as a practice problem:"
   ]
  },
  {
   "cell_type": "code",
   "execution_count": 37,
   "metadata": {},
   "outputs": [],
   "source": [
    "# create a function GaussPiv(A,b)\n",
    "# input A: n x n matrix\n",
    "# input b: n x 1 column vector\n",
    "# return as output: n x 1 column vector solution of system Ax=b\n",
    "# must use a pivot row swap if diagonal entry is 0\n",
    "\n"
   ]
  },
  {
   "cell_type": "markdown",
   "metadata": {},
   "source": [
    "Then, solve the troublesome system from before using your `GaussPiv` function (the following code assumes that a function of that name has been executed before this):"
   ]
  },
  {
   "cell_type": "code",
   "execution_count": 38,
   "metadata": {},
   "outputs": [
    {
     "data": {
      "text/plain": [
       "array([[1.],\n",
       "       [1.],\n",
       "       [1.]])"
      ]
     },
     "execution_count": 38,
     "metadata": {},
     "output_type": "execute_result"
    }
   ],
   "source": [
    "# same system, row order changed\n",
    "C=np.array([[0,-1,1],[2,-1,0],[-1,2,-1]],dtype=float)\n",
    "d=np.array([[0],[1],[0]],dtype=float)\n",
    "\n",
    "# solve using pivoted version\n",
    "GaussPiv(C,d)"
   ]
  },
  {
   "cell_type": "markdown",
   "metadata": {},
   "source": [
    "If you swap your pivot row correctly, you should not find an error. And the solution should be the same as before!"
   ]
  },
  {
   "cell_type": "markdown",
   "metadata": {},
   "source": [
    "<a id='GaussJ'></a>\n",
    "\n",
    "\n",
    "\n",
    "### Gauss-Jordan: Gauss elimination on steroids!\n",
    "\n",
    "A common variant of Gauss elimination is the Gauss-Jordan method. Here, the idea is that you don't just eliminate the lower triangular entries, but keep going and do the same for the upper triangle as well. That would leave us with just the diagonal entries being non-zero. Additionally, if we normalize the pivot row with the diagonal entry (meaning divide the entire row by the diagonal entry), the final resultant matrix will only have diagonal entries and all of them will be 1. This is the identity matrix!\n",
    "\n",
    "In other words, the aim of the Gauss-Jordan methdod is to get the augmented system to looks like this (shown here for a $3 \\times 3$ system):\n",
    "$$\\begin{bmatrix} 1 & 0  & 0 &: & {\\it c_0} \\\\0 & 1 & 0 &: & {\\it c_1} \\\\0& 0 &  1&: & {\\it c_2}\\end{bmatrix} $$\n",
    "\n",
    "Then, reverting back to the equation form tells us that this simply means $x_0=c_0$, $x_1=c_1$, and $x_2=c_2$. So the Gauss-Jordan method avoids having to back-substitute by going on with row replacements until you obtain a diagonal matrix. You can do this with minor modifications to your pivoted Gauss code above. Make this function:"
   ]
  },
  {
   "cell_type": "code",
   "execution_count": 39,
   "metadata": {},
   "outputs": [],
   "source": [
    "# create a function GaussJ(A,b) for Gauss-Jordan elimination\n",
    "# input A: n x n matrix\n",
    "# input b: n x 1 column vector\n",
    "# return as output: n x 1 column vector solution of system Ax=b\n",
    "# must use a pivot row swap if diagonal entry is 0\n",
    "\n"
   ]
  },
  {
   "cell_type": "markdown",
   "metadata": {},
   "source": [
    "<a id='LU'></a>\n",
    "\n",
    "\n",
    "\n",
    "### LU Decomposition\n",
    "\n",
    "There are other methods along the same vein as Gauss elimination with slight differences, advantages and disadvantages. And we can adapt these methods to do more genral linear algebraical opertaions like caclculating inverses and determinants. We will explore some examples in the practice problems. For others, see the recommended reading book. The differences between methods is mostly imperceivable for our current uses, but even microseconds of speed gain in computation can add up if you have 1000 x 1000 matrices, or if you have to do repeated matrix calculations as a function of time etc.  \n",
    "\n",
    "A common one is the LU decomposition which finds a separate lower triangular matrix ${\\bf L}$ and upper triangular matrix ${\\bf U}$ such that ${\\bf LU}={\\bf A}$. Then, our matrix system ${\\bf Ax}={\\bf b}$ can be rewritten as $${\\bf LUx}={\\bf b} \\quad \\Rightarrow \\quad {\\bf L y}={\\bf b} \\quad \\& \\quad {\\bf Ux}={\\bf y}$$\n",
    "\n",
    "The idea then is that ${\\bf y}$ can be solved by forward-substituting using ${\\bf L}$ and ${\\bf b}$, and then ${\\bf x}$ can be determined by back-substituting using ${\\bf U}$ and ${\\bf y}$. Using what we know of Gauss elimination, we can easily develop an LU routine (see the reference by Jaan Kiusalaas for an example code).\n",
    "\n",
    "While this may seem like twice the effort, the benefit is that the LU decomposition works only on the matrix ${\\bf A}$ and not on the augmented matrix ${\\bf A}|{\\bf b}$. So the LU operation is independent of ${\\bf b}$. This is good if we need to solve the same equation system for a changing right-hand side (e.g. a time varying RHS, a different forcing etc). By decoupling the RHS, the LU decomposition is beneficial in these cases because the same ${\\bf L}$ and ${\\bf U}$ can be used for different column values ${\\bf b}$, thereby saving net computational effort. This is unlike the standard Gauss methods where every ${\\bf b}$ has to be manipulated separately.\n",
    "\n",
    "By now, you know enough about python to not be surprised to learn that many of these functions are available in efficiently packaged forms that we can directly use. We briefly saw in tutorial 2 that `numpy` has a submodule `linalg` that contains a routine to invert a matrix. In fact, this package use the LU decomposition:"
   ]
  },
  {
   "cell_type": "code",
   "execution_count": 40,
   "metadata": {},
   "outputs": [
    {
     "name": "stdout",
     "output_type": "stream",
     "text": [
      "[[ 1.]\n",
      " [-2.]\n",
      " [ 3.]]\n"
     ]
    }
   ],
   "source": [
    "import numpy.linalg as la\n",
    "\n",
    "A=np.array([[4,-2,1],[-2,4,-2],[1,-2,4]],dtype=float)\n",
    "b=np.array([[11],[-16],[17]])\n",
    "\n",
    "x=la.solve(A,b)\n",
    "print(x)"
   ]
  },
  {
   "cell_type": "markdown",
   "metadata": {},
   "source": [
    "This is a convenient 'black-box' approach, meaning we don't know what's happening inside the `solve` routine. Your home-made functions `GaussPiv` or `GaussJ` would do the same thing at about the same practical efficiency and speed, and by now you know every step in the process. You may use the `linalg` packages to check your calculations.\n",
    "\n",
    "Another point to bear in mind that even the `linalg` solver is not directly computing the inverse. It instead uses a trick that we will see in the practice problems to adapt Gauss eliminatin or LU decomposition methods to indirectly determine the inverse. The reason for this is computational efficiency...\n",
    "\n",
    "<a id='cost'></a>\n",
    "\n",
    "\n",
    "\n",
    "### Computational Cost\n",
    "\n",
    "\n",
    "This brings us to a few comments on computational 'cost', which is a measure of the time required by a processor to perform a calculation. Why did we not develop an algorithm to first determine the inverse of a matrix and then simply multiply it with the RHS? After all, isn't that what we learn in linear algebra classes? The inverse can be calculated using the standard formula (for each element, find the submatrix, find determinant, etc etc...). \n",
    "\n",
    "The reason is that matrix manipulations and inversions are notoriously 'expensive' monstrous operations. Evaluating the determinant of a 2x2 matrix requires 2 multiplication operations and a subtraction. For a 3x3 matrix, the cost is at least 3 times that (associated with picking a row or a column, and evaluating the 2x2 submatrix determinant for each). For a 4x4 matrix, it's at least 4 times that of a 3x3. Working up, the pen-and-paper formula (called the Laplace expansion) of calculating the determinant of a $n \\times n$ matrix is at least $n!$ calculations (plus additions/subtractions etc). And there are even more associated with determining the inverse and then performing the multiplication with the RHS.\n",
    "\n",
    "By contrast, Gauss elimination (and it's relatives: Gauss-Jordan, LU, etc) requires an outer loop through n entries, an inner loop through n or fewer entries, and row substitutions of at most n entries, giving a total of around $n^3$ operations. Although these are estimates of the number of operations, we can get a good sense of how they scale by plotting and comparing $n^3$ and $n!$:"
   ]
  },
  {
   "cell_type": "code",
   "execution_count": 4,
   "metadata": {
    "scrolled": true
   },
   "outputs": [
    {
     "data": {
      "image/png": "[encoded data removed]",
      "text/plain": [
       "<Figure size 432x288 with 1 Axes>"
      ]
     },
     "metadata": {
      "needs_background": "light"
     },
     "output_type": "display_data"
    }
   ],
   "source": [
    "import matplotlib.pyplot as plt\n",
    "import scipy.special as sp # for easy factorial in vectorized form\n",
    "\n",
    "cost_elim=lambda n: n**3\n",
    "cost_direct=lambda n: sp.factorial(n)\n",
    "\n",
    "n=np.linspace(1,20,100)\n",
    "plt.semilogy(n,cost_elim(n),'g',label='Elimination: $O(n^3)$')\n",
    "plt.semilogy(n,cost_direct(n),'r',label='Direct: $O(n!)$')\n",
    "plt.legend(loc='upper left')\n",
    "plt.xlabel('system size, n')\n",
    "plt.ylabel('approximate number of operations')\n",
    "\n",
    "plt.show()"
   ]
  },
  {
   "cell_type": "markdown",
   "metadata": {},
   "source": [
    "The disastrous scalability of the direct method is evident! A 100 x 100 matrix is fairly common in calculus problems (in later weeks). Naively calculating the inverse using the pen-and-paper algorithm that we learn in linear algebra classes would take over $100!\\approx 10^{157}$ operations. Even with modern superfast computers, these are astronomically long times. However, Gauss elimination and related methods take roughly $100^3=1000000$ operations, which a modern laptop can easily do in a few seconds.\n",
    "\n",
    "So, to summarize: always use elimination methods for big matrix problems. NEVER INVERT DIRECTLY. We will learn how to cleverly use elimination strategies to determine the inverse (if you needed to) in the practice problems.\n",
    "\n",
    "\n",
    "<a id='exer'></a>\n",
    "\n",
    "\n",
    "\n",
    "### Practice Problems"
   ]
  },
  {
   "cell_type": "markdown",
   "metadata": {},
   "source": [
    "(1) Go back to the COVID-19 dataset from https://github.com/nytimes/covid-19-data (tutorial 2, problem 5). Extract and plot the same data as before, but now using `pandas`.\n",
    "\n",
    "Next, use `pandas` to create dataframes of the number of cases in all states on a certain day. Plot a horizontal bar grpah to show this. Pick another day and plot this data on top of the previous one to visualize the difference between these two days on the same figure."
   ]
  },
  {
   "cell_type": "code",
   "execution_count": null,
   "metadata": {},
   "outputs": [],
   "source": []
  },
  {
   "cell_type": "markdown",
   "metadata": {},
   "source": [
    "(2a,b,c) As described in the tutorial text, create packaged functions for Gauss elimination with and without pivoting, and the Gauss-Jordan elimination. These functions should take an $n \\times n$ matrix and an $n \\times 1$ column vector as input, and give the solution to the linear system as output.\n",
    "\n",
    "Some linear systems have no solution or infinite solutions (recall Cramer's rule from linear algebra). How would you check for these cases and prevent a singular solution?"
   ]
  },
  {
   "cell_type": "code",
   "execution_count": 42,
   "metadata": {},
   "outputs": [],
   "source": [
    "# Gauss without pivot"
   ]
  },
  {
   "cell_type": "code",
   "execution_count": 43,
   "metadata": {},
   "outputs": [],
   "source": [
    "# Gauss with pivoting"
   ]
  },
  {
   "cell_type": "code",
   "execution_count": 44,
   "metadata": {},
   "outputs": [],
   "source": [
    "# Gauss-Jordan"
   ]
  },
  {
   "cell_type": "markdown",
   "metadata": {},
   "source": [
    "(3) A common matrix type that comes up in solving boundary-value problems (week 9/10) are banded systems. These matrices only have terms along specific diagonal 'bands'. The simplest is the [tridiagonal matrix](https://en.wikipedia.org/wiki/Tridiagonal_matrix), in which the only non-zero entries are along the main diagonal and the adjacent diagonal lines:\n",
    "$$\\begin{bmatrix} t_{00} & t_{01} &  &  & \\\\ t_{10}& t_{11} & t_{12} & &  \\\\ & t_{21} & \\ddots &\\ddots& \\\\& & \\ddots & \\ddots &t_{n-2,n-1} \\\\& &  & t_{n-1,n-2} &t_{n-1,n-1}\\end{bmatrix} \\begin{bmatrix} x_0 \\\\ x_1 \\\\ .\\\\.\\\\.\\\\ x_{n-1}  \\end{bmatrix}= \\begin{bmatrix} b_0 \\\\ b_1 \\\\ .\\\\.\\\\.\\\\ b_{n-1}  \\end{bmatrix}$$\n",
    "\n",
    "Running loops through row and columns filled mostly with zeros is inefficient, so adapt the Gauss-Jordan elimination to only have to loop through the three diagonal lines. \n",
    "\n",
    "_Non-coding assignment: Try to roughly estimate the computational cost of such a tridiagonal solver. How much faster would this code ideally be for a $100 \\times 100$ tridiagonal matrix compared to standard Gauss-Jordan elimination_"
   ]
  },
  {
   "cell_type": "code",
   "execution_count": 45,
   "metadata": {},
   "outputs": [],
   "source": [
    "# Tridiag solver"
   ]
  },
  {
   "cell_type": "markdown",
   "metadata": {},
   "source": [
    "(4) How would you evaluate the inverse of a $3\\times 3$ matrix using three calls to the Gauss-Jordan function. Remember that naively calculating the determinant (which is required for the 'standard' method to find the inverse) is computationally expensive. Think about what the definition of the inverse of a matrix and how it relates to the identity matrix. Could you recast this definition as three different linear systems...?"
   ]
  },
  {
   "cell_type": "code",
   "execution_count": null,
   "metadata": {},
   "outputs": [],
   "source": []
  },
  {
   "cell_type": "markdown",
   "metadata": {},
   "source": [
    "(5) Use a simple $3 \\times 3$ matrix to perform every step of the Gauss-Jordan elimination manually, and keep track of how the determinant of the matrix changes with each step. Using this knowledge, how would you code a function that calculates the determinant as you go throught the elimination process?\n",
    "\n",
    "How does row swapping (or pivoting) affect the determinant?"
   ]
  },
  {
   "cell_type": "code",
   "execution_count": null,
   "metadata": {},
   "outputs": [],
   "source": []
  }
 ],
 "metadata": {
  "kernelspec": {
   "display_name": "Python 3",
   "language": "python",
   "name": "python3"
  },
  "language_info": {
   "codemirror_mode": {
    "name": "ipython",
    "version": 3
   },
   "file_extension": ".py",
   "mimetype": "text/x-python",
   "name": "python",
   "nbconvert_exporter": "python",
   "pygments_lexer": "ipython3",
   "version": "3.7.6"
  }
 },
 "nbformat": 4,
 "nbformat_minor": 4
}
