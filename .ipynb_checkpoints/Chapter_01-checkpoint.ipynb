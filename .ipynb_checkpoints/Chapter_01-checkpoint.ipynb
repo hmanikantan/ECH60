{
 "cells": [
  {
   "cell_type": "markdown",
   "metadata": {},
   "source": [
    "# CHAPTER I\n",
    "\n",
    "# Basic Operations and Control\n",
    "&copy; Harishankar Manikantan, maintained on GitHub at [hmanikantan/ECH60](https://github.com/hmanikantan/ECH60) and published under an [MIT license](https://github.com/hmanikantan/ECH60/blob/master/LICENSE).\n",
    "\n",
    "Return to [Course Home Page](https://hmanikantan.github.io/ECH60/)"
   ]
  },
  {
   "cell_type": "markdown",
   "metadata": {},
   "source": [
    "**[(1.1) Data Types and Basic Operations](#intro)**\n",
    "* [Integers](#int)\n",
    "* [Floats](#float)\n",
    "* [Strings](#string)\n",
    "* [Tuples](#tuples)\n",
    "* [Lists](#lists)\n",
    "* [Numbers and math: Numpy](#numpy)\n",
    "\n",
    "**[(1.2) User-defined Functions](#functions) <br>**\n",
    "* [Defining functions](#func)\n",
    "* [Single-line lambda functions](#lambda)\n",
    "\n",
    "**[(1.3) Logic and Repetition](#structure)<br>**\n",
    "* [The IF condition](#if)\n",
    "* [The FOR and WHILE loops](#loops)\n",
    "\n",
    "**[(1.4) Vectorization: Manipulating Scientific Data](#vector)**\n",
    "*  [Introduction to arrays](#arrays) <br>\n",
    "*  [Sequences](#sequences) <br>\n",
    "*  [Slicing](#slicing) <br>\n",
    "*  [Vectorizing](#vectorizing) <br>\n",
    "\n",
    "**[(1.5) Formatting and Storing Data](#format)**\n",
    "*  [Formatting output](#output) <br>\n",
    "*  [Storing arrays](#storing) <br>\n",
    "\n",
    "**[Practice problems](#exer)**\n"
   ]
  },
  {
   "cell_type": "markdown",
   "metadata": {},
   "source": [
    "<a id='intro'></a>\n",
    "\n",
    "\n",
    "## (1.1) Data Types and Basic Operations\n",
    "\n",
    "All computer languages allow for data to be stored in named variables. It is important to understand the type of the stored data. The basic and most commonly used data types are:\n",
    "\n",
    "<a id='int'></a>\n",
    "\n",
    "\n",
    "### Integer \n",
    "any integer quantity. e.g. 2,-10,146, ...\n",
    "\n",
    "Try assigning an integer value to the variable `a` in the code cell below. Simply type `a=2` or `a=-10` or any other integer you wish and run it (hit `shift+enter`). To check if that assignment was successful, type `print(a)` or just `a` in the second code box and run it: Python will display the stored value. Try again. These values are stored in memory througout this notebook unless you redefine it."
   ]
  },
  {
   "cell_type": "code",
   "execution_count": 1,
   "metadata": {},
   "outputs": [],
   "source": [
    "# assign an integer to b\n",
    "a=-12 "
   ]
  },
  {
   "cell_type": "code",
   "execution_count": 2,
   "metadata": {},
   "outputs": [
    {
     "name": "stdout",
     "output_type": "stream",
     "text": [
      "-12\n"
     ]
    }
   ],
   "source": [
    "# show what value is stored in b\n",
    "print(a)"
   ]
  },
  {
   "cell_type": "markdown",
   "metadata": {},
   "source": [
    "Note: the `#` sign is useful to write comments in code. Comments are text that python does not read. It's good practice to comment your code so others know what's happening.\n",
    "\n",
    "An important difference in code as compared to normal mathematics is that `a=1` doesn't represent a statement of equality, but instead is a statement of assignment. What you're telling the computer is to evaluate the right-hand-side, and assign that value to the left hand side. This means that the equivalent mathematical statement `1=a` will give you an error in Python (and in most coding languages). Try it..."
   ]
  },
  {
   "cell_type": "code",
   "execution_count": null,
   "metadata": {},
   "outputs": [],
   "source": []
  },
  {
   "cell_type": "markdown",
   "metadata": {},
   "source": [
    "This also means that you can reassign numbers quite easily. For example, a common code line you will learn to use in the coming weeks is `a=a+1` which makes no sense mathematically. But, in code, this means that you evaluate the RHS using the previously stored value of the variable `a`, and then assign that as the new value of `a`. Try it ... (make sure you have run the very first code cell so `a` has an initial value. You would get an error otherwise. Try to force the error by typing `b=b+1` instead...)"
   ]
  },
  {
   "cell_type": "code",
   "execution_count": 3,
   "metadata": {},
   "outputs": [
    {
     "name": "stdout",
     "output_type": "stream",
     "text": [
      "-11\n"
     ]
    }
   ],
   "source": [
    "a = a + 1\n",
    "print(a)"
   ]
  },
  {
   "cell_type": "markdown",
   "metadata": {},
   "source": [
    "In fact, this line is so common in python that a shortcut usage is simply `a+ = 1`. Try this above ..."
   ]
  },
  {
   "cell_type": "markdown",
   "metadata": {},
   "source": [
    "<a id='float'></a>\n",
    "\n",
    "\n",
    "### Float \n",
    "'floating point' quantities or 'floats' indicate that a decimal point 'floats' somewhere in between the digits. This is probably the most common data type we will use to solve engineering problems. All real numbers are floats: 24.56, -11.7884, 146.0, ... etc. You could also define floats using the exponential notation with an `e`, which is just a convenineent way of saying shift the decimal places to the right or left. For example, the float 134.64 is equivalent to 1.3464e2, and 0.00078 is equivalent to 7.8e-4.\n",
    "\n",
    "Try assigning any float to `b`, and then see what `b` has stored. You can run both these lines of code at once."
   ]
  },
  {
   "cell_type": "code",
   "execution_count": 4,
   "metadata": {},
   "outputs": [
    {
     "name": "stdout",
     "output_type": "stream",
     "text": [
      "0.0124\n"
     ]
    }
   ],
   "source": [
    "# assign a float\n",
    "b=124e-4\n",
    "\n",
    "# then show what b is\n",
    "print(b)"
   ]
  },
  {
   "cell_type": "markdown",
   "metadata": {},
   "source": [
    "Python conveniently changes an integer to a float if necessary. For example, multiplying the integer `a` and the float `b` from before automatically makes the result a float. You can execute multiple lines of code at once."
   ]
  },
  {
   "cell_type": "code",
   "execution_count": 5,
   "metadata": {
    "scrolled": true
   },
   "outputs": [
    {
     "name": "stdout",
     "output_type": "stream",
     "text": [
      "69.14\n"
     ]
    }
   ],
   "source": [
    "# assign an integer\n",
    "a=2\n",
    "\n",
    "# assign a float\n",
    "b=34.57\n",
    "\n",
    "# multiply a and b and store answer in c\n",
    "c=a*b\n",
    "\n",
    "# display c\n",
    "print(c)"
   ]
  },
  {
   "cell_type": "markdown",
   "metadata": {},
   "source": [
    "You can also define floats using the `float()` command. In fact, you can do arithmetic inside the brackets of the `float()` command. Try various arithmetic operations here (`+` to add, `-` to subtract, `*` to multiply, and `/` to divide):"
   ]
  },
  {
   "cell_type": "code",
   "execution_count": 6,
   "metadata": {
    "scrolled": true
   },
   "outputs": [
    {
     "name": "stdout",
     "output_type": "stream",
     "text": [
      "-9.685248\n"
     ]
    }
   ],
   "source": [
    "# define and simultaneously display a float using the float() command\n",
    "print(float(-2.421312*4.0))"
   ]
  },
  {
   "cell_type": "markdown",
   "metadata": {},
   "source": [
    "To raise a number to a certain power, use `**`. So `2**3` should return 8. Try it..."
   ]
  },
  {
   "cell_type": "code",
   "execution_count": 7,
   "metadata": {},
   "outputs": [
    {
     "data": {
      "text/plain": [
       "32"
      ]
     },
     "execution_count": 7,
     "metadata": {},
     "output_type": "execute_result"
    }
   ],
   "source": [
    "2**5"
   ]
  },
  {
   "cell_type": "markdown",
   "metadata": {},
   "source": [
    "Finally, you can convert a float to an integer using the `int()` command. However, note that this simply removes everything to the right of the decimal place without correctly rounding the real number:"
   ]
  },
  {
   "cell_type": "code",
   "execution_count": 8,
   "metadata": {},
   "outputs": [
    {
     "name": "stdout",
     "output_type": "stream",
     "text": [
      "-19\n"
     ]
    }
   ],
   "source": [
    "print(int(-19.76))"
   ]
  },
  {
   "cell_type": "markdown",
   "metadata": {},
   "source": [
    "You can also define multiple variables in one line:"
   ]
  },
  {
   "cell_type": "code",
   "execution_count": 9,
   "metadata": {},
   "outputs": [],
   "source": [
    "a,b,c = 5, 13.87, -16"
   ]
  },
  {
   "cell_type": "markdown",
   "metadata": {},
   "source": [
    "<a id='string'></a>\n",
    "\n",
    "\n",
    "\n",
    "### String\n",
    "\n",
    "A string is a set of characters, like a name or a word or numbers or some combination that you want to store as it is. Use quotes to define strings:"
   ]
  },
  {
   "cell_type": "code",
   "execution_count": 10,
   "metadata": {},
   "outputs": [],
   "source": [
    "str_1='Davis'\n",
    "str_2='California'\n",
    "str_3='95616'"
   ]
  },
  {
   "cell_type": "markdown",
   "metadata": {},
   "source": [
    "You can perform string operations such as concatanation (fancy word for 'adding' words or text) or display additional text along with variables as follows:"
   ]
  },
  {
   "cell_type": "code",
   "execution_count": 11,
   "metadata": {},
   "outputs": [
    {
     "name": "stdout",
     "output_type": "stream",
     "text": [
      "Davis California ZIP 95616\n"
     ]
    }
   ],
   "source": [
    "# save str_1 followed by space followed by str_2 to str_4\n",
    "str_4=str_1+' '+str_2\n",
    "\n",
    "# show str_4 followed by the word ZIP followed by str_3\n",
    "print(str_4+' ZIP '+str_3)"
   ]
  },
  {
   "cell_type": "markdown",
   "metadata": {},
   "source": [
    "You can also select or manipulate parts of a string. Always remember that Python starts counting from 0, not 1. So the variable `str_1` has index numbers 0, 1, 2, 3, and 4 corresponding to D, a, v, i, and s. So `str_1[0]` should give D, and `str_1[3]` should give i, and so on. You can select a sequence of characters from a string by providing the range. Here, note that Python syntax is such that `str_1[m:n]` includes characters from index m until but not including index n. Try this out with `str_1` and `str_2` so you get comfortable."
   ]
  },
  {
   "cell_type": "code",
   "execution_count": 12,
   "metadata": {},
   "outputs": [
    {
     "name": "stdout",
     "output_type": "stream",
     "text": [
      "fo\n"
     ]
    }
   ],
   "source": [
    "# slice str_2 from index number 4 (included) to index number 6 (not included)\n",
    "print(str_2[4:6])"
   ]
  },
  {
   "cell_type": "markdown",
   "metadata": {},
   "source": [
    "<a id='tuples'></a>\n",
    "\n",
    "\n",
    "### Tuples \n",
    "\n",
    "Tuples are sequences of different kinds of data. Tuples are pretty handy in some contexts and database management, where you might have numeric data mixed with string data. Tuple are defined with the format `tuplename=('data1', 'data2', ...)`. Note the use of brackets and quotes. For example, my office is in room 3114 in Bainer, and I could store this information as "
   ]
  },
  {
   "cell_type": "code",
   "execution_count": 13,
   "metadata": {
    "scrolled": true
   },
   "outputs": [],
   "source": [
    "# create a tuple names office with a sequence of a string, an integer, and another string\n",
    "office=('Bainer',3114,'UC Davis')"
   ]
  },
  {
   "cell_type": "markdown",
   "metadata": {},
   "source": [
    "The benefit of tuples is that you can then access individual items as `variable1, variable2, ... = tuplename`, or equivalently using `tuplename[index in sequence starting from 0]`. For example:"
   ]
  },
  {
   "cell_type": "code",
   "execution_count": 14,
   "metadata": {},
   "outputs": [
    {
     "name": "stdout",
     "output_type": "stream",
     "text": [
      "My office is in Bainer hall in UC Davis\n"
     ]
    }
   ],
   "source": [
    "# assign the three elements to new variables named building, room, and location\n",
    "building, room, location = office\n",
    "\n",
    "# display room number as part of a sentence\n",
    "#print('My office room number is:',room)\n",
    "\n",
    "# use index to retrieve data\n",
    "print('My office is in',office[0],'hall in', office[2])"
   ]
  },
  {
   "cell_type": "markdown",
   "metadata": {},
   "source": [
    "Not the use of commas between data and text. You would get an error if you ignore the commas. Try it.\n",
    "\n",
    "\n",
    "You can create a tuple within a tuple within a tuple and so on .... an inception of tuples!! It's all about the ordering of the brackets and the commas. For example:"
   ]
  },
  {
   "cell_type": "code",
   "execution_count": 15,
   "metadata": {},
   "outputs": [],
   "source": [
    "birth_data=(('Albert','Einstein',('March',14,1879)),('Marie','Curie',('November',7,1867)))"
   ]
  },
  {
   "cell_type": "markdown",
   "metadata": {},
   "source": [
    "creates a tuple of two sub-tuples. Each sub-tuple contains a sequence of a string (first name), another string (last name), and a sub-sub-tuple containing a string (birth month), an integer (birth day) and another integer (birth year). So `birth_data[0]` refers to the subtuple with Einstein's data, `birth_data[0][2]` refers to the subsubtuple with Einstein's full birthday, and `birth_data[0][2][2]` gives Einstein's birth year. Always remember Python starts counting indices at 0, not 1.\n",
    "\n",
    "From this, you could extract and display things like:"
   ]
  },
  {
   "cell_type": "code",
   "execution_count": 16,
   "metadata": {},
   "outputs": [
    {
     "name": "stdout",
     "output_type": "stream",
     "text": [
      "Einstein was born 12 years after Curie\n"
     ]
    }
   ],
   "source": [
    "print(birth_data[0][1],'was born',birth_data[0][2][2]-birth_data[1][2][2], 'years after', birth_data[1][1])"
   ]
  },
  {
   "cell_type": "markdown",
   "metadata": {},
   "source": [
    "Change the birth_data tuple to include a third person's information, and play around with displaying sentences like the example above by modiying the code. Remember to hit `shift+enter` after each update of a code cell.\n",
    "\n",
    "<a id='lists'></a>\n",
    "\n",
    "\n",
    "\n",
    "### Lists\n",
    "\n",
    "Lists are like tuples but are mutable, meaning they can be edited, appended, and data can be added or deleted from within the list. A tuple on the other hand is immutable. The difference in the definition of a list is the use of a square bracket:"
   ]
  },
  {
   "cell_type": "code",
   "execution_count": 17,
   "metadata": {},
   "outputs": [
    {
     "name": "stdout",
     "output_type": "stream",
     "text": [
      "a is [0, -1, 3, 8, 9]\n",
      "b is []\n",
      "a repeated three times is [0, -1, 3, 8, 9, 0, -1, 3, 8, 9, 0, -1, 3, 8, 9]\n"
     ]
    }
   ],
   "source": [
    "# list of five integers\n",
    "a = [0, -1, 3, 8, 9]\n",
    "print('a is',a) \n",
    "\n",
    "# empty list\n",
    "b = []\n",
    "print('b is',b)\n",
    "\n",
    "# repeated list\n",
    "print('a repeated three times is',3*a)"
   ]
  },
  {
   "cell_type": "markdown",
   "metadata": {},
   "source": [
    "You can access the 3rd value of `a` using `a[2]` (python starts counting from 0), or the first from the end using `a[-1]`. What about `a[-2]`? Try various index calls below:"
   ]
  },
  {
   "cell_type": "code",
   "execution_count": 18,
   "metadata": {
    "scrolled": true
   },
   "outputs": [
    {
     "data": {
      "text/plain": [
       "3"
      ]
     },
     "execution_count": 18,
     "metadata": {},
     "output_type": "execute_result"
    }
   ],
   "source": [
    "a[2]"
   ]
  },
  {
   "cell_type": "markdown",
   "metadata": {},
   "source": [
    "We will learn about more complicated and useful 'slicing' techniques next week.\n",
    "\n",
    "Now we can manipulate the list names address using\n",
    "\n",
    "`listname.insert(position,data to insert)` to insert at a specific point OR\n",
    "\n",
    "`listname.append(data to insert)` to append at the end OR\n",
    "\n",
    "`listname[position]=[new data]` to replace data at specific location(s)\n",
    "\n",
    "This 'dot notation' is fairly common in Python and we will see a lot more of it. Try the following and change location and data type to get a sense of the manipulations:"
   ]
  },
  {
   "cell_type": "code",
   "execution_count": 19,
   "metadata": {},
   "outputs": [
    {
     "name": "stdout",
     "output_type": "stream",
     "text": [
      "original list: ['davis', 95616]\n",
      "modified list: ['davis', 'CA', 95616]\n"
     ]
    }
   ],
   "source": [
    "# define a list\n",
    "address = ['davis', 95616]\n",
    "print('original list:',address)\n",
    "\n",
    "# insert at position 1\n",
    "address.insert(1,'CA')\n",
    "print('modified list:',address)"
   ]
  },
  {
   "cell_type": "code",
   "execution_count": 20,
   "metadata": {},
   "outputs": [
    {
     "name": "stdout",
     "output_type": "stream",
     "text": [
      "original list: ['davis', 95616]\n",
      "modified list: ['davis', 95616, 'USA']\n"
     ]
    }
   ],
   "source": [
    "# define a list\n",
    "address = ['davis', 95616]\n",
    "print('original list:',address)\n",
    "\n",
    "# append to end\n",
    "address.append('USA')\n",
    "print('modified list:',address)"
   ]
  },
  {
   "cell_type": "code",
   "execution_count": 44,
   "metadata": {
    "scrolled": true
   },
   "outputs": [
    {
     "name": "stdout",
     "output_type": "stream",
     "text": [
      "original list: ['davis', 95616]\n",
      "modified list: ['Davis', 'CA', 95616]\n"
     ]
    }
   ],
   "source": [
    "# define a list\n",
    "address = ['davis', 95616]\n",
    "print('original list:',address)\n",
    "\n",
    "# modify specific index range\n",
    "address[0:1]=['Davis', 'CA']\n",
    "print('modified list:',address)"
   ]
  },
  {
   "cell_type": "markdown",
   "metadata": {},
   "source": [
    "<a id='numpy'></a>\n",
    "\n",
    "\n",
    "### Numbers and Math: `numpy`\n",
    "\n",
    "We have seen so far that python has the basic arithmetic operation (addition,subtraction, multiplication, division, power). For most involved problems, we will need much more than that. Through this quarter, we will learn to work with matrices and vectors, trigonometric functions, exponentials and more specialized operations.\n",
    "\n",
    "Python has a large community of developers who have created and perfected entire 'libraries' of these useful functions organized into 'modules'. To use any such module, we import them using the command `import modulename`. One of the most common modules is `numpy`, short for NUMerical PYthon. Import it by running (`shift+enter`) the following:"
   ]
  },
  {
   "cell_type": "code",
   "execution_count": 28,
   "metadata": {},
   "outputs": [],
   "source": [
    "import numpy"
   ]
  },
  {
   "cell_type": "markdown",
   "metadata": {},
   "source": [
    "You will then have access to all the functions in the `numpy` module (there are 100s of common math operations and functions in numpy. You can get a full list by running `dir(numpy)` after importing it). Common ones include `sqrt`, `exp`,`log`,`log10`,`sin` (and all trigs), `arcsin` (and all inverse trigs), irrational numbers like $\\pi$ (as `pi`) and $e$ (as `exp`), and many more common mathematical operations. After importing `numpy`, try evaluating the square root of 2 by typing `sqrt(2)` here..."
   ]
  },
  {
   "cell_type": "code",
   "execution_count": null,
   "metadata": {},
   "outputs": [],
   "source": []
  },
  {
   "cell_type": "markdown",
   "metadata": {},
   "source": [
    "You should see an error saying sqrt is not defined! That's because the `sqrt` function 'belongs' to the imported numpy module, and the correct way to tell python that is `numpy.sqrt(2)`. Try this above...\n",
    "\n",
    "This is an important theme across python. Dots represent a connection between the module or variable to the left and a subfunction or a property to the right.\n",
    "\n",
    "You can avoid having to use a rather length `numpy.sqrt(2)` everytime by specifically importing the `sqrt` function from `numpy` as follows, so you can simply use `sqrt(2)` etc..."
   ]
  },
  {
   "cell_type": "code",
   "execution_count": 29,
   "metadata": {},
   "outputs": [
    {
     "data": {
      "text/plain": [
       "1.4142135623730951"
      ]
     },
     "execution_count": 29,
     "metadata": {},
     "output_type": "execute_result"
    }
   ],
   "source": [
    "from numpy import sqrt\n",
    "sqrt(2)"
   ]
  },
  {
   "cell_type": "markdown",
   "metadata": {},
   "source": [
    "But then if you need another operation, like the exponential (using the `numpy` function `exp`), you need to import that separately using `from numpy import exp`, and so on. Or, you could import all functions from `numpy` in one go by running `from numpy import *`. The asterisk is a 'wildcard' which means import everything.\n",
    "\n",
    "While this last form of importing a module seems convenient, things can get confusing as you advance in python if two different modules have functions that are identically named. The compromise, and the accepted standard among most python users, is to give `numpy` (or any module that you import) a nickname. A common nickname for `numpy` is `np`, so the import line as subsequent usage would be"
   ]
  },
  {
   "cell_type": "code",
   "execution_count": 2,
   "metadata": {},
   "outputs": [
    {
     "data": {
      "text/plain": [
       "[1.4142135623730951,\n",
       " 22026.465794806718,\n",
       " 3.091042453358316,\n",
       " 1.3424226808222062,\n",
       " 3.141592653589793]"
      ]
     },
     "execution_count": 2,
     "metadata": {},
     "output_type": "execute_result"
    }
   ],
   "source": [
    "import numpy as np\n",
    "[np.sqrt(2),\n",
    "np.exp(10),\n",
    "np.log(22),\n",
    "np.log10(22),\n",
    "np.pi]"
   ]
  },
  {
   "cell_type": "markdown",
   "metadata": {},
   "source": [
    "This nickname can be useful when the module (or submodule) name is rather long. For example, another common module that we will encounter next week is `matplotlib.pyplot` which is commonly abbreviated to `plt` in the import line.\n",
    "\n",
    "Finally, you can read the help text associated with any python command by typing `help(print)` or `help(import)` etc. For module specific help file, type `numpy.info(numpy.sin)` etc.\n"
   ]
  },
  {
   "cell_type": "markdown",
   "metadata": {},
   "source": [
    "<a id='functions'></a>\n",
    "\n",
    "\n",
    "## (1.2) User-defined Functions\n",
    "\n",
    "<a id='func'></a>\n",
    "\n",
    "\n",
    "Functions are handy snippets of code you can create to do a short set of operations. Python has tons of inbuilt functions: for example, `sqrt()` from `numpy` is an inbuilt function that perfroms a commonly used mathematical operation. User-defined functions allow us to have named operators like `sqrt` programmed to do a specific set of user-defined calculations on demand\n",
    "\n",
    "### Defining functions\n",
    "\n",
    "In python, functions are coded as follows:"
   ]
  },
  {
   "cell_type": "code",
   "execution_count": 22,
   "metadata": {},
   "outputs": [],
   "source": [
    "def trianglearea(base,height): # base and height are input variables\n",
    "    area=0.5*base*height # do calculations using input variable\n",
    "    return area # return the variable named area"
   ]
  },
  {
   "cell_type": "markdown",
   "metadata": {},
   "source": [
    "The colon after the first line is important. So is the indent of one tab space for every line of code that belongs to that function.\n",
    "\n",
    "Once you have run this code, the function `trianglearea` can be called at any point with the input parameters in the same order, and it will give you the area as the result:"
   ]
  },
  {
   "cell_type": "code",
   "execution_count": 23,
   "metadata": {},
   "outputs": [
    {
     "name": "stdout",
     "output_type": "stream",
     "text": [
      "30.0\n"
     ]
    }
   ],
   "source": [
    "a=trianglearea(6,10)\n",
    "print(a)"
   ]
  },
  {
   "cell_type": "markdown",
   "metadata": {},
   "source": [
    "A function can contain multiple lines of calculations. And it can return multiple variables. For example, a useful common calculation in engineering is going back and forth between the temperature units of Celsius, Fahrenheit, and Kelvin. The following function is written such that an input in F is converted to both C and K:"
   ]
  },
  {
   "cell_type": "code",
   "execution_count": 24,
   "metadata": {},
   "outputs": [],
   "source": [
    "def FtoCandK(fahr):\n",
    "    cels=(fahr-32)*5/9\n",
    "    kelv=cels+273\n",
    "    return cels,kelv"
   ]
  },
  {
   "cell_type": "markdown",
   "metadata": {},
   "source": [
    "Note that `FtoCandK` as written has two return varibles, and so calling it gives two outputs:"
   ]
  },
  {
   "cell_type": "code",
   "execution_count": 25,
   "metadata": {},
   "outputs": [
    {
     "name": "stdout",
     "output_type": "stream",
     "text": [
      "(37.77777777777778, 310.77777777777777)\n"
     ]
    }
   ],
   "source": [
    "print(FtoCandK(100))"
   ]
  },
  {
   "cell_type": "markdown",
   "metadata": {},
   "source": [
    "You can even directly assign the two to different variables when you call the function:"
   ]
  },
  {
   "cell_type": "code",
   "execution_count": 26,
   "metadata": {},
   "outputs": [
    {
     "name": "stdout",
     "output_type": "stream",
     "text": [
      "21.11111111111111\n",
      "294.1111111111111\n"
     ]
    }
   ],
   "source": [
    "tempC, tempK = FtoCandK(70)\n",
    "print(tempC)\n",
    "print(tempK)"
   ]
  },
  {
   "cell_type": "markdown",
   "metadata": {},
   "source": [
    "As another example, conside the following mathematical function:\n",
    "\n",
    "$$f(x)=\\cos\\left(\\frac{e^{-x}-1}{x-1} \\right),$$ \n",
    "\n",
    "which becomes the following python code:"
   ]
  },
  {
   "cell_type": "code",
   "execution_count": 5,
   "metadata": {},
   "outputs": [],
   "source": [
    "import numpy as np\n",
    "\n",
    "def myfunc(x):\n",
    "    f=np.exp(-x)-1\n",
    "    f=f/(x-1)\n",
    "    f=np.cos(f)\n",
    "    return f"
   ]
  },
  {
   "cell_type": "markdown",
   "metadata": {},
   "source": [
    "Note that python first evaluates the RHS and then assigns that result to the LHS when we run the line `f=f/(x-1)`. This lines looks mathematically inconsistent (in math, we would cancel the `f` on both side!!), but is perfectly sensible in code. And the same thing again in the third line inside the function: python first evaluates the cosine using the current value of `f` on the RHS, and then assigns or rewrites `f` on the LHS with the new value.\n",
    "\n",
    "Evaluating `myfunc` now gives us the value of $f(x)$ for any $x$..."
   ]
  },
  {
   "cell_type": "code",
   "execution_count": 32,
   "metadata": {},
   "outputs": [
    {
     "data": {
      "text/plain": [
       "0.6488952617067709"
      ]
     },
     "execution_count": 32,
     "metadata": {},
     "output_type": "execute_result"
    }
   ],
   "source": [
    "myfunc(2)"
   ]
  },
  {
   "cell_type": "markdown",
   "metadata": {},
   "source": [
    "<a id='lambda'></a>\n",
    "\n",
    "\n",
    "\n",
    "### Single-line `lambda` Functions\n",
    "\n",
    "Another shortcut version of functions are `lambda` functions. These are best-suited for single-line short functions, and follows the format: `functionname = lambda input:calculation`."
   ]
  },
  {
   "cell_type": "code",
   "execution_count": 27,
   "metadata": {},
   "outputs": [
    {
     "data": {
      "text/plain": [
       "36.0"
      ]
     },
     "execution_count": 27,
     "metadata": {},
     "output_type": "execute_result"
    }
   ],
   "source": [
    "FtoC = lambda fahr:(fahr-32)*5/9\n",
    "\n",
    "FtoC(96.8)"
   ]
  },
  {
   "cell_type": "markdown",
   "metadata": {},
   "source": [
    "Lambda functions work for multiple inputs too -- just separated then with commas:"
   ]
  },
  {
   "cell_type": "code",
   "execution_count": 46,
   "metadata": {},
   "outputs": [
    {
     "data": {
      "text/plain": [
       "25.0"
      ]
     },
     "execution_count": 46,
     "metadata": {},
     "output_type": "execute_result"
    }
   ],
   "source": [
    "tri_area = lambda base,height: 0.5*base*height\n",
    "\n",
    "tri_area(5,10)"
   ]
  },
  {
   "cell_type": "markdown",
   "metadata": {},
   "source": [
    "<a id='structure'></a>\n",
    "\n",
    "\n",
    "## (1.4) Logic and Repetition"
   ]
  },
  {
   "cell_type": "markdown",
   "metadata": {},
   "source": [
    "So far, we have seen how to define or assign variables (numbers, strings, tuples, ...) and functions. The real power of coding lies in its ability quickly manipulate these quantities algorithmic logic and automation. We will start with the essential building blocks of algorithm development: the `if` condition and the `for` and `while` loops.\n",
    "\n",
    "<a id='if'></a>\n",
    "\n",
    "\n",
    "\n",
    "### The `if` condition\n",
    "\n",
    "The `if` statement and its variants are ubiquitous across every programming language, and helps you design logical algorithmic 'branches'. For example, this snippet of code checks the value of the variable named `cost`, and creates two 'branches' depending on the value of `cost` and `cash`:"
   ]
  },
  {
   "cell_type": "code",
   "execution_count": 33,
   "metadata": {},
   "outputs": [
    {
     "name": "stdout",
     "output_type": "stream",
     "text": [
      "You may buy this burrito\n"
     ]
    }
   ],
   "source": [
    "cost = 7\n",
    "cash = 10\n",
    "if cost <= cash:\n",
    "    print('You may buy this burrito')\n",
    "else: \n",
    "    print('Sorry, you need more cash')"
   ]
  },
  {
   "cell_type": "markdown",
   "metadata": {},
   "source": [
    "Try running the above code for different values of `cost` and `cash` variables. \n",
    "\n",
    "The syntax of the `if` statement is as follows: the `if` is followed by a 'conditional' or a logic operation (\"Is the cost less than or equal to cash?\"). If the answer is YES (or TRUE, in logic terminology), then that branch is executed and we get a burrito. If the answer is NO (or FALSE), then the other branch corresponding to the `else` line is executed. Note the colon after the `if` and `else` lines. Also, we don't need to have an `else` statement if you don't need that second branch: a code with just the `if` branch will work just fine.\n",
    "\n",
    "You can make more branches with more carefull logical comparisons. For example:"
   ]
  },
  {
   "cell_type": "code",
   "execution_count": 34,
   "metadata": {},
   "outputs": [
    {
     "name": "stdout",
     "output_type": "stream",
     "text": [
      "You may buy this burrito and you get back 4 dollars\n"
     ]
    }
   ],
   "source": [
    "cost = 6\n",
    "cash = 10\n",
    "if cost < cash:\n",
    "    change = cash - cost\n",
    "    print('You may buy this burrito and you get back', change, 'dollars')\n",
    "elif cost == cash: \n",
    "    print('You have exact change!')\n",
    "else:\n",
    "    print('Sorry, you need more cash')"
   ]
  },
  {
   "cell_type": "markdown",
   "metadata": {},
   "source": [
    "Here, we have introduced an `elif` line. So python first checks the first `if` (\"is cost less than cash?\") an executes is if TRUE. Only if that line is FALSE does python check the `elif` line (\"is cost exactly equal to cash\"). And only if both `if` and `elif` are false will the else be executed. You can have multiple `elif` branches for more involved comparisons.\n",
    "\n",
    "The order is important. Which means a `<=` comparison in `if` above would never run the `elif` case. Try it. Rationalize why that is the case.\n",
    "\n",
    "Importantly, note that the 'equal to' comparison is `==`. This is a common thing to get wrong for first-time coders: a simple `=` is an assignment, meaning python takes the RHS and rights that to the LHS. A logical comparison like `if` or `elif` is NOT an _assigment_ but a _comparison_ , and the way to let python know this is by using the `==`.\n",
    "\n",
    "A common comparison is 'not equal to', given by `!=`. So `if cost != 7:` would only be true if `cost` is any value but `7`. \n",
    "\n",
    "Another useful comparison operator is 'divisible by', written as `%`. So `if cost %2 == 0:` would be true only for even numbers.\n",
    "\n"
   ]
  },
  {
   "cell_type": "markdown",
   "metadata": {},
   "source": [
    "<a id='loops'></a>\n",
    "\n",
    "\n",
    "\n",
    "### The `for` and `while` loops\n",
    "\n",
    "Automation is the best part of coding, and loops are the simplest form of repeating a set of operations as desired. The `for` loops simply repeats a set of code for the conditions that are specified after the `for` statement. Let's say you wanted the square root of odd integers from 1 to 10."
   ]
  },
  {
   "cell_type": "code",
   "execution_count": 35,
   "metadata": {},
   "outputs": [
    {
     "name": "stdout",
     "output_type": "stream",
     "text": [
      "square root of 1 is 1.0\n",
      "square root of 3 is 1.7320508075688772\n",
      "square root of 5 is 2.23606797749979\n",
      "square root of 7 is 2.6457513110645907\n",
      "square root of 9 is 3.0\n"
     ]
    }
   ],
   "source": [
    "import numpy as np\n",
    "\n",
    "for i in range(1,11,2):\n",
    "    print('square root of', i,'is',np.sqrt(i))"
   ]
  },
  {
   "cell_type": "markdown",
   "metadata": {},
   "source": [
    "Here, `range(start,end+1,step)` is an in-built python function that returns values of the 'loop index' variable `i`. Range can handle integer start, end, and step sizes. In the above example, 1 is included, 11 is not included, and the step size is 2. So the values of `i` that run the loop are 1,3,5,7,9. How would you do even numbers between 0 and 10? Try it above...\n",
    "\n",
    "What if you needed non-integers to run the loops. Then you use `np.arange` instead. Same logic. Try this to generate square roots of 1, 1.2, 1.4, ..., 4.6, 4.8, 5 in the code above.\n",
    "\n",
    "You can format the output to make it look neat. Let's say we want ot only show the first two decimal places in the output. Try using `print('square root of', i,'is %4.2f' % np.sqrt(i))` instead of the print line above. This `%` sign tells python that the `np.sqrt(i)` output should be foramtted as a float (that's the f) that's 4 characters wide (including the decimal point) with 2 characters after the point. Try combinations like `%6.2f` or `%4.3f` etc.\n",
    "\n",
    "Periodic reminder that blocks of code (for functions, conditionals, loops, ...) all are defined by the indentation. And the colon after the first line. Be very careful to use this format.\n",
    "\n",
    "What if you need to run a loop but do not know at the beginning of the code how many loops may be required? In other words, what if you didn't know the 'end-point' of `i` above. For instance, let's say for whatever reason that I want to determine square roots of integers until the square root value is 3.6. The `while` loop is better suited for this"
   ]
  },
  {
   "cell_type": "code",
   "execution_count": 36,
   "metadata": {},
   "outputs": [
    {
     "name": "stdout",
     "output_type": "stream",
     "text": [
      "square root of 1 is 1.0\n",
      "square root of 2 is 1.4142135623730951\n",
      "square root of 3 is 1.7320508075688772\n",
      "square root of 4 is 2.0\n",
      "square root of 5 is 2.23606797749979\n",
      "square root of 6 is 2.449489742783178\n",
      "square root of 7 is 2.6457513110645907\n",
      "square root of 8 is 2.8284271247461903\n",
      "square root of 9 is 3.0\n",
      "square root of 10 is 3.1622776601683795\n",
      "square root of 11 is 3.3166247903554\n",
      "square root of 12 is 3.4641016151377544\n"
     ]
    }
   ],
   "source": [
    "i=1\n",
    "while(np.sqrt(i) <= 3.6):\n",
    "    print('square root of', i,'is', np.sqrt(i))\n",
    "    i+=1"
   ]
  },
  {
   "cell_type": "markdown",
   "metadata": {},
   "source": [
    "We couldn't have done it this easily with a `for` loop because we didn't know when we started that we needed to get to `i=12` before we meet our condition. The `while` loop runs until that condition is not satistied.\n",
    "\n",
    "On the flip side, the `while` loop does not increment automatically like the `for` loop: notice how we need to explicitly use `i+=1` (short hand for `i=i+1`) within the `while`. This also means that we must 'initialize' the value of `i` before entering the loop because otherwise python would know what `i` is the first time around.\n",
    "\n",
    "As you begin writing code, be wary of 'infinite loops'. If the conditions you wrote are always true, the loop could go on for ever. In such cases, hit `Ctrl+C` to terminate your code and reexamine what went wrong.\n",
    "\n",
    "Finally, you can you shorthand versions of `for` with the `range` function to create lists (remember the square brackets) of numbers easily:"
   ]
  },
  {
   "cell_type": "code",
   "execution_count": 37,
   "metadata": {},
   "outputs": [
    {
     "data": {
      "text/plain": [
       "[0, 1, 2, 3, 4, 5, 6, 7, 8, 9]"
      ]
     },
     "execution_count": 37,
     "metadata": {},
     "output_type": "execute_result"
    }
   ],
   "source": [
    "[i for i in range(0,10)]"
   ]
  },
  {
   "cell_type": "markdown",
   "metadata": {},
   "source": [
    "You can even bring in `if` conditions in this form to create more specific lists. E.g. a list of the squares of odd numbers between 0 and 30:"
   ]
  },
  {
   "cell_type": "code",
   "execution_count": 38,
   "metadata": {},
   "outputs": [
    {
     "data": {
      "text/plain": [
       "[1, 9, 25, 49, 81, 121, 169, 225, 289, 361, 441, 529, 625, 729, 841]"
      ]
     },
     "execution_count": 38,
     "metadata": {},
     "output_type": "execute_result"
    }
   ],
   "source": [
    "[x**2 for x in range(0,30) if x%2 != 0]"
   ]
  },
  {
   "cell_type": "markdown",
   "metadata": {},
   "source": [
    "Almost all solutions you will develop in this course will involve inserting `if` and related statements into loops, or having both conditionals and loops in functions. As an example, consider the Fibonacci series that appears in a variety of natural patterns (flower petal arrangements, pineapple patterns, artichoke petals, .... look it up). Each new number in the series is the sum of the last two (starts as 0,1,1,2,3,..). Algorithmically, if we call `a` and `b` as the previous and current numbers, then the new number is `c=b+a`. A quick way of getting the first 10 numbers is, without even introducing a new variable `c`, is:"
   ]
  },
  {
   "cell_type": "code",
   "execution_count": 39,
   "metadata": {},
   "outputs": [
    {
     "name": "stdout",
     "output_type": "stream",
     "text": [
      "0\n",
      "1\n",
      "1\n",
      "2\n",
      "3\n",
      "5\n",
      "8\n",
      "13\n",
      "21\n",
      "34\n"
     ]
    }
   ],
   "source": [
    "a=0\n",
    "b=1\n",
    "print(a)\n",
    "print(b)\n",
    "for i in range(3,10+1):\n",
    "    b+=a\n",
    "    a=b-a\n",
    "    print(b)"
   ]
  },
  {
   "cell_type": "markdown",
   "metadata": {},
   "source": [
    "Think about the logic behind the `b+=a` and `a=b-a` lines. There are many ways to do this calculation. Can you think of others?\n",
    "\n",
    "Now, if I wanted a function that takes in `n` and spits out the n-th Fibonacci number, and I wanted my function to be well-commented and fool-proof (what if someone entered a negative value of n?), it would look something like this. Study each line, and think of what it does. Also watch the indenting associated with each group of code (python automatically indents, but it's good practice to watch when you code)."
   ]
  },
  {
   "cell_type": "code",
   "execution_count": 40,
   "metadata": {},
   "outputs": [],
   "source": [
    "# function fibo(n) takes in a positive integer n and returns the nth fibonacci number starting at 0\n",
    "def fibo(n):\n",
    "    a=0    # initial 'previous' number\n",
    "    b=1    # initial 'current' number\n",
    "    if n<1:       # branch corresponding to n=0 or smaller\n",
    "        print('provide n that is greater than 0')\n",
    "    elif n==1:      # branch corresponding to n=1\n",
    "        return 0  # fibo(1) returns 0\n",
    "    elif n==2:    # branch corresponding to n=2\n",
    "        return 1  # fibo(2) returns 1\n",
    "    else:         # branch corresponding to n=3 and beyond\n",
    "        for i in range(3,n+1):   # range includes 3, and runs until n, doesn't include n+1 \n",
    "            b+=a   # new 'current' number as sum of old current and previous\n",
    "            a=b-a  # redefine new 'previous' number\n",
    "        return b"
   ]
  },
  {
   "cell_type": "markdown",
   "metadata": {},
   "source": [
    "If you understand every line above, run it and then run `fibo(n)` for different values of `n` (including negative numbers) and see what you get..."
   ]
  },
  {
   "cell_type": "code",
   "execution_count": 41,
   "metadata": {},
   "outputs": [
    {
     "data": {
      "text/plain": [
       "34"
      ]
     },
     "execution_count": 41,
     "metadata": {},
     "output_type": "execute_result"
    }
   ],
   "source": [
    "fibo(10)"
   ]
  },
  {
   "cell_type": "markdown",
   "metadata": {},
   "source": [
    "You can also do opreations directy on the n-th Fibonacci number. For example, if you need the ratio of the 20th Fibonacci number with the 19th number, you would just type `fibo(20)/fibo(19)` etc. See exercise problem 6.\n",
    "\n",
    "\n",
    "Alternatively, you can use python's 'object-oriented' approach to storing values. This means that lists are stored as 'objects' on which you can perform operations like `append` using the dot operator. If you wanted to generate a list of N fibonacci numbers, the following code is more succinct and elegant. "
   ]
  },
  {
   "cell_type": "code",
   "execution_count": 42,
   "metadata": {},
   "outputs": [],
   "source": [
    "# function to generate a list that contains first N fibonnaci numbers\n",
    "# does not check for negative n etc: we can add all that like above\n",
    "\n",
    "def fibo_list(n):\n",
    "    fibo_list=[0,1,1]\n",
    "    for i in range(n-3):\n",
    "        fibo_list.append(fibo_list[-1]+fibo_list[-2])\n",
    "    return fibo_list"
   ]
  },
  {
   "cell_type": "markdown",
   "metadata": {},
   "source": [
    "Recall that `fibo_list[-k]` is the k-th entry from the end. Running `fibo_list(n)` generates a list:"
   ]
  },
  {
   "cell_type": "code",
   "execution_count": 43,
   "metadata": {},
   "outputs": [
    {
     "data": {
      "text/plain": [
       "[0, 1, 1, 2, 3, 5, 8, 13, 21, 34]"
      ]
     },
     "execution_count": 43,
     "metadata": {},
     "output_type": "execute_result"
    }
   ],
   "source": [
    "fibo_list(10)"
   ]
  },
  {
   "cell_type": "markdown",
   "metadata": {},
   "source": [
    "Lists, however, are not ideal for mathematical operations like vector-matrix calculations. We will then need the `array` data type that we will see next week."
   ]
  },
  {
   "cell_type": "markdown",
   "metadata": {},
   "source": [
    "<a id='vector'></a>\n",
    "\n",
    "## (2.1) Vectorization: Manipulating Scientific Data\n",
    "\n",
    "Perhaps the most useful and convenient data type for engineering and mathematical calculations is an `array`. Unlike lists and tuples, we can do mathematical operations on arrays. They are therefore particularly well-suited for representing force vectors, position vectors, scalar information at different point in space (like mass, concentration, ...), and pretty much any variable in an engineering problem. \n",
    "\n",
    "<a id='arrays'></a>\n",
    "\n",
    "\n",
    "### The `array` type\n",
    "Arrays are part of numpy so remember to import numpy first."
   ]
  },
  {
   "cell_type": "code",
   "execution_count": 1,
   "metadata": {},
   "outputs": [],
   "source": [
    "import numpy as np"
   ]
  },
  {
   "cell_type": "markdown",
   "metadata": {},
   "source": [
    "Any list filled with numbers can be turned into a numpy array by using `np.array(listname)`:"
   ]
  },
  {
   "cell_type": "code",
   "execution_count": 2,
   "metadata": {},
   "outputs": [
    {
     "name": "stdout",
     "output_type": "stream",
     "text": [
      "mylist is [1.4, 4.5, -9.5, 23.8]\n",
      "myarray is [ 1.4  4.5 -9.5 23.8]\n"
     ]
    }
   ],
   "source": [
    "mylist=[1.4,4.5,-9.5,23.8]\n",
    "myarray=np.array(mylist)\n",
    "print('mylist is',mylist)\n",
    "print('myarray is',myarray)"
   ]
  },
  {
   "cell_type": "markdown",
   "metadata": {},
   "source": [
    "Although this might seems identical, they are extremely different data structures. For example, `2*mylist` corresponds to the action of repeating the list twice (we saw this in week 1). This operation is callled concatanation:"
   ]
  },
  {
   "cell_type": "code",
   "execution_count": 3,
   "metadata": {},
   "outputs": [
    {
     "data": {
      "text/plain": [
       "[1.4, 4.5, -9.5, 23.8, 1.4, 4.5, -9.5, 23.8]"
      ]
     },
     "execution_count": 3,
     "metadata": {},
     "output_type": "execute_result"
    }
   ],
   "source": [
    "2*mylist"
   ]
  },
  {
   "cell_type": "markdown",
   "metadata": {},
   "source": [
    "However, `2*myarray` does the mathematical operation of multiplying each element in the array by the number 2:"
   ]
  },
  {
   "cell_type": "code",
   "execution_count": 4,
   "metadata": {},
   "outputs": [
    {
     "data": {
      "text/plain": [
       "array([  2.8,   9. , -19. ,  47.6])"
      ]
     },
     "execution_count": 4,
     "metadata": {},
     "output_type": "execute_result"
    }
   ],
   "source": [
    "2*myarray"
   ]
  },
  {
   "cell_type": "markdown",
   "metadata": {},
   "source": [
    "You can directly fill an array (without needing a list first) by directly entering numbers in `np.array([])` :"
   ]
  },
  {
   "cell_type": "code",
   "execution_count": 5,
   "metadata": {},
   "outputs": [
    {
     "name": "stdout",
     "output_type": "stream",
     "text": [
      "[3.2 4.5 5.9]\n"
     ]
    }
   ],
   "source": [
    "mynewarray=np.array([3.2, 4.5, 5.9])\n",
    "print(mynewarray)"
   ]
  },
  {
   "cell_type": "markdown",
   "metadata": {},
   "source": [
    "By extension, filling up a matrix (or a 2D array) requires two sets of square brackets: one set for each row, and an outer set of square brackets around the entire array (and a final parenthesis so python understands where to start and stop):"
   ]
  },
  {
   "cell_type": "code",
   "execution_count": 6,
   "metadata": {},
   "outputs": [
    {
     "name": "stdout",
     "output_type": "stream",
     "text": [
      "[[ 1  4  5]\n",
      " [ 6 -9 11]\n",
      " [ 0 23  1]]\n"
     ]
    }
   ],
   "source": [
    "mymatrix=np.array([[1, 4, 5],[6, -9, 11],[0, 23, 1]])\n",
    "print(mymatrix)"
   ]
  },
  {
   "cell_type": "markdown",
   "metadata": {},
   "source": [
    "Numpy has many useful predefined matrix arrays. For example, `np.zeros` gives an array filled with zeros"
   ]
  },
  {
   "cell_type": "code",
   "execution_count": 7,
   "metadata": {},
   "outputs": [
    {
     "data": {
      "text/plain": [
       "array([0., 0., 0.])"
      ]
     },
     "execution_count": 7,
     "metadata": {},
     "output_type": "execute_result"
    }
   ],
   "source": [
    "np.zeros(3)"
   ]
  },
  {
   "cell_type": "markdown",
   "metadata": {},
   "source": [
    "For 2D arrays (or matrices) with m rows and n columns filled with zeros, use `np.zeros((m,n))`. Try this above...\n",
    "\n",
    "Similarly, arrays filled with all entries equal to $1$ are easily obtained by `np.ones`:"
   ]
  },
  {
   "cell_type": "code",
   "execution_count": 8,
   "metadata": {},
   "outputs": [
    {
     "data": {
      "text/plain": [
       "array([[1., 1., 1.],\n",
       "       [1., 1., 1.],\n",
       "       [1., 1., 1.]])"
      ]
     },
     "execution_count": 8,
     "metadata": {},
     "output_type": "execute_result"
    }
   ],
   "source": [
    "np.ones((3,3))"
   ]
  },
  {
   "cell_type": "markdown",
   "metadata": {},
   "source": [
    "Check what `np.ones(3)` returns. And `np.eye(n)` gives the square identity matrix with n rows and n columns:"
   ]
  },
  {
   "cell_type": "code",
   "execution_count": 9,
   "metadata": {},
   "outputs": [
    {
     "data": {
      "text/plain": [
       "array([[1., 0., 0.],\n",
       "       [0., 1., 0.],\n",
       "       [0., 0., 1.]])"
      ]
     },
     "execution_count": 9,
     "metadata": {},
     "output_type": "execute_result"
    }
   ],
   "source": [
    "np.eye(3)"
   ]
  },
  {
   "cell_type": "markdown",
   "metadata": {},
   "source": [
    "Note that `np.array([a,b])` is simply a vector, and is neither a row nor a column in the linear algebra sense. If you need to specify shape, use `np.array([[a,b]])` for a $1\\times 2$ matrix (or a row vector) and `np.array([[a],[b]])` for a $2\\times 1$ matrix (or a column vector). And you can go back and forth between row and column vectors using `np.transpose()`. Python doesn't differentiate between a row or a column vector unless you explicitly make the array a matrix."
   ]
  },
  {
   "cell_type": "code",
   "execution_count": 10,
   "metadata": {},
   "outputs": [
    {
     "name": "stdout",
     "output_type": "stream",
     "text": [
      "row vector :\n",
      " [[1 2]]\n",
      "transpose of row vector :\n",
      " [[1]\n",
      " [2]]\n",
      "column vector :\n",
      " [[3]\n",
      " [4]]\n",
      "transpose of column vector :\n",
      " [[3 4]]\n"
     ]
    }
   ],
   "source": [
    "myrow=np.array([[1,2]])\n",
    "mycolumn=np.array([[3],[4]])\n",
    "print('row vector :\\n',myrow) #the \\n within a string indicates a newline\n",
    "print('transpose of row vector :\\n',np.transpose(myrow))\n",
    "print('column vector :\\n',mycolumn)\n",
    "print('transpose of column vector :\\n',np.transpose(mycolumn))"
   ]
  },
  {
   "cell_type": "markdown",
   "metadata": {},
   "source": [
    "Matrix algebra is then straightforward. Consider the vectors $a$ and $b$, and matrix $M$ as follows: $$a=\\begin{bmatrix}-4 & 5 \\end{bmatrix}, \\quad b=\\begin{bmatrix}3 & 2\\end{bmatrix}, \\quad M=\\begin{bmatrix}5 & -3\\\\2 & 4\\end{bmatrix}.$$ In python code, we would define them as "
   ]
  },
  {
   "cell_type": "code",
   "execution_count": 11,
   "metadata": {},
   "outputs": [],
   "source": [
    "a=np.array([-4,5])\n",
    "b=np.array([3,2])       \n",
    "M=np.array([[5,-3],[2,4]])"
   ]
  },
  {
   "cell_type": "markdown",
   "metadata": {},
   "source": [
    "The rules of linear algebra apply, which means you could add any two arrays of the same shape. Try `a+b` or `b-a` etc above. \n",
    "\n",
    "We can perform the 'dot product' (or inner product or scalar product) of any two vectors, given by $a\\cdot b = a_1 b_1 + a_2 b_2$. You could do this operation by running a loop, or much more efficiently use numpy's vectorized operation `dot`:"
   ]
  },
  {
   "cell_type": "code",
   "execution_count": 12,
   "metadata": {},
   "outputs": [
    {
     "data": {
      "text/plain": [
       "-2"
      ]
     },
     "execution_count": 12,
     "metadata": {},
     "output_type": "execute_result"
    }
   ],
   "source": [
    "np.dot(a,b)"
   ]
  },
  {
   "cell_type": "markdown",
   "metadata": {},
   "source": [
    "Try changing the numbers in $a$ and $b$ (try making them 3-element vectors!) to convince yourself this works. You could do `np.sqrt(np.dot(a,a))` to get the magnitude of vector `a` in one shot... try it!\n",
    "\n",
    "\n",
    "Similarly, the 'outer product' (or dyadic product or tensor product) of two vector would give a matrix: $a\\otimes b = \\begin{bmatrix}a_1b_1 & a_1 b_2 \\\\ a_2b_1 & a_2b_2 \\end{bmatrix}$.<br> In numpy, the outer product is simply:"
   ]
  },
  {
   "cell_type": "code",
   "execution_count": 13,
   "metadata": {},
   "outputs": [
    {
     "data": {
      "text/plain": [
       "array([[-12,  -8],\n",
       "       [ 15,  10]])"
      ]
     },
     "execution_count": 13,
     "metadata": {},
     "output_type": "execute_result"
    }
   ],
   "source": [
    "np.outer(a,b)"
   ]
  },
  {
   "cell_type": "markdown",
   "metadata": {},
   "source": [
    "Note that the order of operation matter: unlike the dot product, the outer product is not commutative. Check how `np.outer(a,b)` and `np.outer(b,a)` are related (and recall if this is consistent linear algebra...).\n",
    "\n",
    "Finally, one of the more important matrix operations we will do in solving linear equations in engineering problems is matrix-matrix and matrix-vector multiplication. Calculate by hand what you expect for the 'post-multiplication' $M\\cdot a$ or $M\\cdot b$, the 'pre-multiplication' $a\\cdot M$ or $b\\cdot M$, and the matrix-matrix product $M\\cdot M$. All of these are `dot` operations in numpy, and evaluate each below to see if you get consistent results:"
   ]
  },
  {
   "cell_type": "code",
   "execution_count": 14,
   "metadata": {},
   "outputs": [
    {
     "data": {
      "text/plain": [
       "array([-35,  12])"
      ]
     },
     "execution_count": 14,
     "metadata": {},
     "output_type": "execute_result"
    }
   ],
   "source": [
    "np.dot(M,a)"
   ]
  },
  {
   "cell_type": "markdown",
   "metadata": {},
   "source": [
    "Numpy has a host of linear algebra tools we will use when we need to solve equations in a couple of weeks. Details can be looked up as required at the [online numpy manual](https://docs.scipy.org/doc/numpy/reference/routines.linalg.html). Remember: when in doubt, look up in an online manual or just google it. The point of this course is not to memorize the syntax but to get comfortable using them in problems later on. Some of these functions are within the linear algebra submodule `linalg` of numpy. For example, calculating the matrix inverse or determinant require the `linalg.inv` or `linalg.det` function inside numpy so they should be used as:"
   ]
  },
  {
   "cell_type": "code",
   "execution_count": 15,
   "metadata": {},
   "outputs": [
    {
     "data": {
      "text/plain": [
       "array([[ 0.15384615,  0.11538462],\n",
       "       [-0.07692308,  0.19230769]])"
      ]
     },
     "execution_count": 15,
     "metadata": {},
     "output_type": "execute_result"
    }
   ],
   "source": [
    "np.linalg.inv(M)"
   ]
  },
  {
   "cell_type": "markdown",
   "metadata": {},
   "source": [
    "We will come back to matrix inverses and linear systems soon.\n",
    "\n",
    "You can also generate arrays of size m x n filled with random numbers between 0 an 1 using `np.random.random((m,n))`. Or an m x n array filled with a normal (Gaussian) distribution of random numbers with mean p and standard deviation q using `np.random.normal(p,q,(m,n))`. Or a random integer between a and b (b not included) using `np.random.randint(a,b,(m,n))`. In the latter two cases, not providing `(m,n)` returns a single value instead of an array:"
   ]
  },
  {
   "cell_type": "code",
   "execution_count": 16,
   "metadata": {},
   "outputs": [
    {
     "data": {
      "text/plain": [
       "array([[ 1.82686576,  0.57673658, -9.09903001, -3.65028136],\n",
       "       [ 7.98806125,  2.36369392,  1.03494242, -5.53259057],\n",
       "       [-0.63210839,  0.84778625, 20.29652871,  0.42793548]])"
      ]
     },
     "execution_count": 16,
     "metadata": {},
     "output_type": "execute_result"
    }
   ],
   "source": [
    "np.random.normal(0,10,(3,4))"
   ]
  },
  {
   "cell_type": "markdown",
   "metadata": {},
   "source": [
    "<a id='sequences'></a>\n",
    "\n",
    "\n",
    "### Generating sequences\n",
    "\n",
    "We will frequently need to generate evenly spaced numbers in a specified range when we start solving equations and doing numerical calculus later on. We already saw `np.arange` in week one, and a similar function is `np.linspace`.\n",
    "\n",
    "`np.arange(start,end,increment)` generates a first entry equal to `start`, the next entry equal to `start`+`increment`, and so on, adding the `increment` to obtain the next value until the `end` is reached. __The end value is not included in the array__. Try different combinations below:"
   ]
  },
  {
   "cell_type": "code",
   "execution_count": 17,
   "metadata": {},
   "outputs": [
    {
     "data": {
      "text/plain": [
       "array([5.1, 5.9, 6.7, 7.5, 8.3])"
      ]
     },
     "execution_count": 17,
     "metadata": {},
     "output_type": "execute_result"
    }
   ],
   "source": [
    "np.arange(5.1,8.6,0.8)"
   ]
  },
  {
   "cell_type": "markdown",
   "metadata": {},
   "source": [
    "The default `start` is $0$, and the default `increment` is $1$. So these two entries are optional. With only two arguments, `arange` assumes that the increment is $1$. With only one argument, `arange` assumes that the start is $0$ _and_ the `increment` is $1$. Try `np.arange(5,15)` and `np.arange(15)` to get a sense of how this works:"
   ]
  },
  {
   "cell_type": "code",
   "execution_count": 18,
   "metadata": {},
   "outputs": [
    {
     "data": {
      "text/plain": [
       "array([ 5,  6,  7,  8,  9, 10, 11, 12, 13, 14])"
      ]
     },
     "execution_count": 18,
     "metadata": {},
     "output_type": "execute_result"
    }
   ],
   "source": [
    "np.arange(5,15)"
   ]
  },
  {
   "cell_type": "markdown",
   "metadata": {},
   "source": [
    "In some application, we might not know the _size of the increment_ between each consecutive point, but we might know the _number of increments_. This is when `linspace` becomes useful.\n",
    "\n",
    "`np.linspace(start,end,N)` generates `N` equally spaced points between `start` and `end`. __The end value is  included in the array__. And `N` defaults to 50 elements if not specified. Try different combinations below:"
   ]
  },
  {
   "cell_type": "code",
   "execution_count": 19,
   "metadata": {},
   "outputs": [
    {
     "data": {
      "text/plain": [
       "array([5.1  , 5.975, 6.85 , 7.725, 8.6  ])"
      ]
     },
     "execution_count": 19,
     "metadata": {},
     "output_type": "execute_result"
    }
   ],
   "source": [
    "np.linspace(5.1,8.6,5)"
   ]
  },
  {
   "cell_type": "markdown",
   "metadata": {},
   "source": [
    "When you need you compute values of a function or expression over a range, `np.linspace` is the appropriate function as it allows you to exactly control the start and end points. When the exact spacing between consecutive points is important, `np.arange` is the better option.\n",
    "\n",
    "What if you wanted to control both the end points _and_ the increment? We will need a lot of this in numerical calculus later on. In such case, explicitly define the start, end, and the increment, and use `arange` with a careful correction on the end argument (because end is not included in `arange` by default):"
   ]
  },
  {
   "cell_type": "code",
   "execution_count": 20,
   "metadata": {},
   "outputs": [
    {
     "data": {
      "text/plain": [
       "array([10. , 10.2, 10.4, 10.6, 10.8, 11. , 11.2, 11.4, 11.6, 11.8, 12. ])"
      ]
     },
     "execution_count": 20,
     "metadata": {},
     "output_type": "execute_result"
    }
   ],
   "source": [
    "start=10\n",
    "end=12\n",
    "space=0.2\n",
    "np.arange(start,end+space,space)"
   ]
  },
  {
   "cell_type": "markdown",
   "metadata": {},
   "source": [
    "<a id='slicing'></a>\n",
    "\n",
    "### Accessing and slicing array elements\n",
    "\n",
    "\n",
    "Each entry in an array has an 'index' corresponding to its position from the left (if a row) and from the top (if a column). Multidimensional arrays have multiple indices: a matrix has a row number and column number for each entry. __Always remember that python starts counting indices from 0__. And you access that element using square brackets:"
   ]
  },
  {
   "cell_type": "code",
   "execution_count": 21,
   "metadata": {},
   "outputs": [
    {
     "data": {
      "text/plain": [
       "9"
      ]
     },
     "execution_count": 21,
     "metadata": {},
     "output_type": "execute_result"
    }
   ],
   "source": [
    "myarray=np.array([3,5,9,7]) # array indices are 0, 1, 2, 3\n",
    "myarray[2]  # retrive entry with index 2 (or third entry)"
   ]
  },
  {
   "cell_type": "markdown",
   "metadata": {},
   "source": [
    "The idea is the same for matrices (or three- or four- dimensional arrays...):"
   ]
  },
  {
   "cell_type": "code",
   "execution_count": 22,
   "metadata": {},
   "outputs": [
    {
     "data": {
      "text/plain": [
       "8"
      ]
     },
     "execution_count": 22,
     "metadata": {},
     "output_type": "execute_result"
    }
   ],
   "source": [
    "myarray=np.array([[3,5,9,7],[6,-5,8,3],[1,0,9,6]])   # row indices are 0, 1, 2 and column indices 0, 1, 2, 3\n",
    "myarray[1,2]   # retrive entry at row index 1 (second row) and column index 2 (or third column)"
   ]
  },
  {
   "cell_type": "markdown",
   "metadata": {},
   "source": [
    "Extracting multiple values at the same time is called __slicing__, and you do this using the syntax `arrayname[start:end:stride]`. This is kind of like the `arange` definition except here the numbers you provide are the _indices_ within the array, and therefore can only be whole numbers. The end point is not included. The stride is optional, and defaults to 1 if not provided (and the second colon may also be omitted if the stride is not specified). \n",
    "\n",
    "The start defaults to 0 (the first entry) if not provided. The end defaults to the index of the last entry of the array if not provided. Not specifying either and only providing a colon like `arrayname[:]` will extract the whole array.\n",
    "\n",
    "So, slicing the first 10 entries (index 0 through index 9) of an array named `myarray` can be done via `myarray[0:10:1]`, or simply `myarray[:10:]`, or even more simply `myarray[:10]` as the start and stride are the default anyway and the last colon can be omitted if stride is the default 1:"
   ]
  },
  {
   "cell_type": "code",
   "execution_count": 23,
   "metadata": {},
   "outputs": [
    {
     "data": {
      "text/plain": [
       "array([11, 12, 13, 14, 15, 16, 17, 18, 19, 20])"
      ]
     },
     "execution_count": 23,
     "metadata": {},
     "output_type": "execute_result"
    }
   ],
   "source": [
    "myarray=np.arange(11,31)  # array containing numbers 11 through 30\n",
    "myarray[:10] # slice first 10 entries"
   ]
  },
  {
   "cell_type": "markdown",
   "metadata": {},
   "source": [
    "You could similarly slice every third element (`myarray[::3]`), every element from index 4 onwards (`myarray[4::]`) or more complicated slices like every third element from 5th (index 4) to 15th (index 14, but remember end is not included so use 15 if you need this element too) using `myarray[4:15:3]`, etc. Try these combinations to familiarize yourself with slicing **(remember again that python indices start at 0)**:"
   ]
  },
  {
   "cell_type": "code",
   "execution_count": 24,
   "metadata": {},
   "outputs": [
    {
     "data": {
      "text/plain": [
       "array([15, 18, 21, 24])"
      ]
     },
     "execution_count": 24,
     "metadata": {},
     "output_type": "execute_result"
    }
   ],
   "source": [
    "myarray[4:14:3]"
   ]
  },
  {
   "cell_type": "markdown",
   "metadata": {},
   "source": [
    "Finally, matrices can be sliced using the same logic. To extract the second and third entries (column indices 1 through 3, 3 not included) in the first row (row index 0) of a matrix `A`, you could use `A[0,1:3]`. For all entries in the third column, you could use `A[:,2]`. Try both..."
   ]
  },
  {
   "cell_type": "code",
   "execution_count": 25,
   "metadata": {},
   "outputs": [
    {
     "data": {
      "text/plain": [
       "array([5, 9])"
      ]
     },
     "execution_count": 25,
     "metadata": {},
     "output_type": "execute_result"
    }
   ],
   "source": [
    "A=np.array([[3,5,9,7],[6,-5,8,3],[1,0,9,6]])\n",
    "A[0,1:3]"
   ]
  },
  {
   "cell_type": "markdown",
   "metadata": {},
   "source": [
    "<a id='vectorizing'></a>\n",
    "\n",
    "### Vectorizing\n",
    "\n",
    "\n",
    "Now that we know how to generate sequences of numbers, we can start performing mathematical operations on these sequences. Let's say we want to see what the exponential function $e^x$ looks like between 0 and 1. A straightforward way to do this is to run a loop to generate numbers between 0 and 1, and then perform the exponential operation for each element. Something like this:"
   ]
  },
  {
   "cell_type": "code",
   "execution_count": 26,
   "metadata": {},
   "outputs": [
    {
     "name": "stdout",
     "output_type": "stream",
     "text": [
      "1.0\n",
      "1.2214027581601699\n",
      "1.4918246976412703\n",
      "1.822118800390509\n",
      "2.225540928492468\n"
     ]
    }
   ],
   "source": [
    "for x in np.arange(0,1,0.2):   # run a loop for x from 0 to 1 in steps of 0.2\n",
    "    y=np.exp(x)   # exponentiate each element of x term-by-term\n",
    "    print(y)"
   ]
  },
  {
   "cell_type": "markdown",
   "metadata": {},
   "source": [
    "While this will give you the correct answer, python and numpy allows you to _vectorize_ your code, meaning that you can perform most operations on entire arrays of numbers. This means we can do the following:"
   ]
  },
  {
   "cell_type": "code",
   "execution_count": 27,
   "metadata": {},
   "outputs": [
    {
     "name": "stdout",
     "output_type": "stream",
     "text": [
      "[1.         1.22140276 1.4918247  1.8221188  2.22554093]\n"
     ]
    }
   ],
   "source": [
    "x=np.arange(0,1,0.2)   # create an array of 20 entries from 0 to 5\n",
    "y=np.exp(x)   # exponentiate entire array at once\n",
    "print(y)"
   ]
  },
  {
   "cell_type": "markdown",
   "metadata": {},
   "source": [
    "The same applies to `sin`, `cos`, `log`, `sqrt`, multiplication/addition/division by a constant, raising to a power etc: each of these operations act on every term of the array separately. Try `np.sin(x)` or `np.sqrt(x)` or `3*x**2+5` or any similar operation...."
   ]
  },
  {
   "cell_type": "code",
   "execution_count": 28,
   "metadata": {},
   "outputs": [
    {
     "data": {
      "text/plain": [
       "array([5.  , 5.12, 5.48, 6.08, 6.92])"
      ]
     },
     "execution_count": 28,
     "metadata": {},
     "output_type": "execute_result"
    }
   ],
   "source": [
    "3*x**2+5"
   ]
  },
  {
   "cell_type": "markdown",
   "metadata": {},
   "source": [
    "While this might seem like just running a `for` loop behind-the-scenes through the elements of `x`, vectorized operations are faster beacause the back-end is optmized to do these operations much better than a loop we would normally write."
   ]
  },
  {
   "cell_type": "markdown",
   "metadata": {},
   "source": [
    "<a id='format'></a>\n",
    "\n",
    "## (1.5) Formatting and Storing Data\n",
    "\n",
    "We now know how to manipulate numbers, vectors, and matrices using python: but how do we present them as an output in a preferred manner? For example, consider the following line of code designed to display the result of a calculation as part of a sentence:"
   ]
  },
  {
   "cell_type": "code",
   "execution_count": 30,
   "metadata": {},
   "outputs": [
    {
     "name": "stdout",
     "output_type": "stream",
     "text": [
      "exp(-pi) is 0.04321391826377226 and exp(pi) is  23.140692632779267\n"
     ]
    }
   ],
   "source": [
    "a=np.exp(-np.pi)\n",
    "b=np.exp(np.pi)\n",
    "print('exp(-pi) is',a,'and exp(pi) is ',b)"
   ]
  },
  {
   "cell_type": "markdown",
   "metadata": {},
   "source": [
    "Often, we want to display only the first $N$ significant digits. Or we might need the output in exponential notation. Or a line break between the two outputs. Better yet, we might need to export numbers/matrices/datasets we generate in python in a specific format to share with other users or software. The following sections illustrate the basics of formatting rules and storing/retrieving data.\n",
    "\n",
    "<a id='output'></a>\n",
    "\n",
    "### Formatting output\n",
    "\n",
    "The basic strategy for formatting output is to provide a 'placeholder' that contains information about the type of output we need. The syntax for the placeholder is `%[width].[precision][type]`, where `[type]` decides if the output is a rounded integer, a float, or in exponent notation etc. For example, use `d` for integers:"
   ]
  },
  {
   "cell_type": "code",
   "execution_count": 24,
   "metadata": {},
   "outputs": [
    {
     "name": "stdout",
     "output_type": "stream",
     "text": [
      "exp(-pi) is 0\n",
      "exp(-pi) is 23\n"
     ]
    }
   ],
   "source": [
    "print('exp(-pi) is %d'%a)\n",
    "print('exp(pi) is %d'%b)"
   ]
  },
  {
   "cell_type": "markdown",
   "metadata": {},
   "source": [
    "The `%` connects the variable to the corresponding placeholder. Note there is no comma between the string and the variable when written this way. In fact, it is possible to provide multiple variables as a tuple at once:"
   ]
  },
  {
   "cell_type": "code",
   "execution_count": 31,
   "metadata": {},
   "outputs": [
    {
     "name": "stdout",
     "output_type": "stream",
     "text": [
      "exp(-pi) is 0 and exp(pi) is 23\n"
     ]
    }
   ],
   "source": [
    "print('exp(-pi) is %d and exp(pi) is %d' %(a,b))"
   ]
  },
  {
   "cell_type": "markdown",
   "metadata": {},
   "source": [
    "Of course, both `a` and `b` here are floats, and a more appropriate `[type]` is `f`. By default formatted floats display 6 significant digits after the decimal point:"
   ]
  },
  {
   "cell_type": "code",
   "execution_count": 32,
   "metadata": {},
   "outputs": [
    {
     "name": "stdout",
     "output_type": "stream",
     "text": [
      "exp(-pi) is 0.043214 and exp(pi) is 23.140693\n"
     ]
    }
   ],
   "source": [
    "print('exp(-pi) is %f and exp(pi) is %f' %(a,b))"
   ]
  },
  {
   "cell_type": "markdown",
   "metadata": {},
   "source": [
    "We can tune this display using `[width]` and `[precision]`. `[width]` is the total number of output characters and `[precision]` is the number of significant digits following the decimal point. The decimal point itself counts as one character: it's important to account for this when we decide `[precision]` for a desired output."
   ]
  },
  {
   "cell_type": "code",
   "execution_count": 40,
   "metadata": {},
   "outputs": [
    {
     "name": "stdout",
     "output_type": "stream",
     "text": [
      "exp(-pi) is   0.0432 and exp(pi) is 023.1407\n"
     ]
    }
   ],
   "source": [
    "print('exp(-pi) is %8.4f and exp(pi) is %8.4f' %(a,b))"
   ]
  },
  {
   "cell_type": "markdown",
   "metadata": {},
   "source": [
    "Written this way, both `a` and `b` are given 8 'slots' to be displayed, of which one is taken by the decimal point, and only 4 significant digits are allowed. Which means there are 3 slots left for the integer part of each variable and that leads to the extra white space in the display. We can pad this gap with zeros (use `%08.4`), left align the output (use `%-8.4`), or exactly calculate the required number of slots as needed (use `%6.4` for `a` and `%7.4` for `b`). Try each of these for the desired output. \n",
    "\n",
    "Exponential notation follows the same idea: just use `e` or `E` for `[type]`:"
   ]
  },
  {
   "cell_type": "code",
   "execution_count": 47,
   "metadata": {},
   "outputs": [
    {
     "name": "stdout",
     "output_type": "stream",
     "text": [
      "exp(-pi) is 4.3214e-02 and exp(pi) is 2.3141E+01\n"
     ]
    }
   ],
   "source": [
    "print('exp(-pi) is %6.4e and exp(pi) is %7.4E' %(a,b))"
   ]
  },
  {
   "cell_type": "markdown",
   "metadata": {},
   "source": [
    "For long display outputs, `\\t` or `\\n` within the output string introduces a tab or return:"
   ]
  },
  {
   "cell_type": "code",
   "execution_count": 51,
   "metadata": {},
   "outputs": [
    {
     "name": "stdout",
     "output_type": "stream",
     "text": [
      "exp(-pi) is 0.0432 \n",
      "exp(pi) is 23.1407\n"
     ]
    }
   ],
   "source": [
    "print('exp(-pi) is %6.4f \\nexp(pi) is %7.4f' %(a,b))"
   ]
  },
  {
   "cell_type": "markdown",
   "metadata": {},
   "source": [
    "<a id='storing'></a>\n",
    "\n",
    "### Storing data\n",
    "\n",
    "Every variable you define in a notebook are 'alive' only as long as the notebook is open. The code remains saved but the numbers you assign to variables are lost when you close the file. So how do we store data generated by running a code for later use or to export to some other document or to share with people?\n",
    "\n",
    "Arrays are easily saved on your computer using the `np.save(\"filename\",arrayname)` command. This saves a file with extension .npy in the same folder as your notebook file. Later, if you wish to load the data into another file or another python code, use `newarrayname=np.load(\"filename.npy\")`, and the variable `newarrayname` will load that data.\n",
    "\n",
    "The .npy format is very efficient for storage and takes very little memory on your computer. However, it can only be read by python. If you wanted something that's 'human-readable', meaning something that you could double-click and read on a device that doesn't have python (or if you want to share data with a colleague), you can instead save in the .txt or .csv (comma separated values) or .tsv (tab separated values) formats. In these cases, use `np.savetxt(\"filename.txt\",arrayname, delimiter=\",\")` or `np.savetxt(\"filename.csv\",arrayname, delimiter=\",\")` or `np.savetxt(\"filename.csv\",arrayname, delimiter=\"\\t\")`, respectively. The `delimiter` tells python to put a comma or a tab space after each entry so other programs (like Excel or text editors) can recognize individual entries easily. And you can load these files via `newarrayname=np.loadtxt(\"filename.csv\", delimiter=\",\")` etc.\n",
    "\n",
    "Try the save features below. Store the matrix A in .npy, .txt, and .csv formats. Compare the file sizes in your directory. Try opening the .csv or .txt files using non-python programs (like text editors, Excel etc)."
   ]
  },
  {
   "cell_type": "code",
   "execution_count": 29,
   "metadata": {},
   "outputs": [],
   "source": [
    "A=np.array([[3213,55656,93423,73424],[6245,-5455,886,3207],[19345,4460,-952,6668]])\n",
    "\n",
    "# uncomment and run any of the following to save in different formats\n",
    "\n",
    "np.savetxt(\"A_matrix.csv\", A, delimiter=\",\")\n",
    "#np.savetxt(\"A_matrix.txt\", A, delimiter=\",\")\n",
    "#np.save(\"A_matrix\",A)"
   ]
  },
  {
   "cell_type": "markdown",
   "metadata": {},
   "source": [
    "These files are stored on your computer even after you close this notebook. You can retrive the stored value into a new variable B as follows:"
   ]
  },
  {
   "cell_type": "code",
   "execution_count": 3,
   "metadata": {},
   "outputs": [
    {
     "name": "stdout",
     "output_type": "stream",
     "text": [
      "[[ 3213. 55656. 93423. 73424.]\n",
      " [ 6245. -5455.   886.  3207.]\n",
      " [19345.  4460.  -952.  6668.]]\n"
     ]
    }
   ],
   "source": [
    "B=np.loadtxt(\"A_matrix.csv\", delimiter=\",\")\n",
    "print(B)"
   ]
  },
  {
   "cell_type": "markdown",
   "metadata": {},
   "source": [
    "`np.loadtxt` allows more extraction with specific datatype, for example, using a `dtype='str'` argument in the `loadtxt` command. Similarly, we can skip rows or selectively extract columns using the `usecols` and `skiprows` arguments. For example, `np.loadtxt(\"filename.csv\", delimiter=',',dtype='str', usecols=[2],skiprows=2)` would load data type string from the third column only and it would skip the first 2 rows. Many more careful loading manipulations are possible using other arguments; for details, look in the [numpy loadtxt documentation](https://docs.scipy.org/doc/numpy/reference/generated/numpy.loadtxt.html)."
   ]
  },
  {
   "cell_type": "markdown",
   "metadata": {},
   "source": [
    "<a id='exer'></a>\n",
    "\n",
    "\n",
    "\n",
    "\n",
    "\n",
    "## Practice problems"
   ]
  },
  {
   "cell_type": "markdown",
   "metadata": {},
   "source": [
    "(1) The solutions of the quadratic equation $a x^2 + b x +c =0$ are given by \n",
    "\n",
    "$$x=\\frac{-b\\pm\\sqrt{b^2-4ac}}{2a}.$$ \n",
    "\n",
    "Write a python function that `quadratic_soln(a,b,c)` which returns the solution given $a$, $b$, and $c$.\n",
    "\n",
    "Also write a single-line `lambda` function `quadratic_soln_single(a,b,c)` to only return the bigger root given the quadratic coefficients."
   ]
  },
  {
   "cell_type": "code",
   "execution_count": null,
   "metadata": {},
   "outputs": [],
   "source": []
  },
  {
   "cell_type": "markdown",
   "metadata": {},
   "source": [
    "(2) Write a function `sphere(r)` that takes in the radius and spits out two outputs: the volume and the surface are of a sphere with radius $r$."
   ]
  },
  {
   "cell_type": "code",
   "execution_count": null,
   "metadata": {},
   "outputs": [],
   "source": []
  },
  {
   "cell_type": "markdown",
   "metadata": {},
   "source": [
    "(3) Write a function `myfunc(x)` that will take the the input $x$, check if it's a positive number, and run a loop to add up the square roots from $0$ to $x$ if it's positive, and return the sum."
   ]
  },
  {
   "cell_type": "code",
   "execution_count": null,
   "metadata": {},
   "outputs": [],
   "source": []
  },
  {
   "cell_type": "markdown",
   "metadata": {},
   "source": [
    "(4) The Taylor series expansion for the exponential function is \n",
    "\n",
    "$$e^x=\\sum_{i=0}^\\infty \\frac{x^i}{i!} = 1+x+\\frac{x^2}{2}+\\frac{x^3}{6}+\\ldots$$ \n",
    "\n",
    "If $x$ is small, a few terms are sufficient to get a good approximation. Write a function that takes $x$ as input and returns the Taylor series approximation for 10 terms. See how good this approximation is compared to the actual value of the exponential (obtained directly via `np.exp(x)`) for $x=0.1$, $0.5$, and $1$. How does this error change if we only sum to the first 3 terms in the series approximation?\n",
    "\n",
    "Factorial is implement as `np.math.factorial(i)`... always google or look up numpy documentation online for help when you are unsure of syntax. Our goal is not to memorize syntax but to be able to develop algorithms and apply the code."
   ]
  },
  {
   "cell_type": "code",
   "execution_count": null,
   "metadata": {},
   "outputs": [],
   "source": []
  },
  {
   "cell_type": "markdown",
   "metadata": {},
   "source": [
    "(5) Same as (2) but for the $\\sin(x)$ function: \n",
    "\n",
    "$$\\sin(x)=\\sum_{i=0}^{\\infty} (-1)^{i}~\\frac{x^{2i+1}}{(2i+1)!} = x-\\frac{x^3}{6}+\\frac{x^5}{120} -\\ldots$$"
   ]
  },
  {
   "cell_type": "code",
   "execution_count": null,
   "metadata": {},
   "outputs": [],
   "source": []
  },
  {
   "cell_type": "markdown",
   "metadata": {},
   "source": [
    "(6) Modify `quadratic_soln(a,b,c)` in (1) to check if the solutions are negative, and return only the positive solutions. "
   ]
  },
  {
   "cell_type": "code",
   "execution_count": null,
   "metadata": {},
   "outputs": [],
   "source": []
  },
  {
   "cell_type": "markdown",
   "metadata": {},
   "source": [
    "(7) You can use the previously defined `fibo(n)` to do operations like adding the 10th and 20th Fibonacci directly: try `fibo(10)+fibo(20)`. A curious property of the Fibonacci sequence is that the ratio of the (n+1)th number to the n-th number approaches the golden ratio (1.61803...) as n is large!\n",
    "\n",
    "Write a loop that evaluate the ratio of a Fibonacci number with the previous Fibonacci number until the ratio is within one millionth of a decimal point (0.000001) of the golden ratio, formally defined as \n",
    "\n",
    "$$\\phi=\\frac{1+\\sqrt{5}}{2}.$$\n",
    "\n",
    "Would you use a `for` or a `while` loop? Why? How many numbers into the sequence does the ratio coverge to within a millionth of a decimal point of $\\phi$?\n",
    "\n",
    "Hint: You might consider using the absolute value function `abs()` ..."
   ]
  },
  {
   "cell_type": "code",
   "execution_count": null,
   "metadata": {},
   "outputs": [],
   "source": []
  },
  {
   "cell_type": "markdown",
   "metadata": {},
   "source": [
    "(8) Create a 2D array to represent the following matrix using a nested loop (a loop within a loop):\n",
    "$$\\begin{bmatrix} 4 & 8 & 12 & 16 & 20\\\\6 & 12 & 18 & 24 & 30\\\\ 8 & 16 & 24 & 32 & 40\\end{bmatrix}$$"
   ]
  },
  {
   "cell_type": "code",
   "execution_count": null,
   "metadata": {},
   "outputs": [],
   "source": []
  },
  {
   "cell_type": "markdown",
   "metadata": {},
   "source": [
    "Now, create the same matrix using `np.arange` (a useful function is `np.vstack([rowvector, newrow])`... look up its documentation):"
   ]
  },
  {
   "cell_type": "code",
   "execution_count": null,
   "metadata": {},
   "outputs": [],
   "source": []
  },
  {
   "cell_type": "markdown",
   "metadata": {},
   "source": [
    "Now slice the matrix you created to extract (i) just the second row, (ii) the central three entries in the second row, (iii) the first, third, and fifth elements in the third row"
   ]
  },
  {
   "cell_type": "markdown",
   "metadata": {},
   "source": [
    "(9) Using just one line of code, generate the numbers corresponding to the sequence $1$, $\\frac{1}{2^2}$, $\\frac{1}{3^2}$, $\\frac{1}{4^2}$, ... and so on until $\\frac{1}{10^2}$"
   ]
  },
  {
   "cell_type": "code",
   "execution_count": null,
   "metadata": {},
   "outputs": [],
   "source": []
  },
  {
   "cell_type": "markdown",
   "metadata": {},
   "source": [
    "(10) With one line of code, generate a sequence of negative odd numbers starting at $-1$ and ending at $-19$. "
   ]
  },
  {
   "cell_type": "code",
   "execution_count": null,
   "metadata": {},
   "outputs": [],
   "source": []
  }
 ],
 "metadata": {
  "kernelspec": {
   "display_name": "Python 3",
   "language": "python",
   "name": "python3"
  },
  "language_info": {
   "codemirror_mode": {
    "name": "ipython",
    "version": 3
   },
   "file_extension": ".py",
   "mimetype": "text/x-python",
   "name": "python",
   "nbconvert_exporter": "python",
   "pygments_lexer": "ipython3",
   "version": "3.7.6"
  }
 },
 "nbformat": 4,
 "nbformat_minor": 4
}
