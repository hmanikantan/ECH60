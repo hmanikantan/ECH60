{
 "cells": [
  {
   "cell_type": "markdown",
   "metadata": {},
   "source": [
    "# CHAPTER III\n",
    "\n",
    "# Statistics and Data Analysis\n",
    "&copy; Harishankar Manikantan, Chemical Engineering, UC Davis "
   ]
  },
  {
   "cell_type": "markdown",
   "metadata": {},
   "source": [
    "**[(3.1) Elementary Statistics](#stat)**\n",
    "*  [Measures of spread](#measures) <br>\n",
    "*  [Distributions and histograms](#hist) <br>\n",
    "\n",
    "**[(3.2) Pandas: a powerful data platform](#pandas)**\n",
    "*  [Introduction to data frames](#df) <br>\n",
    "*  [A real example: the data science of lead in lipsticks](#lipstick) <br>\n",
    "\n",
    "\n",
    "**[Practice problems](#exer)**\n"
   ]
  },
  {
   "cell_type": "markdown",
   "metadata": {},
   "source": [
    "<a id='stat'></a>\n",
    "\n",
    "## (3.1) Elementary Statistics\n",
    "\n",
    "We now know how to assign, extract, organize, save, and visualize numbers. Statistics and related tools let us analyze numbers and generate meaningful insights from large amounts of data. Python has many inbuilt features that makes it one of the most popular (and powerful) tools for data analysis. We will learn about some of the basic statistical tools, and then introduce the powerful `pandas` framework.\n",
    "\n",
    "<a id='measures'></a>\n",
    "\n",
    "\n",
    "\n",
    "### Measures of spread\n",
    "\n",
    "The standard measures of data are straightforward in python. For example, the minimum and maximum values of an array are directly obtained via the inbuilt `min()` and `max()` (no need for `numpy`). The arithmetic mean (or simply 'the mean') is the sum of all data points divided by the number of data points. That's an easy implementation with a loop. Alternatively, one could also use the `sum` and `len` functions to calculate the sum of all elements and the length of an array, so the mean would be:"
   ]
  },
  {
   "cell_type": "code",
   "execution_count": 1,
   "metadata": {},
   "outputs": [],
   "source": [
    "# find mean of a 1D array d\n",
    "find_mean=lambda d: sum(d)/len(d)"
   ]
  },
  {
   "cell_type": "markdown",
   "metadata": {},
   "source": [
    "Test it with an array of your choice. What about the median? Algorithmically, this would require 'sorting' the array in ascending order, and find the middle value (if `len` is odd), or the mean of the middle values (if `len` is even). \n",
    "\n",
    "NumPy has an inbuilt arithmetic mean and median calculators `numpy.mean` and `numpy.median`. NumPy's functions are faster and more general than our simple function defined above. For instance, you can directly feed in a 2D (or 3D or higher dimensional) array and ask NumPy to calculate means or medians along a specific direction by providing the axis as an argument. This is extremely powerful when we want to calculate statistics of measured 2D/3D data:"
   ]
  },
  {
   "cell_type": "code",
   "execution_count": 1,
   "metadata": {},
   "outputs": [
    {
     "name": "stdout",
     "output_type": "stream",
     "text": [
      "[[1 2]\n",
      " [3 4]]\n",
      "Mean of all elements: 2.5\n",
      "Mean along axis 0 (rows): [2. 3.]\n",
      "Mean along axis 1 (column): [1.5 3.5]\n"
     ]
    }
   ],
   "source": [
    "import numpy as np\n",
    "\n",
    "A=np.array([[1,2],[3,4]])\n",
    "print(A)\n",
    "print('Mean of all elements:',np.mean(A))\n",
    "print('Mean along axis 0 (rows):',np.mean(A,0))\n",
    "print('Mean along axis 1 (column):',np.mean(A,1))"
   ]
  },
  {
   "cell_type": "markdown",
   "metadata": {},
   "source": [
    "The mean (or other 'center' measures like median or mode) only tells us the most likely or most centered value. To get a sense of the 'spread', we need higher moments of statistical measures. The most common is standard deviation, which is defined as the root-mean-square sum of residuals (difference from mean) of all values in an array. Try writing a simple code for this. Numpy has a general version `std()`, with choice of averaging direction like with the mean. Same thing with the variance (or the square of teh standard deviation): use NumPy's `var()`.\n",
    "\n",
    "To see these in action, let's play with the temperature data set from last week. To get a sense of what the data looks like, let's pick a 1D slice and plot the data first:"
   ]
  },
  {
   "cell_type": "code",
   "execution_count": 3,
   "metadata": {},
   "outputs": [
    {
     "data": {
      "image/png": "[encoded data removed]",
      "text/plain": [
       "<Figure size 432x288 with 1 Axes>"
      ]
     },
     "metadata": {
      "needs_background": "light"
     },
     "output_type": "display_data"
    }
   ],
   "source": [
    "    temp_data=np.loadtxt(\"data/temperature.csv\", delimiter=\",\")\n",
    "\n",
    "    import matplotlib.pyplot as plt\n",
    "    plt.plot(temp_data[20,:]) # pick one column\n",
    "    plt.show()"
   ]
  },
  {
   "cell_type": "markdown",
   "metadata": {},
   "source": [
    "You can calculate the mean of this dataset directly using `np.mean(temp_data[20,:])`. Or even better, recognize that this requires averaging along a column (corresponding to the `:` that we used to slice the array) and therefore we could use `np.mean(temp_data,1)[20]` to get the 21st element in the column-wise mean:"
   ]
  },
  {
   "cell_type": "code",
   "execution_count": 4,
   "metadata": {},
   "outputs": [
    {
     "data": {
      "text/plain": [
       "25.45062297775588"
      ]
     },
     "execution_count": 4,
     "metadata": {},
     "output_type": "execute_result"
    }
   ],
   "source": [
    "np.mean(temp_data,1)[20]"
   ]
  },
  {
   "cell_type": "markdown",
   "metadata": {},
   "source": [
    "Same thing with the median. Try it. These measures give you the 'center' of the data in some sense. To see how varied the rest of the data is relative to the mean, find the standard deviation or variance:"
   ]
  },
  {
   "cell_type": "code",
   "execution_count": 5,
   "metadata": {},
   "outputs": [
    {
     "data": {
      "text/plain": [
       "0.3327593142754834"
      ]
     },
     "execution_count": 5,
     "metadata": {},
     "output_type": "execute_result"
    }
   ],
   "source": [
    "np.std(temp_data,1)[20]"
   ]
  },
  {
   "cell_type": "markdown",
   "metadata": {},
   "source": [
    "Now compare this against the column slice `temp_data[:,190]`. See how the plot looks, and try to make sense of what a 'small' or 'large' standard deviation means.\n",
    "\n",
    "When we start doing line fits and regression, these measures and their relatives will differentiate between a 'good' fit vs a bad 'fit'."
   ]
  },
  {
   "cell_type": "markdown",
   "metadata": {},
   "source": [
    "<a id='hist'></a>\n",
    "\n",
    "### Distributions and histograms\n",
    "\n",
    "In probability theory and statistics, a distribution is a function that provides the probabilities of occurrence of a particular data point in a measurement or experiment. An easy way to visualize distributions of data sets are **histograms** or bar graphs. NumPy's `histogram` generates two arrays, corresponding to the number of times a value repeats and the 'bin' boundaries:"
   ]
  },
  {
   "cell_type": "code",
   "execution_count": 6,
   "metadata": {},
   "outputs": [
    {
     "data": {
      "text/plain": [
       "(array([ 7, 36, 26, 23, 25, 22, 16, 21, 18,  6]),\n",
       " array([24.85101181, 24.98302908, 25.11504635, 25.24706362, 25.37908089,\n",
       "        25.51109816, 25.64311543, 25.7751327 , 25.90714997, 26.03916724,\n",
       "        26.17118451]))"
      ]
     },
     "execution_count": 6,
     "metadata": {},
     "output_type": "execute_result"
    }
   ],
   "source": [
    "np.histogram(temp_data[20,:])"
   ]
  },
  {
   "cell_type": "markdown",
   "metadata": {},
   "source": [
    "You can control the bin number by providing it as an argument: try `np.histogram(temp_data[20,:],5)` or `np.histogram(temp_data[20,:],20)` to get frequency counts in 5 or 20 bins.\n",
    "\n",
    "MatPlotLib's histogram function works in the same way, and takes the following form `plt.histogram(dataarray)`. This function additionally plots the data.\n",
    "\n",
    "For example, we could draw a histogram of row 20 of `temp_data` as follows:"
   ]
  },
  {
   "cell_type": "code",
   "execution_count": 7,
   "metadata": {},
   "outputs": [
    {
     "data": {
      "image/png": "[encoded data removed]",
      "text/plain": [
       "<Figure size 432x288 with 1 Axes>"
      ]
     },
     "metadata": {
      "needs_background": "light"
     },
     "output_type": "display_data"
    }
   ],
   "source": [
    "plt.hist(temp_data[0,:])\n",
    "plt.show()"
   ]
  },
  {
   "cell_type": "markdown",
   "metadata": {},
   "source": [
    "You can embellish this by providing edgecolors so each bar stands out, by providing a bin number so you control the number of bars, and you can plot multiple sets of data to compare. And the same rules for labeling and titles etc as with normal plots apply. For example:"
   ]
  },
  {
   "cell_type": "code",
   "execution_count": 6,
   "metadata": {},
   "outputs": [
    {
     "data": {
      "image/png": "[encoded data removed]",
      "text/plain": [
       "<Figure size 432x288 with 1 Axes>"
      ]
     },
     "metadata": {
      "needs_background": "light"
     },
     "output_type": "display_data"
    }
   ],
   "source": [
    "plt.hist(temp_data[20,:],10,edgecolor='w')\n",
    "plt.hist(temp_data[:,190],10,edgecolor='w')\n",
    "plt.title('Temperature distributions across two slices')\n",
    "plt.xlabel('Temperature (in C)')\n",
    "plt.ylabel('# of occurences')\n",
    "plt.show()"
   ]
  },
  {
   "cell_type": "markdown",
   "metadata": {},
   "source": [
    "This clearly shows the difference in spread between those two slices! We can further embellish by providing a transparency to either data set: like with plotting before, try using the `alpha` key. For example, `plt.hist(temp_data[:,190],10,edgecolor='w',alpha=0.5)` above should reduce the orange histograms above to 50% opacity.\n",
    "\n",
    "Finally, histograms don't need to be overlaid and can be drawn as insets too. Like with plotting before, this is achieved by a drawing one data set on the whole figure, and another as a subplot:"
   ]
  },
  {
   "cell_type": "code",
   "execution_count": 7,
   "metadata": {},
   "outputs": [
    {
     "data": {
      "image/png": "[encoded data removed]",
      "text/plain": [
       "<Figure size 432x288 with 2 Axes>"
      ]
     },
     "metadata": {
      "needs_background": "light"
     },
     "output_type": "display_data"
    }
   ],
   "source": [
    "fig_1 = plt.figure()\n",
    "ax_1 = fig_1.gca()\n",
    "\n",
    "ax_1.hist(temp_data[20,:],10,edgecolor='w')\n",
    "\n",
    "ax_1.set_title('Temperature distributions across two slices')\n",
    "ax_1.set_xlabel('Temperature (in C)')\n",
    "ax_1.set_ylabel('# of occurences')\n",
    "\n",
    "ax_2 = fig_1.add_subplot(333)\n",
    "\n",
    "ax_2.hist(temp_data[:,190],10,edgecolor='w',facecolor='r')\n",
    "\n",
    "plt.show()"
   ]
  },
  {
   "cell_type": "markdown",
   "metadata": {},
   "source": [
    "There are many more formatting modifications one can do with histograms (e.g. stacking, horizontal bars, grouped bars): read [MatPlotLibs's official documentation](https://matplotlib.org/3.2.1/api/_as_gen/matplotlib.pyplot.hist.html) or look in the [gallery](https://matplotlib.org/3.2.1/gallery/index.html) for help and inspiration.\n",
    "\n",
    "\n"
   ]
  },
  {
   "cell_type": "markdown",
   "metadata": {},
   "source": [
    "<a id='pandas'></a>\n",
    "\n",
    "\n",
    "\n",
    "\n",
    "## (3.2) Pandas\n",
    "\n",
    "Pandas is a handy and powerful python library for data analysis and manipulation. It's short for PANel DAta Structure (and it keeps up with the python animal pun theme!). Pandas is extremely popular in modern data science and there are countless online examples of 'big' data manipulations using pandas. Given that most industrial jobs nowadays look for some kind of data savviness, we will briefly introduce the core principles of pandas. You can teach yourself more advanced features quite easily once you know the basics, or talk to me and I can provide links to external tutorials. \n",
    "\n",
    "<a id='df'></a>\n",
    "\n",
    "\n",
    "\n",
    "\n",
    "### Introduction to data frames\n",
    "\n",
    "\n",
    "\n",
    "Pandas essentially creates a new type of python object with rows and columns called a 'data frame'. Data frames look very similar to tables (like in Excel or any other common word processing software), and it is much easier to work with these tables without having to loop through indices. And pandas can handle different data types (strings, integers, combinations) quite easily.\n",
    "\n",
    "First, we import `pandas` (a common nickname is `pd`; as usual, this is optional)"
   ]
  },
  {
   "cell_type": "code",
   "execution_count": 1,
   "metadata": {},
   "outputs": [],
   "source": [
    "import pandas as pd"
   ]
  },
  {
   "cell_type": "markdown",
   "metadata": {},
   "source": [
    "Once that's imported, you can quickly transform any list to a data frame. For example, this list of strings becomes the data frame named `states_data` using `pd.DataFrame()`:"
   ]
  },
  {
   "cell_type": "code",
   "execution_count": 10,
   "metadata": {},
   "outputs": [],
   "source": [
    "my_list = ['California', 'Nevada', 'Colorado', 'Illinois',  'New York', 'Maryland'] \n",
    "  \n",
    "# convert list to dataframe\n",
    "states_data= pd.DataFrame(my_list) "
   ]
  },
  {
   "cell_type": "markdown",
   "metadata": {},
   "source": [
    "Viewing the data then doesn't require the `print` statement: simply enter the name of the dataframe and execute:"
   ]
  },
  {
   "cell_type": "code",
   "execution_count": 11,
   "metadata": {},
   "outputs": [
    {
     "data": {
      "text/html": [
       "<div>\n",
       "<style scoped>\n",
       "    .dataframe tbody tr th:only-of-type {\n",
       "        vertical-align: middle;\n",
       "    }\n",
       "\n",
       "    .dataframe tbody tr th {\n",
       "        vertical-align: top;\n",
       "    }\n",
       "\n",
       "    .dataframe thead th {\n",
       "        text-align: right;\n",
       "    }\n",
       "</style>\n",
       "<table border=\"1\" class=\"dataframe\">\n",
       "  <thead>\n",
       "    <tr style=\"text-align: right;\">\n",
       "      <th></th>\n",
       "      <th>0</th>\n",
       "    </tr>\n",
       "  </thead>\n",
       "  <tbody>\n",
       "    <tr>\n",
       "      <th>0</th>\n",
       "      <td>California</td>\n",
       "    </tr>\n",
       "    <tr>\n",
       "      <th>1</th>\n",
       "      <td>Nevada</td>\n",
       "    </tr>\n",
       "    <tr>\n",
       "      <th>2</th>\n",
       "      <td>Colorado</td>\n",
       "    </tr>\n",
       "    <tr>\n",
       "      <th>3</th>\n",
       "      <td>Illinois</td>\n",
       "    </tr>\n",
       "    <tr>\n",
       "      <th>4</th>\n",
       "      <td>New York</td>\n",
       "    </tr>\n",
       "    <tr>\n",
       "      <th>5</th>\n",
       "      <td>Maryland</td>\n",
       "    </tr>\n",
       "  </tbody>\n",
       "</table>\n",
       "</div>"
      ],
      "text/plain": [
       "            0\n",
       "0  California\n",
       "1      Nevada\n",
       "2    Colorado\n",
       "3    Illinois\n",
       "4    New York\n",
       "5    Maryland"
      ]
     },
     "execution_count": 11,
     "metadata": {},
     "output_type": "execute_result"
    }
   ],
   "source": [
    "states_data"
   ]
  },
  {
   "cell_type": "markdown",
   "metadata": {},
   "source": [
    "You can see the row and column numbers, starting from 0 as expected. The power of pandas comes from beind able to give (and use) names to row and columns. To do this, we must supply a 'dictionary' instead of a list: "
   ]
  },
  {
   "cell_type": "code",
   "execution_count": 12,
   "metadata": {},
   "outputs": [],
   "source": [
    "my_dict = {'State':['California', 'Nevada', 'Colorado', 'Illinois',  'New York', 'Maryland']}"
   ]
  },
  {
   "cell_type": "markdown",
   "metadata": {},
   "source": [
    "Dictionaries are lists with 'headers' (the string 'State') in this case. Notice the colon and curly braces. Converting this dictionary to a data frame and viewing it gives:"
   ]
  },
  {
   "cell_type": "code",
   "execution_count": 13,
   "metadata": {},
   "outputs": [
    {
     "data": {
      "text/html": [
       "<div>\n",
       "<style scoped>\n",
       "    .dataframe tbody tr th:only-of-type {\n",
       "        vertical-align: middle;\n",
       "    }\n",
       "\n",
       "    .dataframe tbody tr th {\n",
       "        vertical-align: top;\n",
       "    }\n",
       "\n",
       "    .dataframe thead th {\n",
       "        text-align: right;\n",
       "    }\n",
       "</style>\n",
       "<table border=\"1\" class=\"dataframe\">\n",
       "  <thead>\n",
       "    <tr style=\"text-align: right;\">\n",
       "      <th></th>\n",
       "      <th>State</th>\n",
       "    </tr>\n",
       "  </thead>\n",
       "  <tbody>\n",
       "    <tr>\n",
       "      <th>0</th>\n",
       "      <td>California</td>\n",
       "    </tr>\n",
       "    <tr>\n",
       "      <th>1</th>\n",
       "      <td>Nevada</td>\n",
       "    </tr>\n",
       "    <tr>\n",
       "      <th>2</th>\n",
       "      <td>Colorado</td>\n",
       "    </tr>\n",
       "    <tr>\n",
       "      <th>3</th>\n",
       "      <td>Illinois</td>\n",
       "    </tr>\n",
       "    <tr>\n",
       "      <th>4</th>\n",
       "      <td>New York</td>\n",
       "    </tr>\n",
       "    <tr>\n",
       "      <th>5</th>\n",
       "      <td>Maryland</td>\n",
       "    </tr>\n",
       "  </tbody>\n",
       "</table>\n",
       "</div>"
      ],
      "text/plain": [
       "        State\n",
       "0  California\n",
       "1      Nevada\n",
       "2    Colorado\n",
       "3    Illinois\n",
       "4    New York\n",
       "5    Maryland"
      ]
     },
     "execution_count": 13,
     "metadata": {},
     "output_type": "execute_result"
    }
   ],
   "source": [
    "states_data= pd.DataFrame(my_dict) \n",
    "states_data"
   ]
  },
  {
   "cell_type": "markdown",
   "metadata": {},
   "source": [
    "That looks even more like an Excel table. Let's add more information, say the capital and the area of the state. this is easy in the dicionary format: simply separate each set of data with commas."
   ]
  },
  {
   "cell_type": "code",
   "execution_count": 14,
   "metadata": {},
   "outputs": [],
   "source": [
    "my_dict = {'State':['California', 'Nevada', 'Illinois', 'Colorado', 'New York', 'Maryland'],\n",
    "          'Capital':['Sacramento','Carson City','Springfield', 'Denver','Albany', 'Annapolis'],\n",
    "          'Area (in sq. miles)':[163696, 110567,57915,104185,54556,12407]}"
   ]
  },
  {
   "cell_type": "markdown",
   "metadata": {},
   "source": [
    "The last list (corresponding to area) is filled with integers, so we don't need quotes on each entry."
   ]
  },
  {
   "cell_type": "code",
   "execution_count": 15,
   "metadata": {},
   "outputs": [
    {
     "data": {
      "text/html": [
       "<div>\n",
       "<style scoped>\n",
       "    .dataframe tbody tr th:only-of-type {\n",
       "        vertical-align: middle;\n",
       "    }\n",
       "\n",
       "    .dataframe tbody tr th {\n",
       "        vertical-align: top;\n",
       "    }\n",
       "\n",
       "    .dataframe thead th {\n",
       "        text-align: right;\n",
       "    }\n",
       "</style>\n",
       "<table border=\"1\" class=\"dataframe\">\n",
       "  <thead>\n",
       "    <tr style=\"text-align: right;\">\n",
       "      <th></th>\n",
       "      <th>State</th>\n",
       "      <th>Capital</th>\n",
       "      <th>Area (in sq. miles)</th>\n",
       "    </tr>\n",
       "  </thead>\n",
       "  <tbody>\n",
       "    <tr>\n",
       "      <th>0</th>\n",
       "      <td>California</td>\n",
       "      <td>Sacramento</td>\n",
       "      <td>163696</td>\n",
       "    </tr>\n",
       "    <tr>\n",
       "      <th>1</th>\n",
       "      <td>Nevada</td>\n",
       "      <td>Carson City</td>\n",
       "      <td>110567</td>\n",
       "    </tr>\n",
       "    <tr>\n",
       "      <th>2</th>\n",
       "      <td>Illinois</td>\n",
       "      <td>Springfield</td>\n",
       "      <td>57915</td>\n",
       "    </tr>\n",
       "    <tr>\n",
       "      <th>3</th>\n",
       "      <td>Colorado</td>\n",
       "      <td>Denver</td>\n",
       "      <td>104185</td>\n",
       "    </tr>\n",
       "    <tr>\n",
       "      <th>4</th>\n",
       "      <td>New York</td>\n",
       "      <td>Albany</td>\n",
       "      <td>54556</td>\n",
       "    </tr>\n",
       "    <tr>\n",
       "      <th>5</th>\n",
       "      <td>Maryland</td>\n",
       "      <td>Annapolis</td>\n",
       "      <td>12407</td>\n",
       "    </tr>\n",
       "  </tbody>\n",
       "</table>\n",
       "</div>"
      ],
      "text/plain": [
       "        State      Capital  Area (in sq. miles)\n",
       "0  California   Sacramento               163696\n",
       "1      Nevada  Carson City               110567\n",
       "2    Illinois  Springfield                57915\n",
       "3    Colorado       Denver               104185\n",
       "4    New York       Albany                54556\n",
       "5    Maryland    Annapolis                12407"
      ]
     },
     "execution_count": 15,
     "metadata": {},
     "output_type": "execute_result"
    }
   ],
   "source": [
    "states_data= pd.DataFrame(my_dict) \n",
    "states_data"
   ]
  },
  {
   "cell_type": "markdown",
   "metadata": {},
   "source": [
    "You can see how panda data frames look better formatted than simple arrays. But the powers of panda go beyond looking nice. For example, you can view only the first 3 rows by calling `states_data[:3]`. Or do more complicated slices exactly like you would do with arrays. Try `states_data[:3]`. \n",
    "\n",
    "Note that 2D panda data frames only have one index, corresponding to the row number. Column indices are now replaced by the header, whihc makes accessing columns even easier. For example, you would slice just the capitals columns by saying:"
   ]
  },
  {
   "cell_type": "code",
   "execution_count": 16,
   "metadata": {},
   "outputs": [
    {
     "data": {
      "text/plain": [
       "0     Sacramento\n",
       "1    Carson City\n",
       "2    Springfield\n",
       "3         Denver\n",
       "4         Albany\n",
       "5      Annapolis\n",
       "Name: Capital, dtype: object"
      ]
     },
     "execution_count": 16,
     "metadata": {},
     "output_type": "execute_result"
    }
   ],
   "source": [
    "states_data['Capital']"
   ]
  },
  {
   "cell_type": "markdown",
   "metadata": {},
   "source": [
    "The output is still a data frame object, which means you can logically extract data directly from this. For example, we can easily select the states with an area under 55000 square miles using:"
   ]
  },
  {
   "cell_type": "code",
   "execution_count": 17,
   "metadata": {},
   "outputs": [
    {
     "data": {
      "text/html": [
       "<div>\n",
       "<style scoped>\n",
       "    .dataframe tbody tr th:only-of-type {\n",
       "        vertical-align: middle;\n",
       "    }\n",
       "\n",
       "    .dataframe tbody tr th {\n",
       "        vertical-align: top;\n",
       "    }\n",
       "\n",
       "    .dataframe thead th {\n",
       "        text-align: right;\n",
       "    }\n",
       "</style>\n",
       "<table border=\"1\" class=\"dataframe\">\n",
       "  <thead>\n",
       "    <tr style=\"text-align: right;\">\n",
       "      <th></th>\n",
       "      <th>State</th>\n",
       "      <th>Capital</th>\n",
       "      <th>Area (in sq. miles)</th>\n",
       "    </tr>\n",
       "  </thead>\n",
       "  <tbody>\n",
       "    <tr>\n",
       "      <th>4</th>\n",
       "      <td>New York</td>\n",
       "      <td>Albany</td>\n",
       "      <td>54556</td>\n",
       "    </tr>\n",
       "    <tr>\n",
       "      <th>5</th>\n",
       "      <td>Maryland</td>\n",
       "      <td>Annapolis</td>\n",
       "      <td>12407</td>\n",
       "    </tr>\n",
       "  </tbody>\n",
       "</table>\n",
       "</div>"
      ],
      "text/plain": [
       "      State    Capital  Area (in sq. miles)\n",
       "4  New York     Albany                54556\n",
       "5  Maryland  Annapolis                12407"
      ]
     },
     "execution_count": 17,
     "metadata": {},
     "output_type": "execute_result"
    }
   ],
   "source": [
    "states_data[states_data['Area (in sq. miles)']<55000]"
   ]
  },
  {
   "cell_type": "markdown",
   "metadata": {},
   "source": [
    "Make sure to use the exact string of the header. \n",
    "\n",
    "Pandas is even better with importing csv files directly into data frames. And there are many more manipulations once can do, to plot, sort and filter directly from within pandas. We will explore some of these options with a real FDA data set below.\n",
    "\n",
    "<a id='lipstick'></a>\n",
    "\n",
    "\n",
    "\n",
    "\n",
    "### Data science of lead in lipsticks\n",
    "\n",
    "The US Food and Drug Administration (FDA) conducted a detailed study of lead content in major lipsticks between 2009 and 2012 in an attempt to test the safety of products in the market. Details of the study and their data can be [viewed here](https://www.fda.gov/cosmetics/cosmetic-products/limiting-lead-lipstick-and-other-cosmetics#reference1). We will analyze some of the trends from the FDA data set, motivated by similar analyses by [Prof. Kristin Sainani at Stanford](https://youtu.be/nlKIT-_b2jU) and [Prof. Lorena Barba at George Washington University](https://github.com/engineersCode/EngComp). The latter link is a fantastic resource for interested readers to learn more advanced python data analysis.\n",
    "\n",
    "For our purposes, the data set is provided in the file FDA2012-lipstickdata.csv. First, try opening the file outside python to get a sense of the how the data is laid out. You will notice that there is a header row with titles like 'Brand' and 'Parent company'. If you were using NumPy's `loadtxt` to import this data, you would have to be careful to skip this row. And, the data types are different (mixture of strings, ints, and floats) which you would force you to import columns individually (see tutorial 2, practice problems 5 and 6). Something like `np.loadtxt(\"FDA2012-lipstickdata.csv\",delimiter=',',usecols=[3],skiprows=1)` would skip the header row and import only the third column.\n",
    "\n",
    "Instead, pandas takes care of all this directly! And even names the columns with the appropriate headers extracted from the csv file:"
   ]
  },
  {
   "cell_type": "code",
   "execution_count": 3,
   "metadata": {},
   "outputs": [
    {
     "data": {
      "text/html": [
       "<div>\n",
       "<style scoped>\n",
       "    .dataframe tbody tr th:only-of-type {\n",
       "        vertical-align: middle;\n",
       "    }\n",
       "\n",
       "    .dataframe tbody tr th {\n",
       "        vertical-align: top;\n",
       "    }\n",
       "\n",
       "    .dataframe thead th {\n",
       "        text-align: right;\n",
       "    }\n",
       "</style>\n",
       "<table border=\"1\" class=\"dataframe\">\n",
       "  <thead>\n",
       "    <tr style=\"text-align: right;\">\n",
       "      <th></th>\n",
       "      <th>Sample #</th>\n",
       "      <th>Brand</th>\n",
       "      <th>Parent company</th>\n",
       "      <th>Lead (ppm)</th>\n",
       "    </tr>\n",
       "  </thead>\n",
       "  <tbody>\n",
       "    <tr>\n",
       "      <th>0</th>\n",
       "      <td>1</td>\n",
       "      <td>Maybelline</td>\n",
       "      <td>L'Oreal USA</td>\n",
       "      <td>7.190</td>\n",
       "    </tr>\n",
       "    <tr>\n",
       "      <th>1</th>\n",
       "      <td>2</td>\n",
       "      <td>L'Oreal</td>\n",
       "      <td>L'Oreal USA</td>\n",
       "      <td>7.000</td>\n",
       "    </tr>\n",
       "    <tr>\n",
       "      <th>2</th>\n",
       "      <td>3</td>\n",
       "      <td>NARS</td>\n",
       "      <td>Shiseido</td>\n",
       "      <td>4.930</td>\n",
       "    </tr>\n",
       "    <tr>\n",
       "      <th>3</th>\n",
       "      <td>4</td>\n",
       "      <td>Cover Girl Queen</td>\n",
       "      <td>Procter &amp; Gamble</td>\n",
       "      <td>4.920</td>\n",
       "    </tr>\n",
       "    <tr>\n",
       "      <th>4</th>\n",
       "      <td>5</td>\n",
       "      <td>NARS</td>\n",
       "      <td>Shiseido</td>\n",
       "      <td>4.890</td>\n",
       "    </tr>\n",
       "    <tr>\n",
       "      <th>...</th>\n",
       "      <td>...</td>\n",
       "      <td>...</td>\n",
       "      <td>...</td>\n",
       "      <td>...</td>\n",
       "    </tr>\n",
       "    <tr>\n",
       "      <th>395</th>\n",
       "      <td>396</td>\n",
       "      <td>M.A.C</td>\n",
       "      <td>Estee Lauder</td>\n",
       "      <td>0.030</td>\n",
       "    </tr>\n",
       "    <tr>\n",
       "      <th>396</th>\n",
       "      <td>397</td>\n",
       "      <td>Lori Anne</td>\n",
       "      <td>Mood Magic</td>\n",
       "      <td>0.030</td>\n",
       "    </tr>\n",
       "    <tr>\n",
       "      <th>397</th>\n",
       "      <td>398</td>\n",
       "      <td>Clinique</td>\n",
       "      <td>Estee Lauder</td>\n",
       "      <td>0.026</td>\n",
       "    </tr>\n",
       "    <tr>\n",
       "      <th>398</th>\n",
       "      <td>399</td>\n",
       "      <td>L'Oreal</td>\n",
       "      <td>L'Oreal USA</td>\n",
       "      <td>0.026</td>\n",
       "    </tr>\n",
       "    <tr>\n",
       "      <th>399</th>\n",
       "      <td>400</td>\n",
       "      <td>Wet'n'Wild</td>\n",
       "      <td>Markwins International</td>\n",
       "      <td>0.026</td>\n",
       "    </tr>\n",
       "  </tbody>\n",
       "</table>\n",
       "<p>400 rows × 4 columns</p>\n",
       "</div>"
      ],
      "text/plain": [
       "     Sample #             Brand          Parent company  Lead (ppm)\n",
       "0           1        Maybelline             L'Oreal USA       7.190\n",
       "1           2           L'Oreal             L'Oreal USA       7.000\n",
       "2           3              NARS                Shiseido       4.930\n",
       "3           4  Cover Girl Queen        Procter & Gamble       4.920\n",
       "4           5              NARS                Shiseido       4.890\n",
       "..        ...               ...                     ...         ...\n",
       "395       396             M.A.C            Estee Lauder       0.030\n",
       "396       397         Lori Anne              Mood Magic       0.030\n",
       "397       398          Clinique            Estee Lauder       0.026\n",
       "398       399           L'Oreal             L'Oreal USA       0.026\n",
       "399       400        Wet'n'Wild  Markwins International       0.026\n",
       "\n",
       "[400 rows x 4 columns]"
      ]
     },
     "execution_count": 3,
     "metadata": {},
     "output_type": "execute_result"
    }
   ],
   "source": [
    "lead2012 = pd.read_csv(\"data/FDA2012-lipstickdata.csv\")\n",
    "lead2012"
   ]
  },
  {
   "cell_type": "markdown",
   "metadata": {},
   "source": [
    "You will see that there are 400 rows of data, and pandas has organized it with appropriate row headers etc. Like before, you can slice to view any subset of the rows: for example, try `lead2012[5:300:30]` to view every 30th entry between the 5th and 300th entry. \n",
    "\n",
    "Let's first see how many of each brand were studied. You can count number of repeated entries using the `values_counts` operation. It's easy if we first create a variable with data from just the 'Brand' column:"
   ]
  },
  {
   "cell_type": "code",
   "execution_count": 19,
   "metadata": {},
   "outputs": [
    {
     "name": "stdout",
     "output_type": "stream",
     "text": [
      "M.A.C                          41\n",
      "Clinique                       34\n",
      "Revlon                         33\n",
      "L'Oreal                        29\n",
      "Lancome                        25\n",
      "Mary Kay                       25\n",
      "Estee Lauder                   25\n",
      "Maybelline                     23\n",
      "Avon                           20\n",
      "Stargazer                      18\n",
      "Cover Girl                     14\n",
      "Chanel                         11\n",
      "Almay                           8\n",
      "Victoria's Secret               7\n",
      "Bobbi Brown                     7\n",
      "NARS                            6\n",
      "Cover Girl Queen Collection     6\n",
      "Elizabeth Arden                 6\n",
      "Iman Cosmetics                  6\n",
      "Clarins                         5\n",
      "BeneFit                         5\n",
      "Rimmel London                   5\n",
      "Fashion Fair                    5\n",
      "Estee Lauder Prescriptives      5\n",
      "Wet 'n' Wild                    4\n",
      "Burt's Bees                     4\n",
      "Estee Lauder Origins            4\n",
      "Shiseido                        3\n",
      "Dior                            3\n",
      "Sonia Kashuk                    2\n",
      "Gabriel                         2\n",
      "Lori Anne                       2\n",
      "Jafra                           2\n",
      "Colorganics                     2\n",
      "Wet'n'Wild                      1\n",
      "Cover Girl Queen                1\n",
      "M.A.C Dsquared2                 1\n",
      "Name: Brand, dtype: int64\n"
     ]
    }
   ],
   "source": [
    "# new variable with just Brand info\n",
    "brands=lead2012['Brand']\n",
    "\n",
    "# count repeated entries in this column\n",
    "brands_count=brands.value_counts()\n",
    "\n",
    "# display entry count\n",
    "print(brands_count)"
   ]
  },
  {
   "cell_type": "markdown",
   "metadata": {},
   "source": [
    "That's useful, but even better if we can visualize this. Pandas plots without explicitly using pyplot, but it's always a good idea to import pyplot so we have more control over the figure."
   ]
  },
  {
   "cell_type": "code",
   "execution_count": 20,
   "metadata": {},
   "outputs": [
    {
     "data": {
      "image/png": "[encoded data removed]",
      "text/plain": [
       "<Figure size 432x288 with 1 Axes>"
      ]
     },
     "metadata": {
      "needs_background": "light"
     },
     "output_type": "display_data"
    }
   ],
   "source": [
    "import matplotlib.pyplot as plt\n",
    "\n",
    "brands_count.plot.bar()\n",
    "plt.show()"
   ]
  },
  {
   "cell_type": "markdown",
   "metadata": {},
   "source": [
    "Pandas automatically picks the associated string as the x-labels! You can control the figure size by providing a `figsize` option: try `brands_count.plot.bar(figsize=(10,5))`. You can have horizontal bars instead: try `brands_count.plot.barh()`. And you can provide lavels to the axes and a title. Try it.\n",
    "\n",
    "Now let's play with the ppm measurements. Let's first look at the distribution of values that FDA recorded. Fort this, first create a new data object and then draw a histogram:"
   ]
  },
  {
   "cell_type": "code",
   "execution_count": 21,
   "metadata": {},
   "outputs": [
    {
     "data": {
      "image/png": "[encoded data removed]",
      "text/plain": [
       "<Figure size 432x288 with 1 Axes>"
      ]
     },
     "metadata": {
      "needs_background": "light"
     },
     "output_type": "display_data"
    }
   ],
   "source": [
    "# new variable containing only ppm info: use correct string header\n",
    "ppm=lead2012['Lead (ppm)']\n",
    "\n",
    "plt.hist(ppm,20,edgecolor='white')\n",
    "\n",
    "# making the plot look good\n",
    "plt.title('Distribution of lead in 400 lipstick samples')\n",
    "plt.xlabel('Lead concentation (in ppm)')\n",
    "plt.ylabel('# of cases')\n",
    "plt.show()"
   ]
  },
  {
   "cell_type": "markdown",
   "metadata": {},
   "source": [
    "Looks like a spread of values under 8 ppm, with the majority under 2 ppm. Try manipulating the number of bins in the `hist` command.\n",
    "\n",
    "\n",
    "Turns out all of these are within safety regulations set by FDA. However, let's say we wanted to see which ones had more than 4 ppm (this is not criticizing any brand, just pointing out what the FDA data shows!). With pandas, this is easy:"
   ]
  },
  {
   "cell_type": "code",
   "execution_count": 22,
   "metadata": {},
   "outputs": [
    {
     "data": {
      "text/html": [
       "<div>\n",
       "<style scoped>\n",
       "    .dataframe tbody tr th:only-of-type {\n",
       "        vertical-align: middle;\n",
       "    }\n",
       "\n",
       "    .dataframe tbody tr th {\n",
       "        vertical-align: top;\n",
       "    }\n",
       "\n",
       "    .dataframe thead th {\n",
       "        text-align: right;\n",
       "    }\n",
       "</style>\n",
       "<table border=\"1\" class=\"dataframe\">\n",
       "  <thead>\n",
       "    <tr style=\"text-align: right;\">\n",
       "      <th></th>\n",
       "      <th>Sample #</th>\n",
       "      <th>Brand</th>\n",
       "      <th>Parent company</th>\n",
       "      <th>Lead (ppm)</th>\n",
       "    </tr>\n",
       "  </thead>\n",
       "  <tbody>\n",
       "    <tr>\n",
       "      <th>0</th>\n",
       "      <td>1</td>\n",
       "      <td>Maybelline</td>\n",
       "      <td>L'Oreal USA</td>\n",
       "      <td>7.19</td>\n",
       "    </tr>\n",
       "    <tr>\n",
       "      <th>1</th>\n",
       "      <td>2</td>\n",
       "      <td>L'Oreal</td>\n",
       "      <td>L'Oreal USA</td>\n",
       "      <td>7.00</td>\n",
       "    </tr>\n",
       "    <tr>\n",
       "      <th>2</th>\n",
       "      <td>3</td>\n",
       "      <td>NARS</td>\n",
       "      <td>Shiseido</td>\n",
       "      <td>4.93</td>\n",
       "    </tr>\n",
       "    <tr>\n",
       "      <th>3</th>\n",
       "      <td>4</td>\n",
       "      <td>Cover Girl Queen</td>\n",
       "      <td>Procter &amp; Gamble</td>\n",
       "      <td>4.92</td>\n",
       "    </tr>\n",
       "    <tr>\n",
       "      <th>4</th>\n",
       "      <td>5</td>\n",
       "      <td>NARS</td>\n",
       "      <td>Shiseido</td>\n",
       "      <td>4.89</td>\n",
       "    </tr>\n",
       "    <tr>\n",
       "      <th>5</th>\n",
       "      <td>6</td>\n",
       "      <td>L'Oreal</td>\n",
       "      <td>L'Oreal USA</td>\n",
       "      <td>4.45</td>\n",
       "    </tr>\n",
       "    <tr>\n",
       "      <th>6</th>\n",
       "      <td>7</td>\n",
       "      <td>L'Oreal</td>\n",
       "      <td>L'Oreal USA</td>\n",
       "      <td>4.41</td>\n",
       "    </tr>\n",
       "    <tr>\n",
       "      <th>7</th>\n",
       "      <td>8</td>\n",
       "      <td>Cover Girl</td>\n",
       "      <td>Procter &amp; Gamble</td>\n",
       "      <td>4.28</td>\n",
       "    </tr>\n",
       "    <tr>\n",
       "      <th>8</th>\n",
       "      <td>9</td>\n",
       "      <td>Maybelline</td>\n",
       "      <td>L'Oreal USA</td>\n",
       "      <td>4.23</td>\n",
       "    </tr>\n",
       "    <tr>\n",
       "      <th>9</th>\n",
       "      <td>10</td>\n",
       "      <td>Stargazer</td>\n",
       "      <td>Stargazer</td>\n",
       "      <td>4.12</td>\n",
       "    </tr>\n",
       "    <tr>\n",
       "      <th>10</th>\n",
       "      <td>11</td>\n",
       "      <td>Stargazer</td>\n",
       "      <td>Stargazer</td>\n",
       "      <td>4.06</td>\n",
       "    </tr>\n",
       "  </tbody>\n",
       "</table>\n",
       "</div>"
      ],
      "text/plain": [
       "    Sample #             Brand    Parent company  Lead (ppm)\n",
       "0          1        Maybelline       L'Oreal USA        7.19\n",
       "1          2           L'Oreal       L'Oreal USA        7.00\n",
       "2          3              NARS          Shiseido        4.93\n",
       "3          4  Cover Girl Queen  Procter & Gamble        4.92\n",
       "4          5              NARS          Shiseido        4.89\n",
       "5          6           L'Oreal       L'Oreal USA        4.45\n",
       "6          7           L'Oreal       L'Oreal USA        4.41\n",
       "7          8        Cover Girl  Procter & Gamble        4.28\n",
       "8          9        Maybelline       L'Oreal USA        4.23\n",
       "9         10         Stargazer         Stargazer        4.12\n",
       "10        11         Stargazer         Stargazer        4.06"
      ]
     },
     "execution_count": 22,
     "metadata": {},
     "output_type": "execute_result"
    }
   ],
   "source": [
    "lead2012[ppm>4]"
   ]
  },
  {
   "cell_type": "markdown",
   "metadata": {},
   "source": [
    "You can arrange part of this information into a counted object and plot bar graphs to visualize the number of times each brand appears with ppm greater than 4:"
   ]
  },
  {
   "cell_type": "code",
   "execution_count": 23,
   "metadata": {},
   "outputs": [
    {
     "data": {
      "image/png": "[encoded data removed]",
      "text/plain": [
       "<Figure size 432x288 with 1 Axes>"
      ]
     },
     "metadata": {
      "needs_background": "light"
     },
     "output_type": "display_data"
    }
   ],
   "source": [
    "brands_above4=brands[ppm>4]\n",
    "brands_count_above4=brands_above4.value_counts()\n",
    "\n",
    "brands_count_above4.plot.barh()\n",
    "plt.xlabel('number of samples tested above 4 ppm')\n",
    "plt.show()"
   ]
  },
  {
   "cell_type": "markdown",
   "metadata": {},
   "source": [
    "These examples illustrate the user-friendliness and power of pandas. For our purposes, this overview is sufficient. For curious users, there are tons of free online tutorials with advanced data science example using python and pandas. If you have specific questions beyond this level, talk to me and I can provide additional material. "
   ]
  },
  {
   "cell_type": "markdown",
   "metadata": {},
   "source": [
    "\n",
    "<a id='exer'></a>\n",
    "\n",
    "\n",
    "\n",
    "### Practice Problems"
   ]
  },
  {
   "cell_type": "markdown",
   "metadata": {},
   "source": [
    "(1) Go back to the COVID-19 dataset from https://github.com/nytimes/covid-19-data (tutorial 2, problem 5). Extract and plot the same data as before, but now using `pandas`.\n",
    "\n",
    "Next, use `pandas` to create dataframes of the number of cases in all states on a certain day. Plot a horizontal bar grpah to show this. Pick another day and plot this data on top of the previous one to visualize the difference between these two days on the same figure."
   ]
  },
  {
   "cell_type": "code",
   "execution_count": null,
   "metadata": {},
   "outputs": [],
   "source": []
  }
 ],
 "metadata": {
  "kernelspec": {
   "display_name": "Python 3",
   "language": "python",
   "name": "python3"
  },
  "language_info": {
   "codemirror_mode": {
    "name": "ipython",
    "version": 3
   },
   "file_extension": ".py",
   "mimetype": "text/x-python",
   "name": "python",
   "nbconvert_exporter": "python",
   "pygments_lexer": "ipython3",
   "version": "3.7.6"
  }
 },
 "nbformat": 4,
 "nbformat_minor": 4
}
