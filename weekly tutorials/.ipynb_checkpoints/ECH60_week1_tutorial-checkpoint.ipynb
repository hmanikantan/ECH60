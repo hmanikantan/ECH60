{
 "cells": [
  {
   "cell_type": "markdown",
   "metadata": {},
   "source": [
    "# ECH 60 Spring 2020 week 1\n",
    "&copy; Harishankar Manikantan, Chemical Engineering, UC Davis "
   ]
  },
  {
   "cell_type": "markdown",
   "metadata": {},
   "source": [
    "**[(1.1) Variables and basic operations](#intro) (Monday)**\n",
    "* [Integers](#int)\n",
    "* [Floats](#float)\n",
    "* [Strings](#string)\n",
    "* [Tuples](#tuples)\n",
    "* [Lists](#lists)\n",
    "\n",
    "**[(1.2) Functions](#functions) (Wednesday) <br>**\n",
    "\n",
    "**[(1.3) Numpy](#numpy) (Wednesday) <br>**\n",
    "\n",
    "**[(1.4) Conditionals and Loops](#structure) (Friday) <br>**\n",
    "* [The IF condition](#if)\n",
    "* [The FOR and WHILE loops](#loops)\n",
    "\n",
    "\n",
    "**[Practice problems](#exer)**\n"
   ]
  },
  {
   "cell_type": "markdown",
   "metadata": {},
   "source": [
    "All code cells in Jupyter notebooks are editable. Single click on a code cell to select it, edit it, and hit `shift+enter` to execute that bit of code. For example, the following code cell evaluates the sum of two numbers when you execute it. Try it, type in any two numbers, see what happens. Play around with all editable code cells in these tutorials so you get comfortable. The more you practice, the faster you will get comfortable with coding and Python.\n",
    "\n",
    "\n"
   ]
  },
  {
   "cell_type": "code",
   "execution_count": 1,
   "metadata": {},
   "outputs": [
    {
     "data": {
      "text/plain": [
       "43"
      ]
     },
     "execution_count": 1,
     "metadata": {},
     "output_type": "execute_result"
    }
   ],
   "source": [
    "2+41"
   ]
  },
  {
   "cell_type": "markdown",
   "metadata": {},
   "source": [
    "You can edit the text cells like this one (called 'markdown cells') too: double click anywhere on this sentence to go to edit mode, then hit `shift+enter` to return to view mode. Try it. When you need to create your own Jupyter notevooks, you can toggle between markdown and code using the drop down in the menu above."
   ]
  },
  {
   "cell_type": "markdown",
   "metadata": {},
   "source": [
    "<a id='intro'></a>\n",
    "\n",
    "\n",
    "## (1.1) Variables, data types, basic operations\n",
    "\n",
    "All computer languages allow for data to be stored in named variables. It is important to understand the type of the stored data. The basic and most commonly used data types are:\n",
    "\n",
    "<a id='int'></a>\n",
    "\n",
    "\n",
    "### Integer \n",
    "any integer quantity. e.g. 2,-10,146, ...\n",
    "\n",
    "Try assigning an integer value to the variable `a` in the code cell below. Simply type `a=2` or `a=-10` or any other integer you wish and run it (hit `shift+enter`). To check if that assignment was successful, type `print(a)` or just `a` in the second code box and run it: Python will display the stored value. Try again. These values are stored in memory througout this notebook unless you redefine it."
   ]
  },
  {
   "cell_type": "code",
   "execution_count": 2,
   "metadata": {},
   "outputs": [],
   "source": [
    "# assign an integer to b\n",
    "a=-12 "
   ]
  },
  {
   "cell_type": "code",
   "execution_count": 3,
   "metadata": {},
   "outputs": [
    {
     "name": "stdout",
     "output_type": "stream",
     "text": [
      "-12\n"
     ]
    }
   ],
   "source": [
    "# show what value is stored in b\n",
    "print(a)"
   ]
  },
  {
   "cell_type": "markdown",
   "metadata": {},
   "source": [
    "Note: the `#` sign is useful to write comments in code. Comments are text that python does not read. It's good practice to comment your code so others know what's happening.\n",
    "\n",
    "An important difference in code as compared to normal mathematics is that `a=1` doesn't represent a statement of equality, but instead is a statement of assignment. What you're telling the computer is to evaluate the right-hand-side, and assign that value to the left hand side. This means that the equivalent mathematical statement `1=a` will give you an error in Python (and in most coding languages). Try it..."
   ]
  },
  {
   "cell_type": "code",
   "execution_count": null,
   "metadata": {},
   "outputs": [],
   "source": []
  },
  {
   "cell_type": "markdown",
   "metadata": {},
   "source": [
    "This also means that you can reassign numbers quite easily. For example, a common code line you will learn to use in the coming weeks is `a=a+1` which makes no sense mathematically. But, in code, this means that you evaluate the RHS using the previously stored value of the variable `a`, and then assign that as the new value of `a`. Try it ... (make sure you have run the very first code cell so `a` has an initial value. You would get an error otherwise. Try to force the error by typing `b=b+1` instead...)"
   ]
  },
  {
   "cell_type": "code",
   "execution_count": 4,
   "metadata": {},
   "outputs": [
    {
     "name": "stdout",
     "output_type": "stream",
     "text": [
      "-11\n"
     ]
    }
   ],
   "source": [
    "a = a + 1\n",
    "print(a)"
   ]
  },
  {
   "cell_type": "markdown",
   "metadata": {},
   "source": [
    "In fact, this line is so common in python that a shortcut usage is simply `a+ = 1`. Try this above ..."
   ]
  },
  {
   "cell_type": "markdown",
   "metadata": {},
   "source": [
    "<a id='float'></a>\n",
    "\n",
    "\n",
    "### Float \n",
    "'floating point' quantities or 'floats' indicate that a decimal point 'floats' somewhere in between the digits. This is probably the most common data type we will use to solve engineering problems. All real numbers are floats: 24.56, -11.7884, 146.0, ... etc. You could also define floats using the exponential notation with an `e`, which is just a convenineent way of saying shift the decimal places to the right or left. For example, the float 134.64 is equivalent to 1.3464e2, and 0.00078 is equivalent to 7.8e-4.\n",
    "\n",
    "Try assigning any float to `b`, and then see what `b` has stored. You can run both these lines of code at once."
   ]
  },
  {
   "cell_type": "code",
   "execution_count": 2,
   "metadata": {},
   "outputs": [
    {
     "name": "stdout",
     "output_type": "stream",
     "text": [
      "0.0124\n"
     ]
    }
   ],
   "source": [
    "# assign a float\n",
    "b=124e-4\n",
    "\n",
    "# then show what b is\n",
    "print(b)"
   ]
  },
  {
   "cell_type": "markdown",
   "metadata": {},
   "source": [
    "Python conveniently changes an integer to a float if necessary. For example, multiplying the integer `a` and the float `b` from before automatically makes the result a float. You can execute multiple lines of code at once."
   ]
  },
  {
   "cell_type": "code",
   "execution_count": 6,
   "metadata": {
    "scrolled": true
   },
   "outputs": [
    {
     "name": "stdout",
     "output_type": "stream",
     "text": [
      "69.14\n"
     ]
    }
   ],
   "source": [
    "# assign an integer\n",
    "a=2\n",
    "\n",
    "# assign a float\n",
    "b=34.57\n",
    "\n",
    "# multiply a and b and store answer in c\n",
    "c=a*b\n",
    "\n",
    "# display c\n",
    "print(c)"
   ]
  },
  {
   "cell_type": "markdown",
   "metadata": {},
   "source": [
    "You can also define floats using the `float()` command. In fact, you can do arithmetic inside the brackets of the `float()` command. Try various arithmetic operations here (`+` to add, `-` to subtract, `*` to multiply, and `/` to divide):"
   ]
  },
  {
   "cell_type": "code",
   "execution_count": 7,
   "metadata": {
    "scrolled": true
   },
   "outputs": [
    {
     "name": "stdout",
     "output_type": "stream",
     "text": [
      "-9.685248\n"
     ]
    }
   ],
   "source": [
    "# define and simultaneously display a float using the float() command\n",
    "print(float(-2.421312*4.0))"
   ]
  },
  {
   "cell_type": "markdown",
   "metadata": {},
   "source": [
    "To raise a number to a certain power, use `**`. So `2**3` should return 8. Try it..."
   ]
  },
  {
   "cell_type": "code",
   "execution_count": 8,
   "metadata": {},
   "outputs": [
    {
     "data": {
      "text/plain": [
       "32"
      ]
     },
     "execution_count": 8,
     "metadata": {},
     "output_type": "execute_result"
    }
   ],
   "source": [
    "2**5"
   ]
  },
  {
   "cell_type": "markdown",
   "metadata": {},
   "source": [
    "Finally, you can convert a float to an integer using the `int()` command. However, note that this simply removes everything to the right of the decimal place without correctly rounding the real number:"
   ]
  },
  {
   "cell_type": "code",
   "execution_count": 9,
   "metadata": {},
   "outputs": [
    {
     "name": "stdout",
     "output_type": "stream",
     "text": [
      "-19\n"
     ]
    }
   ],
   "source": [
    "print(int(-19.76))"
   ]
  },
  {
   "cell_type": "markdown",
   "metadata": {},
   "source": [
    "You can also define multiple variables in one line:"
   ]
  },
  {
   "cell_type": "code",
   "execution_count": 10,
   "metadata": {},
   "outputs": [],
   "source": [
    "a,b,c = 5, 13.87, -16"
   ]
  },
  {
   "cell_type": "markdown",
   "metadata": {},
   "source": [
    "<a id='string'></a>\n",
    "\n",
    "\n",
    "\n",
    "### String\n",
    "\n",
    "A string is a set of characters, like a name or a word or numbers or some combination that you want to store as it is. Use quotes to define strings:"
   ]
  },
  {
   "cell_type": "code",
   "execution_count": 11,
   "metadata": {},
   "outputs": [],
   "source": [
    "str_1='Davis'\n",
    "str_2='California'\n",
    "str_3='95616'"
   ]
  },
  {
   "cell_type": "markdown",
   "metadata": {},
   "source": [
    "You can perform string operations such as concatanation (fancy word for 'adding' words or text) or display additional text along with variables as follows:"
   ]
  },
  {
   "cell_type": "code",
   "execution_count": 12,
   "metadata": {},
   "outputs": [
    {
     "name": "stdout",
     "output_type": "stream",
     "text": [
      "Davis California ZIP 95616\n"
     ]
    }
   ],
   "source": [
    "# save str_1 followed by space followed by str_2 to str_4\n",
    "str_4=str_1+' '+str_2\n",
    "\n",
    "# show str_4 followed by the word ZIP followed by str_3\n",
    "print(str_4+' ZIP '+str_3)"
   ]
  },
  {
   "cell_type": "markdown",
   "metadata": {},
   "source": [
    "You can also select or manipulate parts of a string. Always remember that Python starts counting from 0, not 1. So the variable `str_1` has index numbers 0, 1, 2, 3, and 4 corresponding to D, a, v, i, and s. So `str_1[0]` should give D, and `str_1[3]` should give i, and so on. You can select a sequence of characters from a string by providing the range. Here, note that Python syntax is such that `str_1[m:n]` includes characters from index m until but not including index n. Try this out with `str_1` and `str_2` so you get comfortable."
   ]
  },
  {
   "cell_type": "code",
   "execution_count": 13,
   "metadata": {},
   "outputs": [
    {
     "name": "stdout",
     "output_type": "stream",
     "text": [
      "fo\n"
     ]
    }
   ],
   "source": [
    "# slice str_2 from index number 4 (included) to index number 6 (not included)\n",
    "print(str_2[4:6])"
   ]
  },
  {
   "cell_type": "markdown",
   "metadata": {},
   "source": [
    "<a id='tuples'></a>\n",
    "\n",
    "\n",
    "### Tuples \n",
    "\n",
    "Tuples are sequences of different kinds of data. Tuples are pretty handy in some contexts and database management, where you might have numeric data mixed with string data. Tuple are defined with the format `tuplename=('data1', 'data2', ...)`. Note the use of brackets and quotes. For example, my office is in room 3114 in Bainer, and I could store this information as "
   ]
  },
  {
   "cell_type": "code",
   "execution_count": 14,
   "metadata": {
    "scrolled": true
   },
   "outputs": [],
   "source": [
    "# create a tuple names office with a sequence of a string, an integer, and another string\n",
    "office=('Bainer',3114,'UC Davis')"
   ]
  },
  {
   "cell_type": "markdown",
   "metadata": {},
   "source": [
    "The benefit of tuples is that you can then access individual items as `variable1, variable2, ... = tuplename`, or equivalently using `tuplename[index in sequence starting from 0]`. For example:"
   ]
  },
  {
   "cell_type": "code",
   "execution_count": 15,
   "metadata": {},
   "outputs": [
    {
     "name": "stdout",
     "output_type": "stream",
     "text": [
      "My office is in Bainer hall in UC Davis\n"
     ]
    }
   ],
   "source": [
    "# assign the three elements to new variables named building, room, and location\n",
    "building, room, location = office\n",
    "\n",
    "# display room number as part of a sentence\n",
    "#print('My office room number is:',room)\n",
    "\n",
    "# use index to retrieve data\n",
    "print('My office is in',office[0],'hall in', office[2])"
   ]
  },
  {
   "cell_type": "markdown",
   "metadata": {},
   "source": [
    "Not the use of commas between data and text. You would get an error if you ignore the commas. Try it.\n",
    "\n",
    "\n",
    "You can create a tuple within a tuple within a tuple and so on .... an inception of tuples!! It's all about the ordering of the brackets and the commas. For example:"
   ]
  },
  {
   "cell_type": "code",
   "execution_count": 16,
   "metadata": {},
   "outputs": [],
   "source": [
    "birth_data=(('Albert','Einstein',('March',14,1879)),('Marie','Curie',('November',7,1867)))"
   ]
  },
  {
   "cell_type": "markdown",
   "metadata": {},
   "source": [
    "creates a tuple of two sub-tuples. Each sub-tuple contains a sequence of a string (first name), another string (last name), and a sub-sub-tuple containing a string (birth month), an integer (birth day) and another integer (birth year). So `birth_data[0]` refers to the subtuple with Einstein's data, `birth_data[0][2]` refers to the subsubtuple with Einstein's full birthday, and `birth_data[0][2][2]` gives Einstein's birth year. Always remember Python starts counting indices at 0, not 1.\n",
    "\n",
    "From this, you could extract and display things like:"
   ]
  },
  {
   "cell_type": "code",
   "execution_count": 17,
   "metadata": {},
   "outputs": [
    {
     "name": "stdout",
     "output_type": "stream",
     "text": [
      "Einstein was born 12 years after Curie\n"
     ]
    }
   ],
   "source": [
    "print(birth_data[0][1],'was born',birth_data[0][2][2]-birth_data[1][2][2], 'years after', birth_data[1][1])"
   ]
  },
  {
   "cell_type": "markdown",
   "metadata": {},
   "source": [
    "Change the birth_data tuple to include a third person's information, and play around with displaying sentences like the example above by modiying the code. Remember to hit `shift+enter` after each update of a code cell.\n",
    "\n",
    "<a id='lists'></a>\n",
    "\n",
    "\n",
    "\n",
    "### Lists\n",
    "\n",
    "Lists are like tuples but are mutable, meaning they can be edited, appended, and data can be added or deleted from within the list. A tuple on the other hand is immutable. The difference in the definition of a list is the use of a square bracket:"
   ]
  },
  {
   "cell_type": "code",
   "execution_count": 18,
   "metadata": {},
   "outputs": [
    {
     "name": "stdout",
     "output_type": "stream",
     "text": [
      "a is [0, -1, 3, 8, 9]\n",
      "b is []\n",
      "a repeated three times is [0, -1, 3, 8, 9, 0, -1, 3, 8, 9, 0, -1, 3, 8, 9]\n"
     ]
    }
   ],
   "source": [
    "# list of five integers\n",
    "a = [0, -1, 3, 8, 9]\n",
    "print('a is',a) \n",
    "\n",
    "# empty list\n",
    "b = []\n",
    "print('b is',b)\n",
    "\n",
    "# repeated list\n",
    "print('a repeated three times is',3*a)"
   ]
  },
  {
   "cell_type": "markdown",
   "metadata": {},
   "source": [
    "You can access the 3rd value of `a` using `a[2]` (python starts counting from 0), or the first from the end using `a[-1]`. What about `a[-2]`? Try various index calls below:"
   ]
  },
  {
   "cell_type": "code",
   "execution_count": 19,
   "metadata": {
    "scrolled": true
   },
   "outputs": [
    {
     "data": {
      "text/plain": [
       "3"
      ]
     },
     "execution_count": 19,
     "metadata": {},
     "output_type": "execute_result"
    }
   ],
   "source": [
    "a[2]"
   ]
  },
  {
   "cell_type": "markdown",
   "metadata": {},
   "source": [
    "We will learn about more complicated and useful 'slicing' techniques next week.\n",
    "\n",
    "Now we can manipulate the list names address using\n",
    "\n",
    "`listname.insert(position,data to insert)` to insert at a specific point OR\n",
    "\n",
    "`listname.append(data to insert)` to append at the end OR\n",
    "\n",
    "`listname[position]=[new data]` to replace data at specific location(s)\n",
    "\n",
    "This 'dot notation' is fairly common in Python and we will see a lot more of it. Try the following and change location and data type to get a sense of the manipulations:"
   ]
  },
  {
   "cell_type": "code",
   "execution_count": 20,
   "metadata": {},
   "outputs": [
    {
     "name": "stdout",
     "output_type": "stream",
     "text": [
      "original list: ['davis', 95616]\n",
      "modified list: ['davis', 'CA', 95616]\n"
     ]
    }
   ],
   "source": [
    "# define a list\n",
    "address = ['davis', 95616]\n",
    "print('original list:',address)\n",
    "\n",
    "# insert at position 1\n",
    "address.insert(1,'CA')\n",
    "print('modified list:',address)"
   ]
  },
  {
   "cell_type": "code",
   "execution_count": 21,
   "metadata": {},
   "outputs": [
    {
     "name": "stdout",
     "output_type": "stream",
     "text": [
      "original list: ['davis', 95616]\n",
      "modified list: ['davis', 95616, 'USA']\n"
     ]
    }
   ],
   "source": [
    "# define a list\n",
    "address = ['davis', 95616]\n",
    "print('original list:',address)\n",
    "\n",
    "# append to end\n",
    "address.append('USA')\n",
    "print('modified list:',address)"
   ]
  },
  {
   "cell_type": "code",
   "execution_count": 22,
   "metadata": {
    "scrolled": true
   },
   "outputs": [
    {
     "name": "stdout",
     "output_type": "stream",
     "text": [
      "original list: ['davis', 95616]\n",
      "modified list: ['Davis', 'CA', 95616]\n"
     ]
    }
   ],
   "source": [
    "# define a list\n",
    "address = ['davis', 95616]\n",
    "print('original list:',address)\n",
    "\n",
    "# modify specific index range\n",
    "address[0:1]=['Davis', 'CA']\n",
    "print('modified list:',address)"
   ]
  },
  {
   "cell_type": "markdown",
   "metadata": {},
   "source": [
    "<a id='functions'></a>\n",
    "\n",
    "\n",
    "\n",
    "\n",
    "## (1.2) Functions\n",
    "\n",
    "Functions are handy snippets of code you can create to do a short set of calculations for you. In python, functions are coded as follows:"
   ]
  },
  {
   "cell_type": "code",
   "execution_count": 23,
   "metadata": {},
   "outputs": [],
   "source": [
    "def trianglearea(base,height): # base and height are input variables\n",
    "    area=0.5*base*height # do calculations using input variable\n",
    "    return area # return the variable named area"
   ]
  },
  {
   "cell_type": "markdown",
   "metadata": {},
   "source": [
    "The colon after the first line is important. So is the indent of one tab space for every line of code that belongs to that function.\n",
    "\n",
    "Once you have run this code, the function `trianglearea` can be called at any point with the input parameters in the same order, and it will give you the area as the result:"
   ]
  },
  {
   "cell_type": "code",
   "execution_count": 24,
   "metadata": {},
   "outputs": [
    {
     "name": "stdout",
     "output_type": "stream",
     "text": [
      "30.0\n"
     ]
    }
   ],
   "source": [
    "a=trianglearea(6,10)\n",
    "print(a)"
   ]
  },
  {
   "cell_type": "markdown",
   "metadata": {},
   "source": [
    "A function can contain multiple lines of calculations. And it can return multiple variables. For example, a useful common calculation in engineering is going back and forth between the temperature units of Celsius, Fahrenheit, and Kelvin. The following function is written such that an input in F is converted to both C and K:"
   ]
  },
  {
   "cell_type": "code",
   "execution_count": 25,
   "metadata": {},
   "outputs": [],
   "source": [
    "def FtoCandK(fahr):\n",
    "    cels=(fahr-32)*5/9\n",
    "    kelv=cels+273\n",
    "    return cels,kelv"
   ]
  },
  {
   "cell_type": "markdown",
   "metadata": {},
   "source": [
    "Note that `FtoCandK` as written has two return varibles, and so calling it gives two outputs:"
   ]
  },
  {
   "cell_type": "code",
   "execution_count": 26,
   "metadata": {},
   "outputs": [
    {
     "name": "stdout",
     "output_type": "stream",
     "text": [
      "(37.77777777777778, 310.77777777777777)\n"
     ]
    }
   ],
   "source": [
    "print(FtoCandK(100))"
   ]
  },
  {
   "cell_type": "markdown",
   "metadata": {},
   "source": [
    "You can even directly assign the two to different variables when you call the function:"
   ]
  },
  {
   "cell_type": "code",
   "execution_count": 27,
   "metadata": {},
   "outputs": [
    {
     "name": "stdout",
     "output_type": "stream",
     "text": [
      "21.11111111111111\n",
      "294.1111111111111\n"
     ]
    }
   ],
   "source": [
    "tempC, tempK = FtoCandK(70)\n",
    "print(tempC)\n",
    "print(tempK)"
   ]
  },
  {
   "cell_type": "markdown",
   "metadata": {},
   "source": [
    "Another shortcut version of functions are 'lambda' functions. These are best-suited for single-line short functions, and follows the format: `functionname = lambda input:calculation`."
   ]
  },
  {
   "cell_type": "code",
   "execution_count": 28,
   "metadata": {},
   "outputs": [
    {
     "data": {
      "text/plain": [
       "36.0"
      ]
     },
     "execution_count": 28,
     "metadata": {},
     "output_type": "execute_result"
    }
   ],
   "source": [
    "FtoC = lambda fahr:(fahr-32)*5/9\n",
    "\n",
    "FtoC(96.8)"
   ]
  },
  {
   "cell_type": "markdown",
   "metadata": {},
   "source": [
    "The input can be several variables separated by commas."
   ]
  },
  {
   "cell_type": "markdown",
   "metadata": {},
   "source": [
    "<a id='numpy'></a>\n",
    "\n",
    "\n",
    "## (1.3) Numbers and Math: numpy\n",
    "\n",
    "We have seen so far that python has the basic arithmetic operation (addition,subtraction, multiplication, division, power). For most involved problems, we will need much more than that. Through this quarter, we will learn to work with matrices and vectors, trigonometric functions, exponentials and more specialized operations.\n",
    "\n",
    "Python has a large community of developers who have created and perfected entire 'libraries' of these useful functions organized into 'modules'. To use any such module, we import them using the command `import modulename`. One of the most common modules is `numpy`, short for NUMerical PYthon. Import it by running (`shift+enter`) the following:"
   ]
  },
  {
   "cell_type": "code",
   "execution_count": 29,
   "metadata": {},
   "outputs": [],
   "source": [
    "import numpy"
   ]
  },
  {
   "cell_type": "markdown",
   "metadata": {},
   "source": [
    "You will then have access to all the functions in the `numpy` module (there are 100s of common math operations and functions in numpy. You can get a full list by running `dir(numpy)` after importing it). Common ones include `sqrt`, `exp`,`log`,`log10`,`sin` (and all trigs), `arcsin` (and all inverse trigs), irrational numbers like $\\pi$ (as `pi`) and $e$ (as `exp`), and many more common mathematical operations. After importing `numpy`, try evaluating the square root of 2 by typing `sqrt(2)` here..."
   ]
  },
  {
   "cell_type": "code",
   "execution_count": null,
   "metadata": {},
   "outputs": [],
   "source": []
  },
  {
   "cell_type": "markdown",
   "metadata": {},
   "source": [
    "You should see an error saying sqrt is not defined! That's because the `sqrt` function 'belongs' to the imported numpy module, and the correct way to tell python that is `numpy.sqrt(2)`. Try this above...\n",
    "\n",
    "This is an important theme across python. Dots represent a connection between the module or variable to the left and a subfunction or a property to the right.\n",
    "\n",
    "You can avoid having to use a rather length `numpy.sqrt(2)` everytime by specifically importing the `sqrt` function from `numpy` as follows, so you can simply use `sqrt(2)` etc..."
   ]
  },
  {
   "cell_type": "code",
   "execution_count": 30,
   "metadata": {},
   "outputs": [
    {
     "data": {
      "text/plain": [
       "1.4142135623730951"
      ]
     },
     "execution_count": 30,
     "metadata": {},
     "output_type": "execute_result"
    }
   ],
   "source": [
    "from numpy import sqrt\n",
    "sqrt(2)"
   ]
  },
  {
   "cell_type": "markdown",
   "metadata": {},
   "source": [
    "But then if you need another operation, like the exponential (using the `numpy` function `exp`), you need to import that separately using `from numpy import exp`, and so on. Or, you could import all functions from `numpy` in one go by running `from numpy import *`. The asterisk is a 'wildcard' which means import everything.\n",
    "\n",
    "While this last form of importing a module seems convenient, things can get confusing as you advance in python if two different modules have functions that are identically named. The compromise, and the accepted standard among most python users, is to give `numpy` (or any module that you import) a nickname. A common nickname for `numpy` is `np`, so the import line as subsequent usage would be"
   ]
  },
  {
   "cell_type": "code",
   "execution_count": 31,
   "metadata": {},
   "outputs": [
    {
     "data": {
      "text/plain": [
       "[1.4142135623730951,\n",
       " 22026.465794806718,\n",
       " 3.091042453358316,\n",
       " 1.3424226808222062,\n",
       " 3.141592653589793]"
      ]
     },
     "execution_count": 31,
     "metadata": {},
     "output_type": "execute_result"
    }
   ],
   "source": [
    "import numpy as np\n",
    "[np.sqrt(2),\n",
    "np.exp(10),\n",
    "np.log(22),\n",
    "np.log10(22),\n",
    "np.pi]"
   ]
  },
  {
   "cell_type": "markdown",
   "metadata": {},
   "source": [
    "This nickname can be useful when the module (or submodule) name is rather long. For example, another common module that we will encounter next week is `matplotlib.pyplot` which is commonly abbreviated to `plt` in the import line.\n",
    "\n",
    "Finally, you can read the help text associated with any python command by typing `help(print)` or `help(import)` etc. For module specific help file, type `numpy.info(numpy.sin)` etc.\n",
    "\n",
    "We can now create more complicated functions. The following mathematical function\n",
    "$$f(x)=\\cos\\left(\\frac{e^{-x}-1}{x-1} \\right)$$ becomes the following python code:"
   ]
  },
  {
   "cell_type": "code",
   "execution_count": 32,
   "metadata": {},
   "outputs": [],
   "source": [
    "import numpy as np\n",
    "\n",
    "def myfunc(x):\n",
    "    f=np.exp(-x)-1\n",
    "    f=f/(x-1)\n",
    "    f=np.cos(f)\n",
    "    return f"
   ]
  },
  {
   "cell_type": "markdown",
   "metadata": {},
   "source": [
    "Note that python first evaluates the RHS and then assigns that result to the LHS when we run the line `f=f/(x-1)`. This lines looks mathematically inconsistent (in math, we would cancel the `f` on both side!!), but is perfectly sensible in code. And the same thing again in the third line inside the function: python first evaluates the cosine using the current value of `f` on the RHS, and then assigns or rewrites `f` on the LHS with the new value.\n",
    "\n",
    "Evaluating `myfunc` now gives us the value of $f(x)$ for any $x$..."
   ]
  },
  {
   "cell_type": "code",
   "execution_count": 33,
   "metadata": {},
   "outputs": [
    {
     "data": {
      "text/plain": [
       "0.6488952617067709"
      ]
     },
     "execution_count": 33,
     "metadata": {},
     "output_type": "execute_result"
    }
   ],
   "source": [
    "myfunc(2)"
   ]
  },
  {
   "cell_type": "markdown",
   "metadata": {},
   "source": [
    "<a id='structure'></a>\n",
    "\n",
    "\n",
    "## (1.4) Conditionals and Loops"
   ]
  },
  {
   "cell_type": "markdown",
   "metadata": {},
   "source": [
    "So far, we have seen how to define or assign variables (numbers, strings, tuples, ...) and functions. The real power of coding lies in its ability quickly manipulate these quantities algorithmic logic and automation. We will start with the essential building blocks of algorithm development: the `if` condition and the `for` and `while` loops.\n",
    "\n",
    "<a id='if'></a>\n",
    "\n",
    "\n",
    "\n",
    "### The `if` statement\n",
    "\n",
    "The `if` statement and its variants are ubiquitous across every programming language, and helps you design logical algorithmic 'branches'. For example, this snippet of code checks the value of the variable named `cost`, and creates two 'branches' depending on the value of `cost` and `cash`:"
   ]
  },
  {
   "cell_type": "code",
   "execution_count": 34,
   "metadata": {},
   "outputs": [
    {
     "name": "stdout",
     "output_type": "stream",
     "text": [
      "You may buy this burrito\n"
     ]
    }
   ],
   "source": [
    "cost = 7\n",
    "cash = 10\n",
    "if cost <= cash:\n",
    "    print('You may buy this burrito')\n",
    "else: \n",
    "    print('Sorry, you need more cash')"
   ]
  },
  {
   "cell_type": "markdown",
   "metadata": {},
   "source": [
    "Try running the above code for different values of `cost` and `cash` variables. \n",
    "\n",
    "The syntax of the `if` statement is as follows: the `if` is followed by a 'conditional' or a logic operation (\"Is the cost less than or equal to cash?\"). If the answer is YES (or TRUE, in logic terminology), then that branch is executed and we get a burrito. If the answer is NO (or FALSE), then the other branch corresponding to the `else` line is executed. Note the colon after the `if` and `else` lines. Also, we don't need to have an `else` statement if you don't need that second branch: a code with just the `if` branch will work just fine.\n",
    "\n",
    "You can make more branches with more carefull logical comparisons. For example:"
   ]
  },
  {
   "cell_type": "code",
   "execution_count": 35,
   "metadata": {},
   "outputs": [
    {
     "name": "stdout",
     "output_type": "stream",
     "text": [
      "You may buy this burrito and you get back 4 dollars\n"
     ]
    }
   ],
   "source": [
    "cost = 6\n",
    "cash = 10\n",
    "if cost < cash:\n",
    "    change = cash - cost\n",
    "    print('You may buy this burrito and you get back', change, 'dollars')\n",
    "elif cost == cash: \n",
    "    print('You have exact change!')\n",
    "else:\n",
    "    print('Sorry, you need more cash')"
   ]
  },
  {
   "cell_type": "markdown",
   "metadata": {},
   "source": [
    "Here, we have introduced an `elif` line. So python first checks the first `if` (\"is cost less than cash?\") an executes is if TRUE. Only if that line is FALSE does python check the `elif` line (\"is cost exactly equal to cash\"). And only if both `if` and `elif` are false will the else be executed. You can have multiple `elif` branches for more involved comparisons.\n",
    "\n",
    "The order is important. Which means a `<=` comparison in `if` above would never run the `elif` case. Try it. Rationalize why that is the case.\n",
    "\n",
    "Importantly, note that the 'equal to' comparison is `==`. This is a common thing to get wrong for first-time coders: a simple `=` is an assignment, meaning python takes the RHS and rights that to the LHS. A logical comparison like `if` or `elif` is NOT an _assigment_ but a _comparison_ , and the way to let python know this is by using the `==`.\n",
    "\n",
    "A common comparison is 'not equal to', given by `!=`. So `if cost != 7:` would only be true if `cost` is any value but `7`. \n",
    "\n",
    "Another useful comparison operator is 'divisible by', written as `%`. So `if cost %2 == 0:` would be true only for even numbers.\n",
    "\n"
   ]
  },
  {
   "cell_type": "markdown",
   "metadata": {},
   "source": [
    "<a id='loops'></a>\n",
    "\n",
    "\n",
    "\n",
    "### The `for` and `while` loops\n",
    "\n",
    "Automation is the best part of coding, and loops are the simplest form of repeating a set of operations as desired. The `for` loops simply repeats a set of code for the conditions that are specified after the `for` statement. Let's say you wanted the square root of odd integers from 1 to 10."
   ]
  },
  {
   "cell_type": "code",
   "execution_count": 36,
   "metadata": {},
   "outputs": [
    {
     "name": "stdout",
     "output_type": "stream",
     "text": [
      "square root of 1 is 1.0\n",
      "square root of 3 is 1.7320508075688772\n",
      "square root of 5 is 2.23606797749979\n",
      "square root of 7 is 2.6457513110645907\n",
      "square root of 9 is 3.0\n"
     ]
    }
   ],
   "source": [
    "import numpy as np\n",
    "\n",
    "for i in range(1,11,2):\n",
    "    print('square root of', i,'is',np.sqrt(i))"
   ]
  },
  {
   "cell_type": "markdown",
   "metadata": {},
   "source": [
    "Here, `range(start,end+1,step)` is an in-built python function that returns values of the 'loop index' variable `i`. Range can handle integer start, end, and step sizes. In the above example, 1 is included, 11 is not included, and the step size is 2. So the values of `i` that run the loop are 1,3,5,7,9. How would you do even numbers between 0 and 10? Try it above...\n",
    "\n",
    "What if you needed non-integers to run the loops. Then you use `np.arange` instead. Same logic. Try this to generate square roots of 1, 1.2, 1.4, ..., 4.6, 4.8, 5 in the code above.\n",
    "\n",
    "You can format the output to make it look neat. Let's say we want ot only show the first two decimal places in the output. Try using `print('square root of', i,'is %4.2f' % np.sqrt(i))` instead of the print line above. This `%` sign tells python that the `np.sqrt(i)` output should be foramtted as a float (that's the f) that's 4 characters wide (including the decimal point) with 2 characters after the point. Try combinations like `%6.2f` or `%4.3f` etc.\n",
    "\n",
    "Periodic reminder that blocks of code (for functions, conditionals, loops, ...) all are defined by the indentation. And the colon after the first line. Be very careful to use this format.\n",
    "\n",
    "What if you need to run a loop but do not know at the beginning of the code how many loops may be required? In other words, what if you didn't know the 'end-point' of `i` above. For instance, let's say for whatever reason that I want to determine square roots of integers until the square root value is 3.6. The `while` loop is better suited for this"
   ]
  },
  {
   "cell_type": "code",
   "execution_count": 37,
   "metadata": {},
   "outputs": [
    {
     "name": "stdout",
     "output_type": "stream",
     "text": [
      "square root of 1 is 1.0\n",
      "square root of 2 is 1.4142135623730951\n",
      "square root of 3 is 1.7320508075688772\n",
      "square root of 4 is 2.0\n",
      "square root of 5 is 2.23606797749979\n",
      "square root of 6 is 2.449489742783178\n",
      "square root of 7 is 2.6457513110645907\n",
      "square root of 8 is 2.8284271247461903\n",
      "square root of 9 is 3.0\n",
      "square root of 10 is 3.1622776601683795\n",
      "square root of 11 is 3.3166247903554\n",
      "square root of 12 is 3.4641016151377544\n"
     ]
    }
   ],
   "source": [
    "i=1\n",
    "while(np.sqrt(i) <= 3.6):\n",
    "    print('square root of', i,'is', np.sqrt(i))\n",
    "    i+=1"
   ]
  },
  {
   "cell_type": "markdown",
   "metadata": {},
   "source": [
    "We couldn't have done it this easily with a `for` loop because we didn't know when we started that we needed to get to `i=12` before we meet our condition. The `while` loop runs until that condition is not satistied.\n",
    "\n",
    "On the flip side, the `while` loop does not increment automatically like the `for` loop: notice how we need to explicitly use `i+=1` (short hand for `i=i+1`) within the `while`. This also means that we must 'initialize' the value of `i` before entering the loop because otherwise python would know what `i` is the first time around.\n",
    "\n",
    "As you begin writing code, be wary of 'infinite loops'. If the conditions you wrote are always true, the loop could go on for ever. In such cases, hit `Ctrl+C` to terminate your code and reexamine what went wrong.\n",
    "\n",
    "Finally, you can you shorthand versions of `for` with the `range` function to create lists (remember the square brackets) of numbers easily:"
   ]
  },
  {
   "cell_type": "code",
   "execution_count": 38,
   "metadata": {},
   "outputs": [
    {
     "data": {
      "text/plain": [
       "[0, 1, 2, 3, 4, 5, 6, 7, 8, 9]"
      ]
     },
     "execution_count": 38,
     "metadata": {},
     "output_type": "execute_result"
    }
   ],
   "source": [
    "[i for i in range(0,10)]"
   ]
  },
  {
   "cell_type": "markdown",
   "metadata": {},
   "source": [
    "You can even bring in `if` conditions in this form to create more specific lists. E.g. a list of the squares of odd numbers between 0 and 30:"
   ]
  },
  {
   "cell_type": "code",
   "execution_count": 39,
   "metadata": {},
   "outputs": [
    {
     "data": {
      "text/plain": [
       "[1, 9, 25, 49, 81, 121, 169, 225, 289, 361, 441, 529, 625, 729, 841]"
      ]
     },
     "execution_count": 39,
     "metadata": {},
     "output_type": "execute_result"
    }
   ],
   "source": [
    "[x**2 for x in range(0,30) if x%2 != 0]"
   ]
  },
  {
   "cell_type": "markdown",
   "metadata": {},
   "source": [
    "Almost all solutions you will develop in this course will involve inserting `if` and related statements into loops, or having both conditionals and loops in functions. As an example, consider the Fibonacci series that appears in a variety of natural patterns (flower petal arrangements, pineapple patterns, artichoke petals, .... look it up). Each new number in the series is the sum of the last two (starts as 0,1,1,2,3,..). Algorithmically, if we call `a` and `b` as the previous and current numbers, then the new number is `c=b+a`. A quick way of getting the first 10 numbers is, without even introducing a new variable `c`, is:"
   ]
  },
  {
   "cell_type": "code",
   "execution_count": 40,
   "metadata": {},
   "outputs": [
    {
     "name": "stdout",
     "output_type": "stream",
     "text": [
      "0\n",
      "1\n",
      "1\n",
      "2\n",
      "3\n",
      "5\n",
      "8\n",
      "13\n",
      "21\n",
      "34\n"
     ]
    }
   ],
   "source": [
    "a=0\n",
    "b=1\n",
    "print(a)\n",
    "print(b)\n",
    "for i in range(3,10+1):\n",
    "    b+=a\n",
    "    a=b-a\n",
    "    print(b)"
   ]
  },
  {
   "cell_type": "markdown",
   "metadata": {},
   "source": [
    "Think about the logic behind the `b+=a` and `a=b-a` lines. There are many ways to do this calculation. Can you think of others?\n",
    "\n",
    "Now, if I wanted a function that takes in `n` and spits out the n-th Fibonacci number, and I wanted my function to be well-commented and fool-proof (what if someone entered a negative value of n?), it would look something like this. Study each line, and think of what it does. Also watch the indenting associated with each group of code (python automatically indents, but it's good practice to watch when you code)."
   ]
  },
  {
   "cell_type": "code",
   "execution_count": 41,
   "metadata": {},
   "outputs": [],
   "source": [
    "# function fibo(n) takes in a positive integer n and returns the nth fibonacci number starting at 0\n",
    "def fibo(n):\n",
    "    a=0    # initial 'previous' number\n",
    "    b=1    # initial 'current' number\n",
    "    if n<1:       # branch corresponding to n=0 or smaller\n",
    "        print('provide n that is greater than 0')\n",
    "    elif n==1:      # branch corresponding to n=1\n",
    "        return 0  # fibo(1) returns 0\n",
    "    elif n==2:    # branch corresponding to n=2\n",
    "        return 1  # fibo(2) returns 1\n",
    "    else:         # branch corresponding to n=3 and beyond\n",
    "        for i in range(3,n+1):   # range includes 3, and runs until n, doesn't include n+1 \n",
    "            b+=a   # new 'current' number as sum of old current and previous\n",
    "            a=b-a  # redefine new 'previous' number\n",
    "        return b"
   ]
  },
  {
   "cell_type": "markdown",
   "metadata": {},
   "source": [
    "If you understand every line above, run it and then run `fibo(n)` for different values of `n` (including negative numbers) and see what you get..."
   ]
  },
  {
   "cell_type": "code",
   "execution_count": 42,
   "metadata": {},
   "outputs": [
    {
     "data": {
      "text/plain": [
       "34"
      ]
     },
     "execution_count": 42,
     "metadata": {},
     "output_type": "execute_result"
    }
   ],
   "source": [
    "fibo(10)"
   ]
  },
  {
   "cell_type": "markdown",
   "metadata": {},
   "source": [
    "You can also do opreations directy on the n-th Fibonacci number. For example, if you need the ratio of the 20th Fibonacci number with the 19th number, you would just type `fibo(20)/fibo(19)` etc. See exercise problem 6.\n",
    "\n",
    "\n",
    "Alternatively, you can use python's 'object-oriented' approach to storing values. This means that lists are stored as 'objects' on which you can perform operations like `append` using the dot operator. If you wanted to generate a list of N fibonacci numbers, the following code is more succinct and elegant. "
   ]
  },
  {
   "cell_type": "code",
   "execution_count": 43,
   "metadata": {},
   "outputs": [],
   "source": [
    "# function to generate a list that contains first N fibonnaci numbers\n",
    "# does not check for negative n etc: we can add all that like above\n",
    "\n",
    "def fibo_list(n):\n",
    "    fibo_list=[0,1,1]\n",
    "    for i in range(n-3):\n",
    "        fibo_list.append(fibo_list[-1]+fibo_list[-2])\n",
    "    return fibo_list"
   ]
  },
  {
   "cell_type": "markdown",
   "metadata": {},
   "source": [
    "Recall that `fibo_list[-k]` is the k-th entry from the end. Running `fibo_list(n)` generates a list:"
   ]
  },
  {
   "cell_type": "code",
   "execution_count": 44,
   "metadata": {},
   "outputs": [
    {
     "data": {
      "text/plain": [
       "[0, 1, 1, 2, 3, 5, 8, 13, 21, 34]"
      ]
     },
     "execution_count": 44,
     "metadata": {},
     "output_type": "execute_result"
    }
   ],
   "source": [
    "fibo_list(10)"
   ]
  },
  {
   "cell_type": "markdown",
   "metadata": {},
   "source": [
    "Lists, however, are not ideal for mathematical operations like vector-matrix calculations. We will then need the `array` data type that we will see next week."
   ]
  },
  {
   "cell_type": "markdown",
   "metadata": {},
   "source": [
    "<a id='exer'></a>\n",
    "\n",
    "\n",
    "\n",
    "\n",
    "\n",
    "## Practice problems"
   ]
  },
  {
   "cell_type": "markdown",
   "metadata": {},
   "source": [
    "(1) The solutions of the quadratic equation $a x^2 + b x +c =0$ are given by $$x=\\frac{-b\\pm\\sqrt{b^2-4ac}}{2a} .$$ Write a python function that `quadratic_soln(a,b,c)` which returns the solution given $a$, $b$, and $c$.\n",
    "\n",
    "Also write a single-line `lambda` function `quadratic_soln_single(a,b,c)` to only return the bigger root given the quadratic coefficients."
   ]
  },
  {
   "cell_type": "code",
   "execution_count": null,
   "metadata": {},
   "outputs": [],
   "source": []
  },
  {
   "cell_type": "markdown",
   "metadata": {},
   "source": [
    "(2) Write a function `sphere(r)` that takes in the radius and spits out two outputs: the volume and the surface are of a sphere with radius $r$."
   ]
  },
  {
   "cell_type": "code",
   "execution_count": null,
   "metadata": {},
   "outputs": [],
   "source": []
  },
  {
   "cell_type": "markdown",
   "metadata": {},
   "source": [
    "(3) Write a function `myfunc(x)` that will take the the input $x$, check if it's a positive number, and run a loop to add up the square roots from $0$ to $x$ if it's positive, and return the sum."
   ]
  },
  {
   "cell_type": "code",
   "execution_count": null,
   "metadata": {},
   "outputs": [],
   "source": []
  },
  {
   "cell_type": "markdown",
   "metadata": {},
   "source": [
    "(4) The Taylor series expansion for the exponential function is $$e^x=\\sum_{i=0}^\\infty \\frac{x^i}{i!} = 1+x+\\frac{x^2}{2}+\\frac{x^3}{6}+...$$ If $x$ is small, a few terms are sufficient to get a good approximation. Write a function that takes $x$ as input and returns the Taylor series approximation for 10 terms. See how good this approximation is compared to the actual value of the exponential (obtained directly via `np.exp(x)`) for $x=0.1$, $0.5$, and $1$. How does this error change if we only sum to the first 3 terms in the series approximation?\n",
    "\n",
    "Factorial is implement as `np.math.factorial(i)`... always google or look up numpy documentation online for help when you are unsure of syntax. Our goal is not to memorize syntax but to be able to develop algorithms and apply the code."
   ]
  },
  {
   "cell_type": "code",
   "execution_count": null,
   "metadata": {},
   "outputs": [],
   "source": []
  },
  {
   "cell_type": "markdown",
   "metadata": {},
   "source": [
    "(5) Same as (2) but for the $\\sin(x)$ function: $$\\sin(x)=\\sum_{i=0}^{\\infty} (-1)^{i}~\\frac{x^{2i+1}}{(2i+1)!} = x-\\frac{x^3}{6}+\\frac{x^5}{120} -...$$"
   ]
  },
  {
   "cell_type": "code",
   "execution_count": null,
   "metadata": {},
   "outputs": [],
   "source": []
  },
  {
   "cell_type": "markdown",
   "metadata": {},
   "source": [
    "(6) Modify `quadratic_soln(a,b,c)` in (1) to check if the solutions are negative, and return only the positive solutions. "
   ]
  },
  {
   "cell_type": "code",
   "execution_count": null,
   "metadata": {},
   "outputs": [],
   "source": []
  },
  {
   "cell_type": "markdown",
   "metadata": {},
   "source": [
    "(7) You can use the previously defined `fibo(n)` to do operations like adding the 10th and 20th Fibonacci directly: try `fibo(10)+fibo(20)`. A curious property of the Fibonacci sequence is that the ratio of the (n+1)th number to the n-th number approaches the golden ratio (1.61803...) as n is large!\n",
    "\n",
    "Write a loop that evaluate the ratio of a Fibonacci number with the previous Fibonacci number until the ratio is within one millionth of a decimal point (0.000001) of the golden ratio, formally defined as $$\\phi=\\frac{1+\\sqrt{5}}{2}.$$ Would you use a `for` or a `while` loop? Why? How many numbers into the sequence does the ratio coverge to within a millionth of a decimal point of $\\phi$?\n",
    "\n",
    "Hint: You might consider using the absolute value function `abs()` ..."
   ]
  },
  {
   "cell_type": "code",
   "execution_count": null,
   "metadata": {},
   "outputs": [],
   "source": []
  }
 ],
 "metadata": {
  "kernelspec": {
   "display_name": "Python 3",
   "language": "python",
   "name": "python3"
  },
  "language_info": {
   "codemirror_mode": {
    "name": "ipython",
    "version": 3
   },
   "file_extension": ".py",
   "mimetype": "text/x-python",
   "name": "python",
   "nbconvert_exporter": "python",
   "pygments_lexer": "ipython3",
   "version": "3.7.6"
  }
 },
 "nbformat": 4,
 "nbformat_minor": 4
}
